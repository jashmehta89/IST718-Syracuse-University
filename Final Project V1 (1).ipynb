{
 "cells": [
  {
   "cell_type": "code",
   "execution_count": 52,
   "metadata": {
    "collapsed": true
   },
   "outputs": [],
   "source": [
    "%matplotlib inline \n",
    "from sklearn.neighbors import KNeighborsRegressor\n",
    "from sklearn.cross_validation import cross_val_score, ShuffleSplit, train_test_split\n",
    "from sklearn.datasets import load_boston\n",
    "from sklearn.feature_selection import SelectKBest, f_regression\n",
    "from sklearn.ensemble import RandomForestRegressor\n",
    "from sklearn.metrics import mean_squared_error\n",
    "from sklearn import svm\n",
    "from sklearn import linear_model\n",
    "import pandas as pd\n",
    "import numpy as np\n",
    "\n",
    "%matplotlib inline\n",
    "#import seaborn as sns\n",
    "#sns.set_style(\"white\")\n",
    "import matplotlib as mpl\n",
    "import matplotlib.pyplot as plt\n",
    "import numpy as np\n",
    "import warnings\n",
    "warnings.filterwarnings(\"ignore\")"
   ]
  },
  {
   "cell_type": "markdown",
   "metadata": {},
   "source": [
    "# Step 1(a): Importing Dataset\n",
    "This is IMDB movie dataset which is downloaded from Kaggle. \n",
    "\n",
    "A bit about the dataset:\n",
    "- 28 variables for 5043 movies \n",
    "\n",
    "- Below are the 28 variables:\n",
    "- \"movie_title\" \"color\" \"num_critic_for_reviews\" \"movie_facebook_likes\" \"duration\" \"director_name\" \"director_facebook_likes\" \"actor_3_name\" \"actor_3_facebook_likes\" \"actor_2_name\" \"actor_2_facebook_likes\" \"actor_1_name\" \"actor_1_facebook_likes\" \"gross\" \"genres\" \"num_voted_users\" \"cast_total_facebook_likes\" \"facenumber_in_poster\" \"plot_keywords\" \"movie_imdb_link\" \"num_user_for_reviews\" \"language\" \"country\" \"content_rating\" \"budget\" \"title_year\" \"imdb_score\" \"aspect_ratio\""
   ]
  },
  {
   "cell_type": "code",
   "execution_count": 53,
   "metadata": {
    "collapsed": true
   },
   "outputs": [],
   "source": [
    "import pandas as pd\n",
    "datasource = pd.read_csv('file://localhost/C:/Users/jashm/Desktop/718P/movie_metadata.csv', delimiter=',')\n",
    "\n",
    "datasource = datasource.dropna(how='any')  #Removing all the rows with Null/NaN values. \n",
    "#This step is done because NaN values in features will give an error when we try to fit linear regression model."
   ]
  },
  {
   "cell_type": "code",
   "execution_count": 54,
   "metadata": {
    "collapsed": false,
    "scrolled": false
   },
   "outputs": [
    {
     "data": {
      "text/html": [
       "<div>\n",
       "<table border=\"1\" class=\"dataframe\">\n",
       "  <thead>\n",
       "    <tr style=\"text-align: right;\">\n",
       "      <th></th>\n",
       "      <th>color</th>\n",
       "      <th>director_name</th>\n",
       "      <th>num_critic_for_reviews</th>\n",
       "      <th>duration</th>\n",
       "      <th>director_facebook_likes</th>\n",
       "      <th>actor_3_facebook_likes</th>\n",
       "      <th>actor_2_name</th>\n",
       "      <th>actor_1_facebook_likes</th>\n",
       "      <th>gross</th>\n",
       "      <th>genres</th>\n",
       "      <th>...</th>\n",
       "      <th>num_user_for_reviews</th>\n",
       "      <th>language</th>\n",
       "      <th>country</th>\n",
       "      <th>content_rating</th>\n",
       "      <th>budget</th>\n",
       "      <th>title_year</th>\n",
       "      <th>actor_2_facebook_likes</th>\n",
       "      <th>imdb_score</th>\n",
       "      <th>aspect_ratio</th>\n",
       "      <th>movie_facebook_likes</th>\n",
       "    </tr>\n",
       "  </thead>\n",
       "  <tbody>\n",
       "    <tr>\n",
       "      <th>0</th>\n",
       "      <td>Color</td>\n",
       "      <td>James Cameron</td>\n",
       "      <td>723.0</td>\n",
       "      <td>178.0</td>\n",
       "      <td>0.0</td>\n",
       "      <td>855.0</td>\n",
       "      <td>Joel David Moore</td>\n",
       "      <td>1000.0</td>\n",
       "      <td>760505847.0</td>\n",
       "      <td>Action|Adventure|Fantasy|Sci-Fi</td>\n",
       "      <td>...</td>\n",
       "      <td>3054.0</td>\n",
       "      <td>English</td>\n",
       "      <td>USA</td>\n",
       "      <td>PG-13</td>\n",
       "      <td>237000000.0</td>\n",
       "      <td>2009.0</td>\n",
       "      <td>936.0</td>\n",
       "      <td>7.9</td>\n",
       "      <td>1.78</td>\n",
       "      <td>33000</td>\n",
       "    </tr>\n",
       "    <tr>\n",
       "      <th>1</th>\n",
       "      <td>Color</td>\n",
       "      <td>Gore Verbinski</td>\n",
       "      <td>302.0</td>\n",
       "      <td>169.0</td>\n",
       "      <td>563.0</td>\n",
       "      <td>1000.0</td>\n",
       "      <td>Orlando Bloom</td>\n",
       "      <td>40000.0</td>\n",
       "      <td>309404152.0</td>\n",
       "      <td>Action|Adventure|Fantasy</td>\n",
       "      <td>...</td>\n",
       "      <td>1238.0</td>\n",
       "      <td>English</td>\n",
       "      <td>USA</td>\n",
       "      <td>PG-13</td>\n",
       "      <td>300000000.0</td>\n",
       "      <td>2007.0</td>\n",
       "      <td>5000.0</td>\n",
       "      <td>7.1</td>\n",
       "      <td>2.35</td>\n",
       "      <td>0</td>\n",
       "    </tr>\n",
       "    <tr>\n",
       "      <th>2</th>\n",
       "      <td>Color</td>\n",
       "      <td>Sam Mendes</td>\n",
       "      <td>602.0</td>\n",
       "      <td>148.0</td>\n",
       "      <td>0.0</td>\n",
       "      <td>161.0</td>\n",
       "      <td>Rory Kinnear</td>\n",
       "      <td>11000.0</td>\n",
       "      <td>200074175.0</td>\n",
       "      <td>Action|Adventure|Thriller</td>\n",
       "      <td>...</td>\n",
       "      <td>994.0</td>\n",
       "      <td>English</td>\n",
       "      <td>UK</td>\n",
       "      <td>PG-13</td>\n",
       "      <td>245000000.0</td>\n",
       "      <td>2015.0</td>\n",
       "      <td>393.0</td>\n",
       "      <td>6.8</td>\n",
       "      <td>2.35</td>\n",
       "      <td>85000</td>\n",
       "    </tr>\n",
       "    <tr>\n",
       "      <th>3</th>\n",
       "      <td>Color</td>\n",
       "      <td>Christopher Nolan</td>\n",
       "      <td>813.0</td>\n",
       "      <td>164.0</td>\n",
       "      <td>22000.0</td>\n",
       "      <td>23000.0</td>\n",
       "      <td>Christian Bale</td>\n",
       "      <td>27000.0</td>\n",
       "      <td>448130642.0</td>\n",
       "      <td>Action|Thriller</td>\n",
       "      <td>...</td>\n",
       "      <td>2701.0</td>\n",
       "      <td>English</td>\n",
       "      <td>USA</td>\n",
       "      <td>PG-13</td>\n",
       "      <td>250000000.0</td>\n",
       "      <td>2012.0</td>\n",
       "      <td>23000.0</td>\n",
       "      <td>8.5</td>\n",
       "      <td>2.35</td>\n",
       "      <td>164000</td>\n",
       "    </tr>\n",
       "    <tr>\n",
       "      <th>5</th>\n",
       "      <td>Color</td>\n",
       "      <td>Andrew Stanton</td>\n",
       "      <td>462.0</td>\n",
       "      <td>132.0</td>\n",
       "      <td>475.0</td>\n",
       "      <td>530.0</td>\n",
       "      <td>Samantha Morton</td>\n",
       "      <td>640.0</td>\n",
       "      <td>73058679.0</td>\n",
       "      <td>Action|Adventure|Sci-Fi</td>\n",
       "      <td>...</td>\n",
       "      <td>738.0</td>\n",
       "      <td>English</td>\n",
       "      <td>USA</td>\n",
       "      <td>PG-13</td>\n",
       "      <td>263700000.0</td>\n",
       "      <td>2012.0</td>\n",
       "      <td>632.0</td>\n",
       "      <td>6.6</td>\n",
       "      <td>2.35</td>\n",
       "      <td>24000</td>\n",
       "    </tr>\n",
       "  </tbody>\n",
       "</table>\n",
       "<p>5 rows × 28 columns</p>\n",
       "</div>"
      ],
      "text/plain": [
       "   color      director_name  num_critic_for_reviews  duration  \\\n",
       "0  Color      James Cameron                   723.0     178.0   \n",
       "1  Color     Gore Verbinski                   302.0     169.0   \n",
       "2  Color         Sam Mendes                   602.0     148.0   \n",
       "3  Color  Christopher Nolan                   813.0     164.0   \n",
       "5  Color     Andrew Stanton                   462.0     132.0   \n",
       "\n",
       "   director_facebook_likes  actor_3_facebook_likes      actor_2_name  \\\n",
       "0                      0.0                   855.0  Joel David Moore   \n",
       "1                    563.0                  1000.0     Orlando Bloom   \n",
       "2                      0.0                   161.0      Rory Kinnear   \n",
       "3                  22000.0                 23000.0    Christian Bale   \n",
       "5                    475.0                   530.0   Samantha Morton   \n",
       "\n",
       "   actor_1_facebook_likes        gross                           genres  \\\n",
       "0                  1000.0  760505847.0  Action|Adventure|Fantasy|Sci-Fi   \n",
       "1                 40000.0  309404152.0         Action|Adventure|Fantasy   \n",
       "2                 11000.0  200074175.0        Action|Adventure|Thriller   \n",
       "3                 27000.0  448130642.0                  Action|Thriller   \n",
       "5                   640.0   73058679.0          Action|Adventure|Sci-Fi   \n",
       "\n",
       "          ...          num_user_for_reviews language  country  content_rating  \\\n",
       "0         ...                        3054.0  English      USA           PG-13   \n",
       "1         ...                        1238.0  English      USA           PG-13   \n",
       "2         ...                         994.0  English       UK           PG-13   \n",
       "3         ...                        2701.0  English      USA           PG-13   \n",
       "5         ...                         738.0  English      USA           PG-13   \n",
       "\n",
       "        budget  title_year actor_2_facebook_likes imdb_score  aspect_ratio  \\\n",
       "0  237000000.0      2009.0                  936.0        7.9          1.78   \n",
       "1  300000000.0      2007.0                 5000.0        7.1          2.35   \n",
       "2  245000000.0      2015.0                  393.0        6.8          2.35   \n",
       "3  250000000.0      2012.0                23000.0        8.5          2.35   \n",
       "5  263700000.0      2012.0                  632.0        6.6          2.35   \n",
       "\n",
       "  movie_facebook_likes  \n",
       "0                33000  \n",
       "1                    0  \n",
       "2                85000  \n",
       "3               164000  \n",
       "5                24000  \n",
       "\n",
       "[5 rows x 28 columns]"
      ]
     },
     "execution_count": 54,
     "metadata": {},
     "output_type": "execute_result"
    }
   ],
   "source": [
    "datasource.head()\n"
   ]
  },
  {
   "cell_type": "code",
   "execution_count": 55,
   "metadata": {
    "collapsed": false
   },
   "outputs": [
    {
     "data": {
      "text/plain": [
       "3756"
      ]
     },
     "execution_count": 55,
     "metadata": {},
     "output_type": "execute_result"
    }
   ],
   "source": [
    "datasource.shape[0] #Actual Dataset from Kaggle had 5043 rows, after removing the NaN values there are 3756 rows in the dataframe."
   ]
  },
  {
   "cell_type": "code",
   "execution_count": 56,
   "metadata": {
    "collapsed": false
   },
   "outputs": [
    {
     "data": {
      "text/plain": [
       "28"
      ]
     },
     "execution_count": 56,
     "metadata": {},
     "output_type": "execute_result"
    }
   ],
   "source": [
    "datasource.shape[1] # 28 columns in the dataframe"
   ]
  },
  {
   "cell_type": "markdown",
   "metadata": {},
   "source": [
    "After looking at the dataset, we have decided to predict *imdb_score* (Label/Target).\n",
    "Also, we need to consider only those features which have numerical values in them because features  which have text value (for e.g. \"director_name\", \"actor_2_name\" etc ) in them will not fit into the models."
   ]
  },
  {
   "cell_type": "markdown",
   "metadata": {},
   "source": [
    "# Step 1(b): Feature & Label Preparation\n",
    "\n",
    "From the \"datasource\" Dataframe, we are only fetching features/columns which contain Numerical values, we are storing this into a dataframe called as \"Features\". \n",
    "\n",
    "Secondly, we are storing our label \"imdb_score\" into the dataframe called \"Label\"."
   ]
  },
  {
   "cell_type": "code",
   "execution_count": 57,
   "metadata": {
    "collapsed": true
   },
   "outputs": [],
   "source": [
    "Features=datasource[[2,3,4,5,7,8,12,13,18,22,24,26,27]] "
   ]
  },
  {
   "cell_type": "code",
   "execution_count": 58,
   "metadata": {
    "collapsed": false
   },
   "outputs": [
    {
     "data": {
      "text/plain": [
       "pandas.core.frame.DataFrame"
      ]
     },
     "execution_count": 58,
     "metadata": {},
     "output_type": "execute_result"
    }
   ],
   "source": [
    "type(Features)"
   ]
  },
  {
   "cell_type": "code",
   "execution_count": 59,
   "metadata": {
    "collapsed": false
   },
   "outputs": [
    {
     "data": {
      "text/html": [
       "<div>\n",
       "<table border=\"1\" class=\"dataframe\">\n",
       "  <thead>\n",
       "    <tr style=\"text-align: right;\">\n",
       "      <th></th>\n",
       "      <th>num_critic_for_reviews</th>\n",
       "      <th>duration</th>\n",
       "      <th>director_facebook_likes</th>\n",
       "      <th>actor_3_facebook_likes</th>\n",
       "      <th>actor_1_facebook_likes</th>\n",
       "      <th>gross</th>\n",
       "      <th>num_voted_users</th>\n",
       "      <th>cast_total_facebook_likes</th>\n",
       "      <th>num_user_for_reviews</th>\n",
       "      <th>budget</th>\n",
       "      <th>actor_2_facebook_likes</th>\n",
       "      <th>aspect_ratio</th>\n",
       "      <th>movie_facebook_likes</th>\n",
       "    </tr>\n",
       "  </thead>\n",
       "  <tbody>\n",
       "    <tr>\n",
       "      <th>0</th>\n",
       "      <td>723.0</td>\n",
       "      <td>178.0</td>\n",
       "      <td>0.0</td>\n",
       "      <td>855.0</td>\n",
       "      <td>1000.0</td>\n",
       "      <td>760505847.0</td>\n",
       "      <td>886204</td>\n",
       "      <td>4834</td>\n",
       "      <td>3054.0</td>\n",
       "      <td>237000000.0</td>\n",
       "      <td>936.0</td>\n",
       "      <td>1.78</td>\n",
       "      <td>33000</td>\n",
       "    </tr>\n",
       "    <tr>\n",
       "      <th>1</th>\n",
       "      <td>302.0</td>\n",
       "      <td>169.0</td>\n",
       "      <td>563.0</td>\n",
       "      <td>1000.0</td>\n",
       "      <td>40000.0</td>\n",
       "      <td>309404152.0</td>\n",
       "      <td>471220</td>\n",
       "      <td>48350</td>\n",
       "      <td>1238.0</td>\n",
       "      <td>300000000.0</td>\n",
       "      <td>5000.0</td>\n",
       "      <td>2.35</td>\n",
       "      <td>0</td>\n",
       "    </tr>\n",
       "    <tr>\n",
       "      <th>2</th>\n",
       "      <td>602.0</td>\n",
       "      <td>148.0</td>\n",
       "      <td>0.0</td>\n",
       "      <td>161.0</td>\n",
       "      <td>11000.0</td>\n",
       "      <td>200074175.0</td>\n",
       "      <td>275868</td>\n",
       "      <td>11700</td>\n",
       "      <td>994.0</td>\n",
       "      <td>245000000.0</td>\n",
       "      <td>393.0</td>\n",
       "      <td>2.35</td>\n",
       "      <td>85000</td>\n",
       "    </tr>\n",
       "    <tr>\n",
       "      <th>3</th>\n",
       "      <td>813.0</td>\n",
       "      <td>164.0</td>\n",
       "      <td>22000.0</td>\n",
       "      <td>23000.0</td>\n",
       "      <td>27000.0</td>\n",
       "      <td>448130642.0</td>\n",
       "      <td>1144337</td>\n",
       "      <td>106759</td>\n",
       "      <td>2701.0</td>\n",
       "      <td>250000000.0</td>\n",
       "      <td>23000.0</td>\n",
       "      <td>2.35</td>\n",
       "      <td>164000</td>\n",
       "    </tr>\n",
       "    <tr>\n",
       "      <th>5</th>\n",
       "      <td>462.0</td>\n",
       "      <td>132.0</td>\n",
       "      <td>475.0</td>\n",
       "      <td>530.0</td>\n",
       "      <td>640.0</td>\n",
       "      <td>73058679.0</td>\n",
       "      <td>212204</td>\n",
       "      <td>1873</td>\n",
       "      <td>738.0</td>\n",
       "      <td>263700000.0</td>\n",
       "      <td>632.0</td>\n",
       "      <td>2.35</td>\n",
       "      <td>24000</td>\n",
       "    </tr>\n",
       "  </tbody>\n",
       "</table>\n",
       "</div>"
      ],
      "text/plain": [
       "   num_critic_for_reviews  duration  director_facebook_likes  \\\n",
       "0                   723.0     178.0                      0.0   \n",
       "1                   302.0     169.0                    563.0   \n",
       "2                   602.0     148.0                      0.0   \n",
       "3                   813.0     164.0                  22000.0   \n",
       "5                   462.0     132.0                    475.0   \n",
       "\n",
       "   actor_3_facebook_likes  actor_1_facebook_likes        gross  \\\n",
       "0                   855.0                  1000.0  760505847.0   \n",
       "1                  1000.0                 40000.0  309404152.0   \n",
       "2                   161.0                 11000.0  200074175.0   \n",
       "3                 23000.0                 27000.0  448130642.0   \n",
       "5                   530.0                   640.0   73058679.0   \n",
       "\n",
       "   num_voted_users  cast_total_facebook_likes  num_user_for_reviews  \\\n",
       "0           886204                       4834                3054.0   \n",
       "1           471220                      48350                1238.0   \n",
       "2           275868                      11700                 994.0   \n",
       "3          1144337                     106759                2701.0   \n",
       "5           212204                       1873                 738.0   \n",
       "\n",
       "        budget  actor_2_facebook_likes  aspect_ratio  movie_facebook_likes  \n",
       "0  237000000.0                   936.0          1.78                 33000  \n",
       "1  300000000.0                  5000.0          2.35                     0  \n",
       "2  245000000.0                   393.0          2.35                 85000  \n",
       "3  250000000.0                 23000.0          2.35                164000  \n",
       "5  263700000.0                   632.0          2.35                 24000  "
      ]
     },
     "execution_count": 59,
     "metadata": {},
     "output_type": "execute_result"
    }
   ],
   "source": [
    "Features.head()"
   ]
  },
  {
   "cell_type": "code",
   "execution_count": 60,
   "metadata": {
    "collapsed": true
   },
   "outputs": [],
   "source": [
    "Label=datasource[[25]]"
   ]
  },
  {
   "cell_type": "code",
   "execution_count": 61,
   "metadata": {
    "collapsed": true
   },
   "outputs": [],
   "source": [
    "LabelMatrix = Label.as_matrix()\n",
    "FeaturesMatrix = Features.as_matrix()"
   ]
  },
  {
   "cell_type": "markdown",
   "metadata": {},
   "source": [
    "# Step 1(c): Renaming\n",
    "- Features --> IMDB_Features_df\n",
    "- Label --> IMDB_Label_df\n",
    "- IMDB_Features_df + IMDB_Label_df --> IMDB_df"
   ]
  },
  {
   "cell_type": "code",
   "execution_count": 62,
   "metadata": {
    "collapsed": false
   },
   "outputs": [],
   "source": [
    "IMDB_Features_df = pd.DataFrame(Features, columns= [\"num_critic_for_reviews\",\"duration\",\"director_facebook_likes\",\n",
    "                                                    \"actor_3_facebook_likes\",\"actor_1_facebook_likes\",\"gross\",\"num_voted_users\",\n",
    "                                                    \"cast_total_facebook_likes\",\"num_user_for_reviews\",\"budget\",\n",
    "                                                     \"actor_2_facebook_likes\",\"aspect_ratio\",\"movie_facebook_likes\"])\n",
    "\n"
   ]
  },
  {
   "cell_type": "code",
   "execution_count": 63,
   "metadata": {
    "collapsed": true
   },
   "outputs": [],
   "source": [
    "IMDB_Label_df = pd.DataFrame(Label, columns= [\"imdb_score\"])"
   ]
  },
  {
   "cell_type": "code",
   "execution_count": 64,
   "metadata": {
    "collapsed": false
   },
   "outputs": [],
   "source": [
    "#IMDB_Label_df.head()"
   ]
  },
  {
   "cell_type": "code",
   "execution_count": 65,
   "metadata": {
    "collapsed": true
   },
   "outputs": [],
   "source": [
    "IMDB_df = IMDB_Features_df"
   ]
  },
  {
   "cell_type": "code",
   "execution_count": 66,
   "metadata": {
    "collapsed": true
   },
   "outputs": [],
   "source": [
    "IMDB_df = pd.concat((IMDB_Features_df, IMDB_Label_df), axis=1)"
   ]
  },
  {
   "cell_type": "code",
   "execution_count": 67,
   "metadata": {
    "collapsed": false
   },
   "outputs": [],
   "source": [
    "#IMDB_df.head()"
   ]
  },
  {
   "cell_type": "code",
   "execution_count": 68,
   "metadata": {
    "collapsed": false
   },
   "outputs": [
    {
     "name": "stdout",
     "output_type": "stream",
     "text": [
      "Number of observations: 3756\n",
      "Number of features 14\n"
     ]
    }
   ],
   "source": [
    "print (\"Number of observations: {}\\nNumber of features {}\".\\\n",
    "    format(IMDB_df.shape[0], IMDB_df.shape[1]))"
   ]
  },
  {
   "cell_type": "code",
   "execution_count": 69,
   "metadata": {
    "collapsed": false
   },
   "outputs": [
    {
     "data": {
      "text/html": [
       "<div>\n",
       "<table border=\"1\" class=\"dataframe\">\n",
       "  <thead>\n",
       "    <tr style=\"text-align: right;\">\n",
       "      <th></th>\n",
       "      <th>num_critic_for_reviews</th>\n",
       "      <th>duration</th>\n",
       "      <th>director_facebook_likes</th>\n",
       "      <th>actor_3_facebook_likes</th>\n",
       "      <th>actor_1_facebook_likes</th>\n",
       "      <th>gross</th>\n",
       "      <th>num_voted_users</th>\n",
       "      <th>cast_total_facebook_likes</th>\n",
       "      <th>num_user_for_reviews</th>\n",
       "      <th>budget</th>\n",
       "      <th>actor_2_facebook_likes</th>\n",
       "      <th>aspect_ratio</th>\n",
       "      <th>movie_facebook_likes</th>\n",
       "      <th>imdb_score</th>\n",
       "    </tr>\n",
       "  </thead>\n",
       "  <tbody>\n",
       "    <tr>\n",
       "      <th>0</th>\n",
       "      <td>723.0</td>\n",
       "      <td>178.0</td>\n",
       "      <td>0.0</td>\n",
       "      <td>855.0</td>\n",
       "      <td>1000.0</td>\n",
       "      <td>760505847.0</td>\n",
       "      <td>886204</td>\n",
       "      <td>4834</td>\n",
       "      <td>3054.0</td>\n",
       "      <td>237000000.0</td>\n",
       "      <td>936.0</td>\n",
       "      <td>1.78</td>\n",
       "      <td>33000</td>\n",
       "      <td>7.9</td>\n",
       "    </tr>\n",
       "    <tr>\n",
       "      <th>1</th>\n",
       "      <td>302.0</td>\n",
       "      <td>169.0</td>\n",
       "      <td>563.0</td>\n",
       "      <td>1000.0</td>\n",
       "      <td>40000.0</td>\n",
       "      <td>309404152.0</td>\n",
       "      <td>471220</td>\n",
       "      <td>48350</td>\n",
       "      <td>1238.0</td>\n",
       "      <td>300000000.0</td>\n",
       "      <td>5000.0</td>\n",
       "      <td>2.35</td>\n",
       "      <td>0</td>\n",
       "      <td>7.1</td>\n",
       "    </tr>\n",
       "    <tr>\n",
       "      <th>2</th>\n",
       "      <td>602.0</td>\n",
       "      <td>148.0</td>\n",
       "      <td>0.0</td>\n",
       "      <td>161.0</td>\n",
       "      <td>11000.0</td>\n",
       "      <td>200074175.0</td>\n",
       "      <td>275868</td>\n",
       "      <td>11700</td>\n",
       "      <td>994.0</td>\n",
       "      <td>245000000.0</td>\n",
       "      <td>393.0</td>\n",
       "      <td>2.35</td>\n",
       "      <td>85000</td>\n",
       "      <td>6.8</td>\n",
       "    </tr>\n",
       "    <tr>\n",
       "      <th>3</th>\n",
       "      <td>813.0</td>\n",
       "      <td>164.0</td>\n",
       "      <td>22000.0</td>\n",
       "      <td>23000.0</td>\n",
       "      <td>27000.0</td>\n",
       "      <td>448130642.0</td>\n",
       "      <td>1144337</td>\n",
       "      <td>106759</td>\n",
       "      <td>2701.0</td>\n",
       "      <td>250000000.0</td>\n",
       "      <td>23000.0</td>\n",
       "      <td>2.35</td>\n",
       "      <td>164000</td>\n",
       "      <td>8.5</td>\n",
       "    </tr>\n",
       "    <tr>\n",
       "      <th>5</th>\n",
       "      <td>462.0</td>\n",
       "      <td>132.0</td>\n",
       "      <td>475.0</td>\n",
       "      <td>530.0</td>\n",
       "      <td>640.0</td>\n",
       "      <td>73058679.0</td>\n",
       "      <td>212204</td>\n",
       "      <td>1873</td>\n",
       "      <td>738.0</td>\n",
       "      <td>263700000.0</td>\n",
       "      <td>632.0</td>\n",
       "      <td>2.35</td>\n",
       "      <td>24000</td>\n",
       "      <td>6.6</td>\n",
       "    </tr>\n",
       "  </tbody>\n",
       "</table>\n",
       "</div>"
      ],
      "text/plain": [
       "   num_critic_for_reviews  duration  director_facebook_likes  \\\n",
       "0                   723.0     178.0                      0.0   \n",
       "1                   302.0     169.0                    563.0   \n",
       "2                   602.0     148.0                      0.0   \n",
       "3                   813.0     164.0                  22000.0   \n",
       "5                   462.0     132.0                    475.0   \n",
       "\n",
       "   actor_3_facebook_likes  actor_1_facebook_likes        gross  \\\n",
       "0                   855.0                  1000.0  760505847.0   \n",
       "1                  1000.0                 40000.0  309404152.0   \n",
       "2                   161.0                 11000.0  200074175.0   \n",
       "3                 23000.0                 27000.0  448130642.0   \n",
       "5                   530.0                   640.0   73058679.0   \n",
       "\n",
       "   num_voted_users  cast_total_facebook_likes  num_user_for_reviews  \\\n",
       "0           886204                       4834                3054.0   \n",
       "1           471220                      48350                1238.0   \n",
       "2           275868                      11700                 994.0   \n",
       "3          1144337                     106759                2701.0   \n",
       "5           212204                       1873                 738.0   \n",
       "\n",
       "        budget  actor_2_facebook_likes  aspect_ratio  movie_facebook_likes  \\\n",
       "0  237000000.0                   936.0          1.78                 33000   \n",
       "1  300000000.0                  5000.0          2.35                     0   \n",
       "2  245000000.0                   393.0          2.35                 85000   \n",
       "3  250000000.0                 23000.0          2.35                164000   \n",
       "5  263700000.0                   632.0          2.35                 24000   \n",
       "\n",
       "   imdb_score  \n",
       "0         7.9  \n",
       "1         7.1  \n",
       "2         6.8  \n",
       "3         8.5  \n",
       "5         6.6  "
      ]
     },
     "execution_count": 69,
     "metadata": {},
     "output_type": "execute_result"
    }
   ],
   "source": [
    "IMDB_df.head()"
   ]
  },
  {
   "cell_type": "markdown",
   "metadata": {},
   "source": [
    "# Finding out the Accuracy of Linear Regression for all features"
   ]
  },
  {
   "cell_type": "code",
   "execution_count": 70,
   "metadata": {
    "collapsed": false
   },
   "outputs": [
    {
     "name": "stdout",
     "output_type": "stream",
     "text": [
      "Linear Regression Accuracy all Features: 0.19 (+/- 0.27)\n"
     ]
    }
   ],
   "source": [
    "# baseline - what's the score of all the features? Answer: Not very good. we can do better.\n",
    "scores = cross_val_score(linear_model.LinearRegression(), IMDB_Features_df, IMDB_Label_df, scoring='r2') # mean_squared_error\n",
    "print(\"Linear Regression Accuracy all Features: %0.2f (+/- %0.2f)\" % (scores.mean(), scores.std() * 2))\n",
    "\n",
    "#We are going to further select best features and then try to find out the accuracy again"
   ]
  },
  {
   "cell_type": "markdown",
   "metadata": {},
   "source": [
    "# Step 2: Select Best Features \n",
    "\n",
    "We are going to use three methods to select the best features for predicting \"imdb_score\"\n",
    "\n",
    "The three methods for getting scores for features are: Pearson, SelectKBest and RandomForestRegressor"
   ]
  },
  {
   "cell_type": "markdown",
   "metadata": {},
   "source": [
    "# Step 2(a) : Pearson\n",
    "Finding out features which are correlated with the label"
   ]
  },
  {
   "cell_type": "code",
   "execution_count": 71,
   "metadata": {
    "collapsed": false
   },
   "outputs": [
    {
     "data": {
      "text/html": [
       "<div>\n",
       "<table border=\"1\" class=\"dataframe\">\n",
       "  <thead>\n",
       "    <tr style=\"text-align: right;\">\n",
       "      <th></th>\n",
       "      <th>num_critic_for_reviews</th>\n",
       "      <th>duration</th>\n",
       "      <th>director_facebook_likes</th>\n",
       "      <th>actor_3_facebook_likes</th>\n",
       "      <th>actor_1_facebook_likes</th>\n",
       "      <th>gross</th>\n",
       "      <th>num_voted_users</th>\n",
       "      <th>cast_total_facebook_likes</th>\n",
       "      <th>num_user_for_reviews</th>\n",
       "      <th>budget</th>\n",
       "      <th>actor_2_facebook_likes</th>\n",
       "      <th>aspect_ratio</th>\n",
       "      <th>movie_facebook_likes</th>\n",
       "      <th>imdb_score</th>\n",
       "    </tr>\n",
       "  </thead>\n",
       "  <tbody>\n",
       "    <tr>\n",
       "      <th>num_critic_for_reviews</th>\n",
       "      <td>1.000000</td>\n",
       "      <td>0.228631</td>\n",
       "      <td>0.175128</td>\n",
       "      <td>0.252782</td>\n",
       "      <td>0.165986</td>\n",
       "      <td>0.464187</td>\n",
       "      <td>0.592473</td>\n",
       "      <td>0.236533</td>\n",
       "      <td>0.563684</td>\n",
       "      <td>0.104717</td>\n",
       "      <td>0.253125</td>\n",
       "      <td>0.180230</td>\n",
       "      <td>0.705226</td>\n",
       "      <td>0.347886</td>\n",
       "    </tr>\n",
       "    <tr>\n",
       "      <th>duration</th>\n",
       "      <td>0.228631</td>\n",
       "      <td>1.000000</td>\n",
       "      <td>0.180644</td>\n",
       "      <td>0.125797</td>\n",
       "      <td>0.083632</td>\n",
       "      <td>0.245726</td>\n",
       "      <td>0.339592</td>\n",
       "      <td>0.120179</td>\n",
       "      <td>0.351595</td>\n",
       "      <td>0.068012</td>\n",
       "      <td>0.128935</td>\n",
       "      <td>0.153027</td>\n",
       "      <td>0.215303</td>\n",
       "      <td>0.366221</td>\n",
       "    </tr>\n",
       "    <tr>\n",
       "      <th>director_facebook_likes</th>\n",
       "      <td>0.175128</td>\n",
       "      <td>0.180644</td>\n",
       "      <td>1.000000</td>\n",
       "      <td>0.117405</td>\n",
       "      <td>0.089630</td>\n",
       "      <td>0.138351</td>\n",
       "      <td>0.299624</td>\n",
       "      <td>0.118547</td>\n",
       "      <td>0.217103</td>\n",
       "      <td>0.018167</td>\n",
       "      <td>0.116058</td>\n",
       "      <td>0.037528</td>\n",
       "      <td>0.161962</td>\n",
       "      <td>0.192314</td>\n",
       "    </tr>\n",
       "    <tr>\n",
       "      <th>actor_3_facebook_likes</th>\n",
       "      <td>0.252782</td>\n",
       "      <td>0.125797</td>\n",
       "      <td>0.117405</td>\n",
       "      <td>1.000000</td>\n",
       "      <td>0.252408</td>\n",
       "      <td>0.299864</td>\n",
       "      <td>0.267762</td>\n",
       "      <td>0.489795</td>\n",
       "      <td>0.205343</td>\n",
       "      <td>0.039966</td>\n",
       "      <td>0.553755</td>\n",
       "      <td>0.046356</td>\n",
       "      <td>0.271508</td>\n",
       "      <td>0.065544</td>\n",
       "    </tr>\n",
       "    <tr>\n",
       "      <th>actor_1_facebook_likes</th>\n",
       "      <td>0.165986</td>\n",
       "      <td>0.083632</td>\n",
       "      <td>0.089630</td>\n",
       "      <td>0.252408</td>\n",
       "      <td>1.000000</td>\n",
       "      <td>0.144010</td>\n",
       "      <td>0.179590</td>\n",
       "      <td>0.944813</td>\n",
       "      <td>0.121935</td>\n",
       "      <td>0.016418</td>\n",
       "      <td>0.391166</td>\n",
       "      <td>0.056946</td>\n",
       "      <td>0.130300</td>\n",
       "      <td>0.093597</td>\n",
       "    </tr>\n",
       "    <tr>\n",
       "      <th>gross</th>\n",
       "      <td>0.464187</td>\n",
       "      <td>0.245726</td>\n",
       "      <td>0.138351</td>\n",
       "      <td>0.299864</td>\n",
       "      <td>0.144010</td>\n",
       "      <td>1.000000</td>\n",
       "      <td>0.624949</td>\n",
       "      <td>0.235601</td>\n",
       "      <td>0.544674</td>\n",
       "      <td>0.099496</td>\n",
       "      <td>0.252842</td>\n",
       "      <td>0.063946</td>\n",
       "      <td>0.366933</td>\n",
       "      <td>0.214740</td>\n",
       "    </tr>\n",
       "    <tr>\n",
       "      <th>num_voted_users</th>\n",
       "      <td>0.592473</td>\n",
       "      <td>0.339592</td>\n",
       "      <td>0.299624</td>\n",
       "      <td>0.267762</td>\n",
       "      <td>0.179590</td>\n",
       "      <td>0.624949</td>\n",
       "      <td>1.000000</td>\n",
       "      <td>0.249119</td>\n",
       "      <td>0.778881</td>\n",
       "      <td>0.065927</td>\n",
       "      <td>0.244822</td>\n",
       "      <td>0.084626</td>\n",
       "      <td>0.517751</td>\n",
       "      <td>0.482430</td>\n",
       "    </tr>\n",
       "    <tr>\n",
       "      <th>cast_total_facebook_likes</th>\n",
       "      <td>0.236533</td>\n",
       "      <td>0.120179</td>\n",
       "      <td>0.118547</td>\n",
       "      <td>0.489795</td>\n",
       "      <td>0.944813</td>\n",
       "      <td>0.235601</td>\n",
       "      <td>0.249119</td>\n",
       "      <td>1.000000</td>\n",
       "      <td>0.178675</td>\n",
       "      <td>0.028682</td>\n",
       "      <td>0.642991</td>\n",
       "      <td>0.068952</td>\n",
       "      <td>0.205564</td>\n",
       "      <td>0.106803</td>\n",
       "    </tr>\n",
       "    <tr>\n",
       "      <th>num_user_for_reviews</th>\n",
       "      <td>0.563684</td>\n",
       "      <td>0.351595</td>\n",
       "      <td>0.217103</td>\n",
       "      <td>0.205343</td>\n",
       "      <td>0.121935</td>\n",
       "      <td>0.544674</td>\n",
       "      <td>0.778881</td>\n",
       "      <td>0.178675</td>\n",
       "      <td>1.000000</td>\n",
       "      <td>0.070372</td>\n",
       "      <td>0.187016</td>\n",
       "      <td>0.098109</td>\n",
       "      <td>0.370465</td>\n",
       "      <td>0.325003</td>\n",
       "    </tr>\n",
       "    <tr>\n",
       "      <th>budget</th>\n",
       "      <td>0.104717</td>\n",
       "      <td>0.068012</td>\n",
       "      <td>0.018167</td>\n",
       "      <td>0.039966</td>\n",
       "      <td>0.016418</td>\n",
       "      <td>0.099496</td>\n",
       "      <td>0.065927</td>\n",
       "      <td>0.028682</td>\n",
       "      <td>0.070372</td>\n",
       "      <td>1.000000</td>\n",
       "      <td>0.035715</td>\n",
       "      <td>0.025264</td>\n",
       "      <td>0.052490</td>\n",
       "      <td>0.029190</td>\n",
       "    </tr>\n",
       "    <tr>\n",
       "      <th>actor_2_facebook_likes</th>\n",
       "      <td>0.253125</td>\n",
       "      <td>0.128935</td>\n",
       "      <td>0.116058</td>\n",
       "      <td>0.553755</td>\n",
       "      <td>0.391166</td>\n",
       "      <td>0.252842</td>\n",
       "      <td>0.244822</td>\n",
       "      <td>0.642991</td>\n",
       "      <td>0.187016</td>\n",
       "      <td>0.035715</td>\n",
       "      <td>1.000000</td>\n",
       "      <td>0.063951</td>\n",
       "      <td>0.232769</td>\n",
       "      <td>0.102372</td>\n",
       "    </tr>\n",
       "    <tr>\n",
       "      <th>aspect_ratio</th>\n",
       "      <td>0.180230</td>\n",
       "      <td>0.153027</td>\n",
       "      <td>0.037528</td>\n",
       "      <td>0.046356</td>\n",
       "      <td>0.056946</td>\n",
       "      <td>0.063946</td>\n",
       "      <td>0.084626</td>\n",
       "      <td>0.068952</td>\n",
       "      <td>0.098109</td>\n",
       "      <td>0.025264</td>\n",
       "      <td>0.063951</td>\n",
       "      <td>1.000000</td>\n",
       "      <td>0.110118</td>\n",
       "      <td>0.029979</td>\n",
       "    </tr>\n",
       "    <tr>\n",
       "      <th>movie_facebook_likes</th>\n",
       "      <td>0.705226</td>\n",
       "      <td>0.215303</td>\n",
       "      <td>0.161962</td>\n",
       "      <td>0.271508</td>\n",
       "      <td>0.130300</td>\n",
       "      <td>0.366933</td>\n",
       "      <td>0.517751</td>\n",
       "      <td>0.205564</td>\n",
       "      <td>0.370465</td>\n",
       "      <td>0.052490</td>\n",
       "      <td>0.232769</td>\n",
       "      <td>0.110118</td>\n",
       "      <td>1.000000</td>\n",
       "      <td>0.281155</td>\n",
       "    </tr>\n",
       "    <tr>\n",
       "      <th>imdb_score</th>\n",
       "      <td>0.347886</td>\n",
       "      <td>0.366221</td>\n",
       "      <td>0.192314</td>\n",
       "      <td>0.065544</td>\n",
       "      <td>0.093597</td>\n",
       "      <td>0.214740</td>\n",
       "      <td>0.482430</td>\n",
       "      <td>0.106803</td>\n",
       "      <td>0.325003</td>\n",
       "      <td>0.029190</td>\n",
       "      <td>0.102372</td>\n",
       "      <td>0.029979</td>\n",
       "      <td>0.281155</td>\n",
       "      <td>1.000000</td>\n",
       "    </tr>\n",
       "  </tbody>\n",
       "</table>\n",
       "</div>"
      ],
      "text/plain": [
       "                           num_critic_for_reviews  duration  \\\n",
       "num_critic_for_reviews                   1.000000  0.228631   \n",
       "duration                                 0.228631  1.000000   \n",
       "director_facebook_likes                  0.175128  0.180644   \n",
       "actor_3_facebook_likes                   0.252782  0.125797   \n",
       "actor_1_facebook_likes                   0.165986  0.083632   \n",
       "gross                                    0.464187  0.245726   \n",
       "num_voted_users                          0.592473  0.339592   \n",
       "cast_total_facebook_likes                0.236533  0.120179   \n",
       "num_user_for_reviews                     0.563684  0.351595   \n",
       "budget                                   0.104717  0.068012   \n",
       "actor_2_facebook_likes                   0.253125  0.128935   \n",
       "aspect_ratio                             0.180230  0.153027   \n",
       "movie_facebook_likes                     0.705226  0.215303   \n",
       "imdb_score                               0.347886  0.366221   \n",
       "\n",
       "                           director_facebook_likes  actor_3_facebook_likes  \\\n",
       "num_critic_for_reviews                    0.175128                0.252782   \n",
       "duration                                  0.180644                0.125797   \n",
       "director_facebook_likes                   1.000000                0.117405   \n",
       "actor_3_facebook_likes                    0.117405                1.000000   \n",
       "actor_1_facebook_likes                    0.089630                0.252408   \n",
       "gross                                     0.138351                0.299864   \n",
       "num_voted_users                           0.299624                0.267762   \n",
       "cast_total_facebook_likes                 0.118547                0.489795   \n",
       "num_user_for_reviews                      0.217103                0.205343   \n",
       "budget                                    0.018167                0.039966   \n",
       "actor_2_facebook_likes                    0.116058                0.553755   \n",
       "aspect_ratio                              0.037528                0.046356   \n",
       "movie_facebook_likes                      0.161962                0.271508   \n",
       "imdb_score                                0.192314                0.065544   \n",
       "\n",
       "                           actor_1_facebook_likes     gross  num_voted_users  \\\n",
       "num_critic_for_reviews                   0.165986  0.464187         0.592473   \n",
       "duration                                 0.083632  0.245726         0.339592   \n",
       "director_facebook_likes                  0.089630  0.138351         0.299624   \n",
       "actor_3_facebook_likes                   0.252408  0.299864         0.267762   \n",
       "actor_1_facebook_likes                   1.000000  0.144010         0.179590   \n",
       "gross                                    0.144010  1.000000         0.624949   \n",
       "num_voted_users                          0.179590  0.624949         1.000000   \n",
       "cast_total_facebook_likes                0.944813  0.235601         0.249119   \n",
       "num_user_for_reviews                     0.121935  0.544674         0.778881   \n",
       "budget                                   0.016418  0.099496         0.065927   \n",
       "actor_2_facebook_likes                   0.391166  0.252842         0.244822   \n",
       "aspect_ratio                             0.056946  0.063946         0.084626   \n",
       "movie_facebook_likes                     0.130300  0.366933         0.517751   \n",
       "imdb_score                               0.093597  0.214740         0.482430   \n",
       "\n",
       "                           cast_total_facebook_likes  num_user_for_reviews  \\\n",
       "num_critic_for_reviews                      0.236533              0.563684   \n",
       "duration                                    0.120179              0.351595   \n",
       "director_facebook_likes                     0.118547              0.217103   \n",
       "actor_3_facebook_likes                      0.489795              0.205343   \n",
       "actor_1_facebook_likes                      0.944813              0.121935   \n",
       "gross                                       0.235601              0.544674   \n",
       "num_voted_users                             0.249119              0.778881   \n",
       "cast_total_facebook_likes                   1.000000              0.178675   \n",
       "num_user_for_reviews                        0.178675              1.000000   \n",
       "budget                                      0.028682              0.070372   \n",
       "actor_2_facebook_likes                      0.642991              0.187016   \n",
       "aspect_ratio                                0.068952              0.098109   \n",
       "movie_facebook_likes                        0.205564              0.370465   \n",
       "imdb_score                                  0.106803              0.325003   \n",
       "\n",
       "                             budget  actor_2_facebook_likes  aspect_ratio  \\\n",
       "num_critic_for_reviews     0.104717                0.253125      0.180230   \n",
       "duration                   0.068012                0.128935      0.153027   \n",
       "director_facebook_likes    0.018167                0.116058      0.037528   \n",
       "actor_3_facebook_likes     0.039966                0.553755      0.046356   \n",
       "actor_1_facebook_likes     0.016418                0.391166      0.056946   \n",
       "gross                      0.099496                0.252842      0.063946   \n",
       "num_voted_users            0.065927                0.244822      0.084626   \n",
       "cast_total_facebook_likes  0.028682                0.642991      0.068952   \n",
       "num_user_for_reviews       0.070372                0.187016      0.098109   \n",
       "budget                     1.000000                0.035715      0.025264   \n",
       "actor_2_facebook_likes     0.035715                1.000000      0.063951   \n",
       "aspect_ratio               0.025264                0.063951      1.000000   \n",
       "movie_facebook_likes       0.052490                0.232769      0.110118   \n",
       "imdb_score                 0.029190                0.102372      0.029979   \n",
       "\n",
       "                           movie_facebook_likes  imdb_score  \n",
       "num_critic_for_reviews                 0.705226    0.347886  \n",
       "duration                               0.215303    0.366221  \n",
       "director_facebook_likes                0.161962    0.192314  \n",
       "actor_3_facebook_likes                 0.271508    0.065544  \n",
       "actor_1_facebook_likes                 0.130300    0.093597  \n",
       "gross                                  0.366933    0.214740  \n",
       "num_voted_users                        0.517751    0.482430  \n",
       "cast_total_facebook_likes              0.205564    0.106803  \n",
       "num_user_for_reviews                   0.370465    0.325003  \n",
       "budget                                 0.052490    0.029190  \n",
       "actor_2_facebook_likes                 0.232769    0.102372  \n",
       "aspect_ratio                           0.110118    0.029979  \n",
       "movie_facebook_likes                   1.000000    0.281155  \n",
       "imdb_score                             0.281155    1.000000  "
      ]
     },
     "execution_count": 71,
     "metadata": {},
     "output_type": "execute_result"
    }
   ],
   "source": [
    "IMDB_df.corr(method='pearson') # We are getting similar results for - pearson, kendall, spearman\n",
    "# Top 3 Features:\n",
    "#num_voted_users\n",
    "#duration\n",
    "#num_critic_for_reviews"
   ]
  },
  {
   "cell_type": "markdown",
   "metadata": {},
   "source": [
    "# Step 2(b) : SelectKBest"
   ]
  },
  {
   "cell_type": "code",
   "execution_count": 21,
   "metadata": {
    "collapsed": false
   },
   "outputs": [],
   "source": [
    "# Return the 2 features with highest variance \n",
    "IMDB_best2 = SelectKBest(f_regression, k=2).fit_transform(IMDB_Features_df, IMDB_Label_df) "
   ]
  },
  {
   "cell_type": "code",
   "execution_count": 22,
   "metadata": {
    "collapsed": false
   },
   "outputs": [
    {
     "data": {
      "text/plain": [
       "array([[  1.78000000e+02,   8.86204000e+05],\n",
       "       [  1.69000000e+02,   4.71220000e+05],\n",
       "       [  1.48000000e+02,   2.75868000e+05],\n",
       "       ..., \n",
       "       [  7.70000000e+01,   7.26390000e+04],\n",
       "       [  8.10000000e+01,   5.20550000e+04],\n",
       "       [  9.00000000e+01,   4.28500000e+03]])"
      ]
     },
     "execution_count": 22,
     "metadata": {},
     "output_type": "execute_result"
    }
   ],
   "source": [
    "IMDB_best2 \n",
    "#Top 2 features \n",
    "# duration\n",
    "# num_voted_users"
   ]
  },
  {
   "cell_type": "markdown",
   "metadata": {},
   "source": [
    "# Step 2(c) : Random Forest Regressor"
   ]
  },
  {
   "cell_type": "code",
   "execution_count": 26,
   "metadata": {
    "collapsed": true
   },
   "outputs": [],
   "source": [
    "names1=[\"num_critic_for_reviews\",\"duration\",\"director_facebook_likes\",\"actor_3_facebook_likes\",\"actor_1_facebook_likes\",\"gross\",\"num_voted_users\",\n",
    "              \"cast_total_facebook_likes\",\"num_user_for_reviews\",\"budget\",\"actor_2_facebook_likes\",\n",
    "          \"aspect_ratio\",\"movie_facebook_likes\"]"
   ]
  },
  {
   "cell_type": "code",
   "execution_count": 27,
   "metadata": {
    "collapsed": false
   },
   "outputs": [
    {
     "data": {
      "text/html": [
       "<div>\n",
       "<table border=\"1\" class=\"dataframe\">\n",
       "  <thead>\n",
       "    <tr style=\"text-align: right;\">\n",
       "      <th></th>\n",
       "      <th>score</th>\n",
       "      <th>feature</th>\n",
       "    </tr>\n",
       "  </thead>\n",
       "  <tbody>\n",
       "    <tr>\n",
       "      <th>6</th>\n",
       "      <td>0.260176</td>\n",
       "      <td>num_voted_users</td>\n",
       "    </tr>\n",
       "    <tr>\n",
       "      <th>12</th>\n",
       "      <td>0.173516</td>\n",
       "      <td>movie_facebook_likes</td>\n",
       "    </tr>\n",
       "    <tr>\n",
       "      <th>1</th>\n",
       "      <td>0.166633</td>\n",
       "      <td>duration</td>\n",
       "    </tr>\n",
       "    <tr>\n",
       "      <th>0</th>\n",
       "      <td>0.131083</td>\n",
       "      <td>num_critic_for_reviews</td>\n",
       "    </tr>\n",
       "    <tr>\n",
       "      <th>8</th>\n",
       "      <td>0.128111</td>\n",
       "      <td>num_user_for_reviews</td>\n",
       "    </tr>\n",
       "    <tr>\n",
       "      <th>2</th>\n",
       "      <td>0.119189</td>\n",
       "      <td>director_facebook_likes</td>\n",
       "    </tr>\n",
       "    <tr>\n",
       "      <th>4</th>\n",
       "      <td>0.054754</td>\n",
       "      <td>actor_1_facebook_likes</td>\n",
       "    </tr>\n",
       "    <tr>\n",
       "      <th>5</th>\n",
       "      <td>0.050381</td>\n",
       "      <td>gross</td>\n",
       "    </tr>\n",
       "    <tr>\n",
       "      <th>7</th>\n",
       "      <td>0.050083</td>\n",
       "      <td>cast_total_facebook_likes</td>\n",
       "    </tr>\n",
       "    <tr>\n",
       "      <th>10</th>\n",
       "      <td>0.029234</td>\n",
       "      <td>actor_2_facebook_likes</td>\n",
       "    </tr>\n",
       "    <tr>\n",
       "      <th>9</th>\n",
       "      <td>0.024094</td>\n",
       "      <td>budget</td>\n",
       "    </tr>\n",
       "    <tr>\n",
       "      <th>11</th>\n",
       "      <td>0.012817</td>\n",
       "      <td>aspect_ratio</td>\n",
       "    </tr>\n",
       "    <tr>\n",
       "      <th>3</th>\n",
       "      <td>0.011990</td>\n",
       "      <td>actor_3_facebook_likes</td>\n",
       "    </tr>\n",
       "  </tbody>\n",
       "</table>\n",
       "</div>"
      ],
      "text/plain": [
       "       score                    feature\n",
       "6   0.260176            num_voted_users\n",
       "12  0.173516       movie_facebook_likes\n",
       "1   0.166633                   duration\n",
       "0   0.131083     num_critic_for_reviews\n",
       "8   0.128111       num_user_for_reviews\n",
       "2   0.119189    director_facebook_likes\n",
       "4   0.054754     actor_1_facebook_likes\n",
       "5   0.050381                      gross\n",
       "7   0.050083  cast_total_facebook_likes\n",
       "10  0.029234     actor_2_facebook_likes\n",
       "9   0.024094                     budget\n",
       "11  0.012817               aspect_ratio\n",
       "3   0.011990     actor_3_facebook_likes"
      ]
     },
     "execution_count": 27,
     "metadata": {},
     "output_type": "execute_result"
    }
   ],
   "source": [
    "# univariate feature selection using Random Forest Regressor\n",
    "# this is a different approach, but confirms our best two features\n",
    "rf = RandomForestRegressor(n_estimators=20, max_depth=4)\n",
    "scores1 = []\n",
    "for i in range(FeaturesMatrix.shape[1]):\n",
    "     score = cross_val_score(rf, FeaturesMatrix[:, i:i+1], LabelMatrix, scoring=\"r2\",  #'mean_squared_error' sklearn impl is negative.\n",
    "                              cv=ShuffleSplit(n=len(FeaturesMatrix), n_iter=10, test_size=.1))\n",
    "     scores1.append((round(np.mean(score), 10), names1[i]))\n",
    "scores1_df = pd.DataFrame(scores1, columns = ['score', 'feature'])\n",
    "scores1_df.sort_values(['score'], ascending=False)"
   ]
  },
  {
   "cell_type": "markdown",
   "metadata": {},
   "source": [
    "\n",
    "1) As we notice that after the top six features, the scores is drastically decreasing. \n",
    "\n",
    "2) (a) We see some common features from the previous methods: *num_voted_users* and *duration*.\n",
    "\n",
    "2) (b) We are going to use *num_voted_users* to fit the model, \n",
    "\n",
    "2) (c) then we will use *num_voted_users* and *duration*, \n",
    "\n",
    "2) (d) finally we will use the top 6 features from Random Forest Regressor: *num_voted_users, movie_facebook_likes, duration, director_facebook_likes, num_user_for_reviews, num_critic_for_reviews*"
   ]
  },
  {
   "cell_type": "markdown",
   "metadata": {},
   "source": [
    "# Step 3 : Splitting the dataset into Train, Test, Validation Dataset"
   ]
  },
  {
   "cell_type": "markdown",
   "metadata": {},
   "source": [
    "Initial Split: Train:80% , Test: 10% , Vaidation: 10%"
   ]
  },
  {
   "cell_type": "code",
   "execution_count": 236,
   "metadata": {
    "collapsed": true
   },
   "outputs": [],
   "source": [
    "from sklearn.cross_validation import train_test_split"
   ]
  },
  {
   "cell_type": "code",
   "execution_count": 237,
   "metadata": {
    "collapsed": false
   },
   "outputs": [],
   "source": [
    "X_train_validation, X_test, y_train_validation, y_test = train_test_split(IMDB_Features_df, \n",
    "                                                                          IMDB_Label_df, \n",
    "                                                                          test_size = 0.1, \n",
    "                                                                          random_state = 0)"
   ]
  },
  {
   "cell_type": "code",
   "execution_count": 238,
   "metadata": {
    "collapsed": true
   },
   "outputs": [],
   "source": [
    "X_train, X_validation, y_train, y_validation = train_test_split(X_train_validation, \n",
    "                                                                y_train_validation, \n",
    "                                                                test_size = 0.1, \n",
    "                                                                random_state = 0)\n"
   ]
  },
  {
   "cell_type": "code",
   "execution_count": 239,
   "metadata": {
    "collapsed": false
   },
   "outputs": [
    {
     "data": {
      "text/plain": [
       "(3042, 376, 338)"
      ]
     },
     "execution_count": 239,
     "metadata": {},
     "output_type": "execute_result"
    }
   ],
   "source": [
    "len(X_train),len(X_test), len(X_validation)"
   ]
  },
  {
   "cell_type": "markdown",
   "metadata": {},
   "source": [
    "Train:70% , Test: 20% , Vaidation: 10%"
   ]
  },
  {
   "cell_type": "code",
   "execution_count": 240,
   "metadata": {
    "collapsed": true
   },
   "outputs": [],
   "source": [
    "X_train_validation1, X_test1, y_train_validation1, y_test1 = train_test_split(IMDB_Features_df, \n",
    "                                                                          IMDB_Label_df, \n",
    "                                                                          test_size = 0.2, \n",
    "                                                                          random_state = 0)\n"
   ]
  },
  {
   "cell_type": "code",
   "execution_count": 241,
   "metadata": {
    "collapsed": true
   },
   "outputs": [],
   "source": [
    "\n",
    "X_train1, X_validation1, y_train1, y_validation1 = train_test_split(X_train_validation1, \n",
    "                                                                y_train_validation1, \n",
    "                                                                test_size = 0.1, \n",
    "                                                                random_state = 0)"
   ]
  },
  {
   "cell_type": "code",
   "execution_count": 242,
   "metadata": {
    "collapsed": false
   },
   "outputs": [
    {
     "data": {
      "text/plain": [
       "(2703, 752, 301)"
      ]
     },
     "execution_count": 242,
     "metadata": {},
     "output_type": "execute_result"
    }
   ],
   "source": [
    "len(X_train1),len(X_test1), len(X_validation1)"
   ]
  },
  {
   "cell_type": "markdown",
   "metadata": {},
   "source": [
    "Train:50% , Test: 40% "
   ]
  },
  {
   "cell_type": "code",
   "execution_count": 243,
   "metadata": {
    "collapsed": true
   },
   "outputs": [],
   "source": [
    "X_train_validation2, X_test2, y_train_validation2, y_test2 = train_test_split(IMDB_Features_df, \n",
    "                                                                          IMDB_Label_df, \n",
    "                                                                          test_size = 0.4, \n",
    "                                                                          random_state = 0)"
   ]
  },
  {
   "cell_type": "code",
   "execution_count": 244,
   "metadata": {
    "collapsed": true
   },
   "outputs": [],
   "source": [
    "\n",
    "X_train2, X_validation2, y_train2, y_validation2 = train_test_split(X_train_validation2, \n",
    "                                                                y_train_validation2, \n",
    "                                                                test_size = 0.15, \n",
    "                                                                random_state = 0)"
   ]
  },
  {
   "cell_type": "code",
   "execution_count": 245,
   "metadata": {
    "collapsed": false
   },
   "outputs": [
    {
     "data": {
      "text/plain": [
       "(1915, 1503, 338)"
      ]
     },
     "execution_count": 245,
     "metadata": {},
     "output_type": "execute_result"
    }
   ],
   "source": [
    "len(X_train2),len(X_test2), len(X_validation2)"
   ]
  },
  {
   "cell_type": "markdown",
   "metadata": {},
   "source": [
    "Train : 30 % , Test : 60%"
   ]
  },
  {
   "cell_type": "code",
   "execution_count": 246,
   "metadata": {
    "collapsed": true
   },
   "outputs": [],
   "source": [
    "X_train_validation3, X_test3, y_train_validation3, y_test3 = train_test_split(IMDB_Features_df, \n",
    "                                                                          IMDB_Label_df, \n",
    "                                                                          test_size = 0.6, \n",
    "                                                                          random_state = 0)"
   ]
  },
  {
   "cell_type": "code",
   "execution_count": 247,
   "metadata": {
    "collapsed": true
   },
   "outputs": [],
   "source": [
    "\n",
    "X_train3, X_validation3, y_train3, y_validation3 = train_test_split(X_train_validation3, \n",
    "                                                                y_train_validation3, \n",
    "                                                                test_size = 0.2, \n",
    "                                                                random_state = 0)"
   ]
  },
  {
   "cell_type": "code",
   "execution_count": 248,
   "metadata": {
    "collapsed": false
   },
   "outputs": [
    {
     "data": {
      "text/plain": [
       "(1201, 2254, 301)"
      ]
     },
     "execution_count": 248,
     "metadata": {},
     "output_type": "execute_result"
    }
   ],
   "source": [
    "len(X_train3),len(X_test3), len(X_validation3)"
   ]
  },
  {
   "cell_type": "markdown",
   "metadata": {},
   "source": [
    "Train : 15 %,  Test : 80%"
   ]
  },
  {
   "cell_type": "code",
   "execution_count": 249,
   "metadata": {
    "collapsed": true
   },
   "outputs": [],
   "source": [
    "X_train_validation4, X_test4, y_train_validation4, y_test4 = train_test_split(IMDB_Features_df, \n",
    "                                                                          IMDB_Label_df, \n",
    "                                                                          test_size = 0.8, \n",
    "                                                                          random_state = 0)"
   ]
  },
  {
   "cell_type": "code",
   "execution_count": 250,
   "metadata": {
    "collapsed": true
   },
   "outputs": [],
   "source": [
    "\n",
    "X_train4, X_validation4, y_train4, y_validation4 = train_test_split(X_train_validation4, \n",
    "                                                                y_train_validation4, \n",
    "                                                                test_size = 0.2, \n",
    "                                                                random_state = 0)"
   ]
  },
  {
   "cell_type": "code",
   "execution_count": 251,
   "metadata": {
    "collapsed": false
   },
   "outputs": [
    {
     "data": {
      "text/plain": [
       "(600, 3005, 151)"
      ]
     },
     "execution_count": 251,
     "metadata": {},
     "output_type": "execute_result"
    }
   ],
   "source": [
    "len(X_train4),len(X_test4), len(X_validation4)"
   ]
  },
  {
   "cell_type": "markdown",
   "metadata": {},
   "source": [
    "# Feature Set 1 (FS1)"
   ]
  },
  {
   "cell_type": "markdown",
   "metadata": {},
   "source": [
    "num_voted_users\n",
    "RF(1), SelectKBest(2), Pearson(1)"
   ]
  },
  {
   "cell_type": "markdown",
   "metadata": {},
   "source": [
    "# Feature Set 2 (FS2)\n",
    "\n"
   ]
  },
  {
   "cell_type": "markdown",
   "metadata": {},
   "source": [
    "num_voted_users, duration\n",
    "num_voted_users: RF(1), SelectKBest(2), Pearson(1) duration: RF(3), SelectKBest(1), Pearson(2)"
   ]
  },
  {
   "cell_type": "markdown",
   "metadata": {},
   "source": [
    "# Feature Set 3 (FS3) "
   ]
  },
  {
   "cell_type": "markdown",
   "metadata": {},
   "source": [
    "Considering top 6 features from RF: num_voted_users, movie_facebook_likes, duration, director_facebook_likes, num_user_for_reviews, num_critic_for_reviews"
   ]
  },
  {
   "cell_type": "code",
   "execution_count": 252,
   "metadata": {
    "collapsed": false
   },
   "outputs": [],
   "source": [
    "FS1 = pd.DataFrame(IMDB_Features_df[\"num_voted_users\"])"
   ]
  },
  {
   "cell_type": "code",
   "execution_count": 253,
   "metadata": {
    "collapsed": true
   },
   "outputs": [],
   "source": [
    "columns= ['num_voted_users','duration']\n",
    "FS2 = pd.DataFrame(IMDB_Features_df, columns=columns)\n",
    "\n",
    "#columns= ['num_voted_users','movie_facebook_likes','duration','num_critic_for_reviews','num_user_for_reviews','director_facebook_likes']\n"
   ]
  },
  {
   "cell_type": "code",
   "execution_count": 254,
   "metadata": {
    "collapsed": true
   },
   "outputs": [],
   "source": [
    "columns= [\"num_voted_users\", \"movie_facebook_likes\", \"duration\", \"director_facebook_likes\", \"num_user_for_reviews\", \"num_critic_for_reviews\"]\n",
    "FS3 = pd.DataFrame(IMDB_Features_df, columns=columns)"
   ]
  },
  {
   "cell_type": "code",
   "execution_count": 255,
   "metadata": {
    "collapsed": false
   },
   "outputs": [
    {
     "name": "stdout",
     "output_type": "stream",
     "text": [
      " 3-Nearest Neighbors Accuracy: 0.08 (+/- 0.14)\n",
      " 5-Nearest Neighbors Accuracy: 0.14 (+/- 0.08)\n",
      " 7-Nearest Neighbors Accuracy: 0.16 (+/- 0.11)\n",
      " 9-Nearest Neighbors Accuracy: 0.21 (+/- 0.06)\n",
      " Linear Regression Accuracy: 0.30 (+/- 0.05)\n",
      " Decision Tree Accuracy: -0.14 (+/- 0.22)\n",
      " Random Forest Accuracy: 0.35 (+/- 0.08)\n"
     ]
    }
   ],
   "source": [
    "# Let's assess the accuracy of some other models.\n",
    "from sklearn.neighbors import KNeighborsRegressor\n",
    "from sklearn import tree\n",
    "from sklearn.pipeline import Pipeline\n",
    "from sklearn.preprocessing import PolynomialFeatures\n",
    "from sklearn.linear_model import LinearRegression\n",
    "from sklearn.ensemble import RandomForestRegressor\n",
    "nn3_model = KNeighborsRegressor(n_neighbors=3)\n",
    "nn5_model = KNeighborsRegressor(n_neighbors=5)\n",
    "nn7_model = KNeighborsRegressor(n_neighbors=7)\n",
    "nn9_model = KNeighborsRegressor(n_neighbors=9)\n",
    "regr = linear_model.LinearRegression()\n",
    "decision_tree = tree.DecisionTreeRegressor()\n",
    "poly2 = Pipeline([('poly', PolynomialFeatures(degree=2)),('linear', LinearRegression(fit_intercept=False))])\n",
    "poly3 = Pipeline([('poly', PolynomialFeatures(degree=3)),('linear', LinearRegression(fit_intercept=False))])\n",
    "poly4 = Pipeline([('poly', PolynomialFeatures(degree=4)),('linear', LinearRegression(fit_intercept=False))])\n",
    "poly5 = Pipeline([('poly', PolynomialFeatures(degree=5)),('linear', LinearRegression(fit_intercept=False))])\n",
    "rf = RandomForestRegressor()\n",
    "models = [ {'name' : '3-Nearest Neighbors', 'estimator' : nn3_model},\n",
    "          {'name' : '5-Nearest Neighbors', 'estimator' : nn5_model},\n",
    "          {'name' : '7-Nearest Neighbors', 'estimator' : nn7_model},\n",
    "          {'name' : '9-Nearest Neighbors', 'estimator' : nn9_model},\n",
    "          {'name' : 'Linear Regression', 'estimator' : regr},\n",
    "          {'name' : 'Decision Tree', 'estimator' : decision_tree},\n",
    "          {'name' : 'Random Forest', 'estimator' : rf}\n",
    "         ]\n",
    "for model in models:\n",
    "    scores = cross_val_score(model['estimator'], FS3, IMDB_Label_df, cv=ShuffleSplit(n=len(FS3), n_iter=10, test_size=.1), scoring='r2' )\n",
    "    print(\" %s Accuracy: %0.2f (+/- %0.2f)\" % (model['name'], scores.mean(), scores.std() * 2))"
   ]
  },
  {
   "cell_type": "markdown",
   "metadata": {},
   "source": [
    "# Linear Regression Train Test Error"
   ]
  },
  {
   "cell_type": "code",
   "execution_count": 256,
   "metadata": {
    "collapsed": true
   },
   "outputs": [],
   "source": [
    "from sklearn.linear_model import LinearRegression"
   ]
  },
  {
   "cell_type": "code",
   "execution_count": 257,
   "metadata": {
    "collapsed": false
   },
   "outputs": [],
   "source": [
    "model1 = LinearRegression().fit(X_train[['num_voted_users']], y_train)\n",
    "model2 = LinearRegression().fit(X_train[['num_voted_users', 'duration']], y_train)\n",
    "model3 = LinearRegression().fit(X_train[['num_voted_users','movie_facebook_likes','duration','num_critic_for_reviews','num_user_for_reviews','director_facebook_likes']], y_train)\n",
    "\n",
    "\n",
    "\n",
    "model4 = LinearRegression().fit(X_train1[['num_voted_users']], y_train1)\n",
    "model5 = LinearRegression().fit(X_train1[['num_voted_users', 'duration']], y_train1)\n",
    "model6 = LinearRegression().fit(X_train1[['num_voted_users','movie_facebook_likes','duration','num_critic_for_reviews','num_user_for_reviews','director_facebook_likes']], y_train1)\n",
    "\n",
    "\n",
    "\n",
    "model7 = LinearRegression().fit(X_train2[['num_voted_users']], y_train2)\n",
    "model8 = LinearRegression().fit(X_train2[['num_voted_users', 'duration']], y_train2)\n",
    "model9 = LinearRegression().fit(X_train2[['num_voted_users','movie_facebook_likes','duration','num_critic_for_reviews','num_user_for_reviews','director_facebook_likes']], y_train2)\n",
    "\n",
    "\n",
    "model10 = LinearRegression().fit(X_train3[['num_voted_users']], y_train3)\n",
    "model11 = LinearRegression().fit(X_train3[['num_voted_users', 'duration']], y_train3)\n",
    "model12 = LinearRegression().fit(X_train3[['num_voted_users','movie_facebook_likes','duration','num_critic_for_reviews','num_user_for_reviews','director_facebook_likes']], y_train3)\n",
    "\n",
    "model13 = LinearRegression().fit(X_train4[['num_voted_users']], y_train4)\n",
    "model14 = LinearRegression().fit(X_train4[['num_voted_users', 'duration']], y_train4)\n",
    "model15 = LinearRegression().fit(X_train4[['num_voted_users','movie_facebook_likes','duration','num_critic_for_reviews','num_user_for_reviews','director_facebook_likes']], y_train4)\n"
   ]
  },
  {
   "cell_type": "code",
   "execution_count": 258,
   "metadata": {
    "collapsed": false
   },
   "outputs": [],
   "source": [
    "# Let's compute the training MSE\n",
    "model1_train_err = ((model1.predict(X_train[['num_voted_users']]) - y_train)**2).mean()[0]\n",
    "model2_train_err = ((model2.predict(X_train[['num_voted_users', 'duration']]) - y_train)**2).mean()[0]\n",
    "model3_train_err = ((model3.predict(X_train[['num_voted_users','movie_facebook_likes','duration','num_critic_for_reviews','num_user_for_reviews','director_facebook_likes']]) - y_train)**2).mean()[0]\n",
    "\n",
    "model4_train_err = ((model4.predict(X_train1[['num_voted_users']]) - y_train1)**2).mean()[0]\n",
    "model5_train_err = ((model5.predict(X_train1[['num_voted_users', 'duration']]) - y_train1)**2).mean()[0]\n",
    "model6_train_err = ((model6.predict(X_train1[['num_voted_users','movie_facebook_likes','duration','num_critic_for_reviews','num_user_for_reviews','director_facebook_likes']]) - y_train1)**2).mean()[0]\n",
    "\n",
    "model7_train_err = ((model7.predict(X_train2[['num_voted_users']]) - y_train2)**2).mean()[0]\n",
    "model8_train_err = ((model8.predict(X_train2[['num_voted_users', 'duration']]) - y_train2)**2).mean()[0]\n",
    "model9_train_err = ((model9.predict(X_train2[['num_voted_users','movie_facebook_likes','duration','num_critic_for_reviews','num_user_for_reviews','director_facebook_likes']]) - y_train2)**2).mean()[0]\n",
    "\n",
    "model10_train_err = ((model10.predict(X_train3[['num_voted_users']]) - y_train3)**2).mean()[0]\n",
    "model11_train_err = ((model11.predict(X_train3[['num_voted_users', 'duration']]) - y_train3)**2).mean()[0]\n",
    "model12_train_err = ((model12.predict(X_train3[['num_voted_users','movie_facebook_likes','duration','num_critic_for_reviews','num_user_for_reviews','director_facebook_likes']]) - y_train3)**2).mean()[0]\n",
    "\n",
    "\n",
    "model13_train_err = ((model10.predict(X_train4[['num_voted_users']]) - y_train4)**2).mean()[0]\n",
    "model14_train_err = ((model11.predict(X_train4[['num_voted_users', 'duration']]) - y_train4)**2).mean()[0]\n",
    "model15_train_err = ((model12.predict(X_train4[['num_voted_users','movie_facebook_likes','duration','num_critic_for_reviews','num_user_for_reviews','director_facebook_likes']]) - y_train4)**2).mean()[0]\n"
   ]
  },
  {
   "cell_type": "code",
   "execution_count": 259,
   "metadata": {
    "collapsed": false
   },
   "outputs": [
    {
     "data": {
      "text/plain": [
       "[0.84010486354326097, 0.78268345514416027, 0.75290426284622536]"
      ]
     },
     "execution_count": 259,
     "metadata": {},
     "output_type": "execute_result"
    }
   ],
   "source": [
    "[model1_train_err, model2_train_err, model3_train_err] #80%"
   ]
  },
  {
   "cell_type": "code",
   "execution_count": 260,
   "metadata": {
    "collapsed": false
   },
   "outputs": [
    {
     "data": {
      "text/plain": [
       "[0.83854585072727283, 0.78125750120761228, 0.75470490096611176]"
      ]
     },
     "execution_count": 260,
     "metadata": {},
     "output_type": "execute_result"
    }
   ],
   "source": [
    "[model4_train_err, model5_train_err, model6_train_err] #70%"
   ]
  },
  {
   "cell_type": "code",
   "execution_count": 261,
   "metadata": {
    "collapsed": false
   },
   "outputs": [
    {
     "data": {
      "text/plain": [
       "[0.82933012856505495, 0.7648109598952848, 0.73193912113415527]"
      ]
     },
     "execution_count": 261,
     "metadata": {},
     "output_type": "execute_result"
    }
   ],
   "source": [
    "[model10_train_err, model11_train_err, model12_train_err] "
   ]
  },
  {
   "cell_type": "code",
   "execution_count": 262,
   "metadata": {
    "collapsed": false
   },
   "outputs": [
    {
     "data": {
      "text/plain": [
       "[0.76695925960914679, 0.70045443896099813, 0.66896956300956212]"
      ]
     },
     "execution_count": 262,
     "metadata": {},
     "output_type": "execute_result"
    }
   ],
   "source": [
    "[model13_train_err, model14_train_err, model15_train_err] #50%"
   ]
  },
  {
   "cell_type": "code",
   "execution_count": 263,
   "metadata": {
    "collapsed": true
   },
   "outputs": [],
   "source": [
    "model1_validation_err = ((model1.predict(X_validation[['num_voted_users']]) - y_validation)**2).mean()[0]\n",
    "model2_validation_err = ((model2.predict(X_validation[['num_voted_users', 'duration']]) - y_validation)**2).mean()[0]\n",
    "model3_validation_err = ((model3.predict(X_validation[['num_voted_users','movie_facebook_likes','duration','num_critic_for_reviews','num_user_for_reviews','director_facebook_likes']]) - y_validation)**2).mean()[0]\n"
   ]
  },
  {
   "cell_type": "code",
   "execution_count": 264,
   "metadata": {
    "collapsed": false
   },
   "outputs": [
    {
     "data": {
      "text/plain": [
       "[0.97916695577219526, 0.92326782297190735, 0.89889737521284074]"
      ]
     },
     "execution_count": 264,
     "metadata": {},
     "output_type": "execute_result"
    }
   ],
   "source": [
    "[model1_validation_err, model2_validation_err, model3_validation_err]"
   ]
  },
  {
   "cell_type": "code",
   "execution_count": 265,
   "metadata": {
    "collapsed": false
   },
   "outputs": [],
   "source": [
    "model1_test_err = ((model1.predict(X_test[['num_voted_users']]) - y_test)**2).mean()[0]\n",
    "model2_test_err = ((model2.predict(X_test[['num_voted_users','duration']]) - y_test)**2).mean()[0]\n",
    "model3_test_err = ((model3.predict(X_test[['num_voted_users','movie_facebook_likes','duration','num_critic_for_reviews','num_user_for_reviews','director_facebook_likes']]) - y_test)**2).mean()[0]\n",
    "\n",
    "\n",
    "model4_test_err = ((model4.predict(X_test1[['num_voted_users']]) - y_test1)**2).mean()[0]\n",
    "model5_test_err = ((model5.predict(X_test1[['num_voted_users','duration']]) - y_test1)**2).mean()[0]\n",
    "model6_test_err = ((model6.predict(X_test1[['num_voted_users','movie_facebook_likes','duration','num_critic_for_reviews','num_user_for_reviews','director_facebook_likes']]) - y_test1)**2).mean()[0]\n",
    "\n",
    "model7_test_err = ((model7.predict(X_test2[['num_voted_users']]) - y_test2)**2).mean()[0]\n",
    "model8_test_err = ((model8.predict(X_test2[['num_voted_users','duration']]) - y_test2)**2).mean()[0]\n",
    "model9_test_err = ((model9.predict(X_test2[['num_voted_users','movie_facebook_likes','duration','num_critic_for_reviews','num_user_for_reviews','director_facebook_likes']]) - y_test2)**2).mean()[0]\n",
    "\n",
    "model10_test_err = ((model10.predict(X_test3[['num_voted_users']]) - y_test3)**2).mean()[0]\n",
    "model11_test_err = ((model11.predict(X_test3[['num_voted_users','duration']]) - y_test3)**2).mean()[0]\n",
    "model12_test_err = ((model12.predict(X_test3[['num_voted_users','movie_facebook_likes','duration','num_critic_for_reviews','num_user_for_reviews','director_facebook_likes']]) - y_test3)**2).mean()[0]\n",
    "\n",
    "model13_test_err = ((model13.predict(X_test4[['num_voted_users']]) - y_test4)**2).mean()[0]\n",
    "model14_test_err = ((model14.predict(X_test4[['num_voted_users','duration']]) - y_test4)**2).mean()[0]\n",
    "model15_test_err = ((model15.predict(X_test4[['num_voted_users','movie_facebook_likes','duration','num_critic_for_reviews','num_user_for_reviews','director_facebook_likes']]) - y_test4)**2).mean()[0]"
   ]
  },
  {
   "cell_type": "code",
   "execution_count": 266,
   "metadata": {
    "collapsed": false
   },
   "outputs": [
    {
     "data": {
      "text/plain": [
       "[0.84761183631620551, 0.77719046892989763, 0.74931677805763464]"
      ]
     },
     "execution_count": 266,
     "metadata": {},
     "output_type": "execute_result"
    }
   ],
   "source": [
    "[model7_train_err, model8_train_err, model9_train_err] #50%"
   ]
  },
  {
   "cell_type": "code",
   "execution_count": 267,
   "metadata": {
    "collapsed": false
   },
   "outputs": [
    {
     "data": {
      "text/plain": [
       "[0.87175392644886796, 0.87251286753685231, 0.85924613322242194]"
      ]
     },
     "execution_count": 267,
     "metadata": {},
     "output_type": "execute_result"
    }
   ],
   "source": [
    "[model1_test_err,model2_test_err, model3_test_err]"
   ]
  },
  {
   "cell_type": "code",
   "execution_count": 268,
   "metadata": {
    "collapsed": false
   },
   "outputs": [
    {
     "data": {
      "text/plain": [
       "[0.91136563512769697, 0.88919255538156794, 0.85876242842380779]"
      ]
     },
     "execution_count": 268,
     "metadata": {},
     "output_type": "execute_result"
    }
   ],
   "source": [
    "[model4_test_err,model5_test_err, model6_test_err]"
   ]
  },
  {
   "cell_type": "code",
   "execution_count": 269,
   "metadata": {
    "collapsed": false
   },
   "outputs": [
    {
     "data": {
      "text/plain": [
       "[0.8817155234796652, 0.85638686715211743, 0.82716865657879013]"
      ]
     },
     "execution_count": 269,
     "metadata": {},
     "output_type": "execute_result"
    }
   ],
   "source": [
    "[model7_test_err,model8_test_err, model9_test_err]"
   ]
  },
  {
   "cell_type": "code",
   "execution_count": 270,
   "metadata": {
    "collapsed": false
   },
   "outputs": [
    {
     "data": {
      "text/plain": [
       "[0.87302708517863969, 0.83165067451792196, 0.80886987511295727]"
      ]
     },
     "execution_count": 270,
     "metadata": {},
     "output_type": "execute_result"
    }
   ],
   "source": [
    "[model10_test_err,model11_test_err, model12_test_err]"
   ]
  },
  {
   "cell_type": "code",
   "execution_count": 271,
   "metadata": {
    "collapsed": false
   },
   "outputs": [
    {
     "data": {
      "text/plain": [
       "[0.86962649128219627, 0.8239391120877736, 0.79936002846900767]"
      ]
     },
     "execution_count": 271,
     "metadata": {},
     "output_type": "execute_result"
    }
   ],
   "source": [
    "[model13_test_err,model14_test_err, model15_test_err]"
   ]
  },
  {
   "cell_type": "code",
   "execution_count": 272,
   "metadata": {
    "collapsed": false
   },
   "outputs": [
    {
     "data": {
      "text/plain": [
       "0.076930753978802002"
      ]
     },
     "execution_count": 272,
     "metadata": {},
     "output_type": "execute_result"
    }
   ],
   "source": [
    "model12_test_err - model12_train_err"
   ]
  },
  {
   "cell_type": "code",
   "execution_count": 273,
   "metadata": {
    "collapsed": false
   },
   "outputs": [
    {
     "data": {
      "text/plain": [
       "0.077851878521155493"
      ]
     },
     "execution_count": 273,
     "metadata": {},
     "output_type": "execute_result"
    }
   ],
   "source": [
    "model9_test_err - model9_train_err"
   ]
  },
  {
   "cell_type": "markdown",
   "metadata": {},
   "source": [
    "# Finding Training-Testing Converging Point "
   ]
  },
  {
   "cell_type": "code",
   "execution_count": 274,
   "metadata": {
    "collapsed": true
   },
   "outputs": [],
   "source": [
    "performance_train = [model3_train_err,model6_train_err, model9_train_err, model12_train_err,model15_train_err]"
   ]
  },
  {
   "cell_type": "code",
   "execution_count": 275,
   "metadata": {
    "collapsed": true
   },
   "outputs": [],
   "source": [
    "performance_test = [ model3_test_err,  model6_test_err, model9_test_err, model12_test_err, model15_test_err]"
   ]
  },
  {
   "cell_type": "code",
   "execution_count": 276,
   "metadata": {
    "collapsed": true
   },
   "outputs": [],
   "source": [
    "l_set = [80,70,50,30,15]"
   ]
  },
  {
   "cell_type": "code",
   "execution_count": 277,
   "metadata": {
    "collapsed": false
   },
   "outputs": [
    {
     "data": {
      "image/png": "[encoded data removed]",
      "text/plain": [
       "<matplotlib.figure.Figure at 0x1364e7f0>"
      ]
     },
     "metadata": {},
     "output_type": "display_data"
    }
   ],
   "source": [
    "plt.plot(l_set,performance_test, 'b', label='train (Test)')\n",
    "plt.plot(l_set,performance_train, 'g', label='train (Train)')\n",
    "\n",
    "#plt.legend();\n",
    "plt.xlabel('Training size');\n",
    "plt.ylabel('MSE');\n"
   ]
  },
  {
   "cell_type": "markdown",
   "metadata": {},
   "source": [
    "# Random Forest Regressor Train Test Error\n"
   ]
  },
  {
   "cell_type": "code",
   "execution_count": null,
   "metadata": {
    "collapsed": true
   },
   "outputs": [],
   "source": []
  },
  {
   "cell_type": "code",
   "execution_count": 278,
   "metadata": {
    "collapsed": false,
    "scrolled": true
   },
   "outputs": [],
   "source": [
    "model_rf1 = RandomForestRegressor().fit(X_train[[\"num_voted_users\"]],y_train)\n",
    "model_rf2 = RandomForestRegressor().fit(X_train[[\"num_voted_users\",\"duration\"]],y_train)\n",
    "model_rf3 = RandomForestRegressor().fit(X_train[[\"num_voted_users\",\"movie_facebook_likes\",\"duration\",\"num_critic_for_reviews\",\"num_user_for_reviews\",\"director_facebook_likes\"]],y_train)\n",
    "\n",
    "\n",
    "model_rf4 = RandomForestRegressor().fit(X_train1[[\"num_voted_users\"]],y_train1)\n",
    "model_rf5 = RandomForestRegressor().fit(X_train1[[\"num_voted_users\",\"duration\"]],y_train1)\n",
    "model_rf6 = RandomForestRegressor().fit(X_train1[[\"num_voted_users\",\"movie_facebook_likes\",\"duration\",\"num_critic_for_reviews\",\"num_user_for_reviews\",\"director_facebook_likes\"]],y_train1)\n",
    "\n",
    "model_rf7 = RandomForestRegressor().fit(X_train2[[\"num_voted_users\"]],y_train2)\n",
    "model_rf8 = RandomForestRegressor().fit(X_train2[[\"num_voted_users\",\"duration\"]],y_train2)\n",
    "model_rf9 = RandomForestRegressor().fit(X_train2[[\"num_voted_users\",\"movie_facebook_likes\",\"duration\",\"num_critic_for_reviews\",\"num_user_for_reviews\",\"director_facebook_likes\"]],y_train2)\n",
    "\n",
    "model_rf10 = RandomForestRegressor().fit(X_train3[[\"num_voted_users\"]],y_train3)\n",
    "model_rf11 = RandomForestRegressor().fit(X_train3[[\"num_voted_users\",\"duration\"]],y_train3)\n",
    "model_rf12 = RandomForestRegressor().fit(X_train3[[\"num_voted_users\",\"movie_facebook_likes\",\"duration\",\"num_critic_for_reviews\",\"num_user_for_reviews\",\"director_facebook_likes\"]],y_train3)\n",
    "\n",
    "model_rf13 = RandomForestRegressor().fit(X_train4[[\"num_voted_users\"]],y_train4)\n",
    "model_rf14 = RandomForestRegressor().fit(X_train4[[\"num_voted_users\",\"duration\"]],y_train4)\n",
    "model_rf15 = RandomForestRegressor().fit(X_train4[[\"num_voted_users\",\"movie_facebook_likes\",\"duration\",\"num_critic_for_reviews\",\"num_user_for_reviews\",\"director_facebook_likes\"]],y_train4)\n",
    "\n",
    "\n",
    "\n"
   ]
  },
  {
   "cell_type": "code",
   "execution_count": 279,
   "metadata": {
    "collapsed": false
   },
   "outputs": [],
   "source": [
    "temp1 = model_rf1.predict(X_train[[\"num_voted_users\"]])\n",
    "temp2 = model_rf2.predict(X_train[[\"num_voted_users\",\"duration\"]])\n",
    "temp3 = model_rf3.predict(X_train[[\"num_voted_users\",\"movie_facebook_likes\",\"duration\",\"num_critic_for_reviews\",\"num_user_for_reviews\",\"director_facebook_likes\"]])\n",
    "\n",
    "temp4 = model_rf4.predict(X_train[[\"num_voted_users\"]])\n",
    "temp5 = model_rf5.predict(X_train[[\"num_voted_users\",\"duration\"]])\n",
    "temp6 = model_rf6.predict(X_train[[\"num_voted_users\",\"movie_facebook_likes\",\"duration\",\"num_critic_for_reviews\",\"num_user_for_reviews\",\"director_facebook_likes\"]])\n",
    "\n",
    "temp7 = model_rf7.predict(X_train[[\"num_voted_users\"]])\n",
    "temp8 = model_rf8.predict(X_train[[\"num_voted_users\",\"duration\"]])\n",
    "temp9 = model_rf9.predict(X_train[[\"num_voted_users\",\"movie_facebook_likes\",\"duration\",\"num_critic_for_reviews\",\"num_user_for_reviews\",\"director_facebook_likes\"]])\n",
    "\n",
    "temp10 = model_rf10.predict(X_train[[\"num_voted_users\"]])\n",
    "temp11 = model_rf11.predict(X_train[[\"num_voted_users\",\"duration\"]])\n",
    "temp12 = model_rf12.predict(X_train[[\"num_voted_users\",\"movie_facebook_likes\",\"duration\",\"num_critic_for_reviews\",\"num_user_for_reviews\",\"director_facebook_likes\"]])\n",
    "\n",
    "temp13 = model_rf13.predict(X_train[[\"num_voted_users\"]])\n",
    "temp14 = model_rf14.predict(X_train[[\"num_voted_users\",\"duration\"]])\n",
    "temp15 = model_rf15.predict(X_train[[\"num_voted_users\",\"movie_facebook_likes\",\"duration\",\"num_critic_for_reviews\",\"num_user_for_reviews\",\"director_facebook_likes\"]])\n",
    "\n",
    "\n"
   ]
  },
  {
   "cell_type": "code",
   "execution_count": 280,
   "metadata": {
    "collapsed": true
   },
   "outputs": [],
   "source": [
    "numpyMatrix = y_train.as_matrix()\n",
    "\n",
    "numpyMatrix1 = y_train1.as_matrix()\n",
    "\n",
    "numpyMatrix2 = y_train2.as_matrix()\n",
    "\n",
    "numpyMatrix3 = y_train3.as_matrix()\n",
    "\n",
    "numpyMatrix4 = y_train4.as_matrix()\n"
   ]
  },
  {
   "cell_type": "code",
   "execution_count": 281,
   "metadata": {
    "collapsed": true
   },
   "outputs": [],
   "source": [
    "\n",
    "model_rf1_train_err = ((temp1 - numpyMatrix)**2).mean()\n",
    "model_rf2_train_err = ((temp2 - numpyMatrix)**2).mean()\n",
    "model_rf3_train_err = ((temp3 - numpyMatrix)**2).mean()\n",
    "\n",
    "model_rf4_train_err = ((temp4 - numpyMatrix1)**2).mean()\n",
    "model_rf5_train_err = ((temp5 - numpyMatrix1)**2).mean()\n",
    "model_rf6_train_err = ((temp6 - numpyMatrix1)**2).mean()\n",
    "\n",
    "model_rf7_train_err = ((temp7 - numpyMatrix2)**2).mean()\n",
    "model_rf8_train_err = ((temp8 - numpyMatrix2)**2).mean()\n",
    "model_rf9_train_err = ((temp9 - numpyMatrix2)**2).mean()\n",
    "\n",
    "model_rf10_train_err = ((temp10 - numpyMatrix3)**2).mean()\n",
    "model_rf11_train_err = ((temp11 - numpyMatrix3)**2).mean()\n",
    "model_rf12_train_err = ((temp12 - numpyMatrix3)**2).mean()\n",
    "\n",
    "model_rf13_train_err = ((temp13 - numpyMatrix4)**2).mean()\n",
    "model_rf14_train_err = ((temp14 - numpyMatrix4)**2).mean()\n",
    "model_rf15_train_err = ((temp15 - numpyMatrix4)**2).mean()"
   ]
  },
  {
   "cell_type": "code",
   "execution_count": 282,
   "metadata": {
    "collapsed": false
   },
   "outputs": [
    {
     "data": {
      "text/plain": [
       "[1.807675694289087, 1.8302118728119714, 1.8518209154458656]"
      ]
     },
     "execution_count": 282,
     "metadata": {},
     "output_type": "execute_result"
    }
   ],
   "source": [
    "[model_rf1_train_err, model_rf2_train_err, model_rf3_train_err]"
   ]
  },
  {
   "cell_type": "code",
   "execution_count": 283,
   "metadata": {
    "collapsed": false
   },
   "outputs": [
    {
     "data": {
      "text/plain": [
       "[1.7983839925619172, 1.7992887156209643, 1.7888405911395129]"
      ]
     },
     "execution_count": 283,
     "metadata": {},
     "output_type": "execute_result"
    }
   ],
   "source": [
    "[model_rf4_train_err, model_rf5_train_err, model_rf6_train_err]"
   ]
  },
  {
   "cell_type": "code",
   "execution_count": 284,
   "metadata": {
    "collapsed": false
   },
   "outputs": [
    {
     "data": {
      "text/plain": [
       "[1.8636007293916246, 1.8327139536480561, 1.8093120652896002]"
      ]
     },
     "execution_count": 284,
     "metadata": {},
     "output_type": "execute_result"
    }
   ],
   "source": [
    "[model_rf7_train_err, model_rf8_train_err, model_rf9_train_err]"
   ]
  },
  {
   "cell_type": "code",
   "execution_count": 285,
   "metadata": {
    "collapsed": false
   },
   "outputs": [
    {
     "data": {
      "text/plain": [
       "[1.7392933325650697, 1.7063932387047624, 1.6776022252440304]"
      ]
     },
     "execution_count": 285,
     "metadata": {},
     "output_type": "execute_result"
    }
   ],
   "source": [
    "[model_rf10_train_err, model_rf11_train_err, model_rf12_train_err]"
   ]
  },
  {
   "cell_type": "code",
   "execution_count": 286,
   "metadata": {
    "collapsed": false
   },
   "outputs": [
    {
     "data": {
      "text/plain": [
       "[1.6923943151435474, 1.5808728205128202, 1.5805487486302878]"
      ]
     },
     "execution_count": 286,
     "metadata": {},
     "output_type": "execute_result"
    }
   ],
   "source": [
    "[model_rf13_train_err, model_rf14_train_err, model_rf15_train_err]"
   ]
  },
  {
   "cell_type": "code",
   "execution_count": 287,
   "metadata": {
    "collapsed": true
   },
   "outputs": [],
   "source": [
    "Matrix = y_test.as_matrix()\n",
    "Matrix1 = y_test1.as_matrix()\n",
    "Matrix2 = y_test2.as_matrix()\n",
    "Matrix3 = y_test3.as_matrix()\n",
    "Matrix4 = y_test4.as_matrix()\n"
   ]
  },
  {
   "cell_type": "code",
   "execution_count": 288,
   "metadata": {
    "collapsed": false
   },
   "outputs": [],
   "source": [
    "temp_test1 = model_rf1.predict(X_test[[\"num_voted_users\"]])\n",
    "temp_test2 = model_rf2.predict(X_test[[\"num_voted_users\",\"duration\"]])\n",
    "temp_test3 = model_rf3.predict(X_test[[\"num_voted_users\",\"movie_facebook_likes\",\"duration\",\"num_critic_for_reviews\",\"num_user_for_reviews\",\"director_facebook_likes\"]])\n",
    "\n",
    "temp_test4 = model_rf1.predict(X_test1[[\"num_voted_users\"]])\n",
    "temp_test5 = model_rf2.predict(X_test1[[\"num_voted_users\",\"duration\"]])\n",
    "temp_test6 = model_rf3.predict(X_test1[[\"num_voted_users\",\"movie_facebook_likes\",\"duration\",\"num_critic_for_reviews\",\"num_user_for_reviews\",\"director_facebook_likes\"]])\n",
    "\n",
    "temp_test7 = model_rf1.predict(X_test2[[\"num_voted_users\"]])\n",
    "temp_test8 = model_rf2.predict(X_test2[[\"num_voted_users\",\"duration\"]])\n",
    "temp_test9 = model_rf3.predict(X_test2[[\"num_voted_users\",\"movie_facebook_likes\",\"duration\",\"num_critic_for_reviews\",\"num_user_for_reviews\",\"director_facebook_likes\"]])\n",
    "\n",
    "temp_test10 = model_rf1.predict(X_test3[[\"num_voted_users\"]])\n",
    "temp_test11 = model_rf2.predict(X_test3[[\"num_voted_users\",\"duration\"]])\n",
    "temp_test12 = model_rf3.predict(X_test3[[\"num_voted_users\",\"movie_facebook_likes\",\"duration\",\"num_critic_for_reviews\",\"num_user_for_reviews\",\"director_facebook_likes\"]])\n",
    "\n",
    "temp_test13 = model_rf1.predict(X_test[[\"num_voted_users\"]])\n",
    "temp_test14 = model_rf2.predict(X_test[[\"num_voted_users\",\"duration\"]])\n",
    "temp_test15 = model_rf3.predict(X_test[[\"num_voted_users\",\"movie_facebook_likes\",\"duration\",\"num_critic_for_reviews\",\"num_user_for_reviews\",\"director_facebook_likes\"]])\n"
   ]
  },
  {
   "cell_type": "code",
   "execution_count": 289,
   "metadata": {
    "collapsed": false
   },
   "outputs": [],
   "source": [
    "model_rf1_test_err = ((temp_test1 - Matrix)**2).mean()\n",
    "model_rf2_test_err = ((temp_test2 - Matrix)**2).mean()\n",
    "model_rf3_test_err = ((temp_test3 - Matrix)**2).mean()\n",
    "\n",
    "model_rf4_test_err = ((temp_test4 - Matrix1)**2).mean()\n",
    "model_rf5_test_err = ((temp_test5 - Matrix1)**2).mean()\n",
    "model_rf6_test_err = ((temp_test6 - Matrix1)**2).mean()\n",
    "\n",
    "model_rf7_test_err = ((temp_test7 - Matrix2)**2).mean()\n",
    "model_rf8_test_err = ((temp_test8 - Matrix2)**2).mean()\n",
    "model_rf9_test_err = ((temp_test9 - Matrix2)**2).mean()\n",
    "\n",
    "model_rf10_test_err = ((temp_test10 - Matrix3)**2).mean()\n",
    "model_rf11_test_err = ((temp_test11 - Matrix3)**2).mean()\n",
    "model_rf12_test_err = ((temp_test12 - Matrix3)**2).mean()\n",
    "\n",
    "model_rf13_test_err = ((temp_test13 - Matrix4)**2).mean()\n",
    "model_rf14_test_err = ((temp_test14 - Matrix4)**2).mean()\n",
    "model_rf15_test_err = ((temp_test15- Matrix4)**2).mean()"
   ]
  },
  {
   "cell_type": "code",
   "execution_count": 290,
   "metadata": {
    "collapsed": false
   },
   "outputs": [
    {
     "data": {
      "text/plain": [
       "[1.8578247742882648, 1.7648196525577184, 1.7313130913309192]"
      ]
     },
     "execution_count": 290,
     "metadata": {},
     "output_type": "execute_result"
    }
   ],
   "source": [
    "[model_rf1_test_err, model_rf2_test_err, model_rf3_test_err]"
   ]
  },
  {
   "cell_type": "code",
   "execution_count": 291,
   "metadata": {
    "collapsed": false
   },
   "outputs": [
    {
     "data": {
      "text/plain": [
       "[1.8901743257758665, 1.8545385553417832, 1.8530965722612045]"
      ]
     },
     "execution_count": 291,
     "metadata": {},
     "output_type": "execute_result"
    }
   ],
   "source": [
    "[model_rf4_test_err, model_rf5_test_err, model_rf6_test_err]"
   ]
  },
  {
   "cell_type": "code",
   "execution_count": 292,
   "metadata": {
    "collapsed": false
   },
   "outputs": [
    {
     "data": {
      "text/plain": [
       "[1.8312374456481808, 1.7933113512606644, 1.8145215716714735]"
      ]
     },
     "execution_count": 292,
     "metadata": {},
     "output_type": "execute_result"
    }
   ],
   "source": [
    "[model_rf7_test_err, model_rf8_test_err, model_rf9_test_err]"
   ]
  },
  {
   "cell_type": "code",
   "execution_count": 293,
   "metadata": {
    "collapsed": false
   },
   "outputs": [
    {
     "data": {
      "text/plain": [
       "[1.8026239346949957, 1.8078492394079646, 1.8114381244346032]"
      ]
     },
     "execution_count": 293,
     "metadata": {},
     "output_type": "execute_result"
    }
   ],
   "source": [
    "[model_rf10_test_err, model_rf11_test_err, model_rf12_test_err]"
   ]
  },
  {
   "cell_type": "code",
   "execution_count": 294,
   "metadata": {
    "collapsed": false
   },
   "outputs": [
    {
     "data": {
      "text/plain": [
       "[1.8156160039035609, 1.723299006974192, 1.6883240516692033]"
      ]
     },
     "execution_count": 294,
     "metadata": {},
     "output_type": "execute_result"
    }
   ],
   "source": [
    "[model_rf13_test_err, model_rf14_test_err, model_rf15_test_err]"
   ]
  },
  {
   "cell_type": "code",
   "execution_count": 295,
   "metadata": {
    "collapsed": true
   },
   "outputs": [],
   "source": [
    "performance_train_rf = [model_rf3_train_err, model_rf6_train_err, model_rf9_train_err, model_rf12_train_err,model_rf15_train_err]"
   ]
  },
  {
   "cell_type": "code",
   "execution_count": 296,
   "metadata": {
    "collapsed": true
   },
   "outputs": [],
   "source": [
    "performance_test_rf = [ model_rf3_test_err,  model_rf6_test_err, model_rf9_test_err, model_rf12_test_err, model_rf15_test_err]"
   ]
  },
  {
   "cell_type": "code",
   "execution_count": 297,
   "metadata": {
    "collapsed": false
   },
   "outputs": [
    {
     "data": {
      "image/png": "[encoded data removed]",
      "text/plain": [
       "<matplotlib.figure.Figure at 0xd39bb00>"
      ]
     },
     "metadata": {},
     "output_type": "display_data"
    }
   ],
   "source": [
    "plt.plot(l_set,performance_test_rf, 'b', label='train (Test)')\n",
    "plt.plot(l_set,performance_train_rf, 'g', label='train (Train)')\n",
    "\n",
    "#plt.legend();\n",
    "plt.xlabel('Training size');\n",
    "plt.ylabel('MSE');"
   ]
  },
  {
   "cell_type": "code",
   "execution_count": null,
   "metadata": {
    "collapsed": true
   },
   "outputs": [],
   "source": []
  },
  {
   "cell_type": "code",
   "execution_count": 298,
   "metadata": {
    "collapsed": false
   },
   "outputs": [],
   "source": [
    "performance_train1_rf = [model_rf2_test_err, model_rf5_train_err, model_rf8_train_err, model_rf11_train_err,model_rf14_train_err]\n",
    "\n",
    "performance_test1_rf = [  model_rf2_test_err, model_rf5_test_err, model_rf8_test_err, model_rf11_test_err, model_rf14_test_err]"
   ]
  },
  {
   "cell_type": "code",
   "execution_count": 299,
   "metadata": {
    "collapsed": false
   },
   "outputs": [
    {
     "data": {
      "image/png": "[encoded data removed]",
      "text/plain": [
       "<matplotlib.figure.Figure at 0x137e5c50>"
      ]
     },
     "metadata": {},
     "output_type": "display_data"
    }
   ],
   "source": [
    "plt.plot(l_set,performance_test1_rf, 'b', label='train (Test)')\n",
    "plt.plot(l_set,performance_train1_rf, 'g', label='train (Train)')\n",
    "\n",
    "#plt.legend();\n",
    "plt.xlabel('Training size');\n",
    "plt.ylabel('MSE');"
   ]
  },
  {
   "cell_type": "code",
   "execution_count": 300,
   "metadata": {
    "collapsed": true
   },
   "outputs": [],
   "source": [
    "from sklearn.cross_validation import train_test_split\n",
    "from sklearn.learning_curve import learning_curve\n",
    "from sklearn.preprocessing import PolynomialFeatures, StandardScaler"
   ]
  },
  {
   "cell_type": "markdown",
   "metadata": {
    "collapsed": false
   },
   "source": [
    "- Enter your num_voted_users1:3229\n",
    "- Enter your movie_facebook_likes1: 83\n",
    "- Enter your duration1: 95\n",
    "- Enter your num_critic_for_reviews1: 23\n",
    "- Enter your num_user_for_reviews1: 20\n",
    "- Enter your director_facebook_likes1: 2\n",
    "- ('Your Movie Prediction is (Linear Regression: ', array([[ 5.91707527]]))"
   ]
  },
  {
   "cell_type": "markdown",
   "metadata": {},
   "source": [
    "# LINEAR REGRESSION PREDICTION WITH FEATURE SET 3"
   ]
  },
  {
   "cell_type": "markdown",
   "metadata": {},
   "source": [
    "LR_set is the Validation Set"
   ]
  },
  {
   "cell_type": "code",
   "execution_count": 301,
   "metadata": {
    "collapsed": false
   },
   "outputs": [],
   "source": [
    "LR_set= X_validation3[['num_voted_users','movie_facebook_likes','duration','num_critic_for_reviews','num_user_for_reviews','director_facebook_likes']]"
   ]
  },
  {
   "cell_type": "code",
   "execution_count": 303,
   "metadata": {
    "collapsed": false
   },
   "outputs": [
    {
     "name": "stdout",
     "output_type": "stream",
     "text": [
      "('Linear Regression Prediction: ', array([[ 6.24600627]]), 'Actual: ', array([[ 6.8]]))\n",
      "('Linear Regression Prediction: ', array([[ 5.86108578]]), 'Actual: ', array([[ 6.8]]))\n",
      "('Linear Regression Prediction: ', array([[ 5.98590103]]), 'Actual: ', array([[ 5.9]]))\n",
      "('Linear Regression Prediction: ', array([[ 7.08150788]]), 'Actual: ', array([[ 6.9]]))\n",
      "('Linear Regression Prediction: ', array([[ 5.91707527]]), 'Actual: ', array([[ 4.1]]))\n",
      "('Linear Regression Prediction: ', array([[ 5.93486763]]), 'Actual: ', array([[ 5.4]]))\n",
      "('Linear Regression Prediction: ', array([[ 5.69385534]]), 'Actual: ', array([[ 4.3]]))\n",
      "('Linear Regression Prediction: ', array([[ 6.22436088]]), 'Actual: ', array([[ 5.8]]))\n",
      "('Linear Regression Prediction: ', array([[ 6.16805294]]), 'Actual: ', array([[ 5.7]]))\n",
      "('Linear Regression Prediction: ', array([[ 6.31612755]]), 'Actual: ', array([[ 6.]]))\n",
      "('Linear Regression Prediction: ', array([[ 6.33911489]]), 'Actual: ', array([[ 6.3]]))\n",
      "('Linear Regression Prediction: ', array([[ 9.68897529]]), 'Actual: ', array([[ 8.5]]))\n",
      "('Linear Regression Prediction: ', array([[ 6.01484761]]), 'Actual: ', array([[ 6.8]]))\n",
      "('Linear Regression Prediction: ', array([[ 6.58925685]]), 'Actual: ', array([[ 6.6]]))\n",
      "('Linear Regression Prediction: ', array([[ 5.87211295]]), 'Actual: ', array([[ 7.7]]))\n",
      "('Linear Regression Prediction: ', array([[ 5.99809223]]), 'Actual: ', array([[ 6.4]]))\n",
      "('Linear Regression Prediction: ', array([[ 8.30906974]]), 'Actual: ', array([[ 8.5]]))\n",
      "('Linear Regression Prediction: ', array([[ 5.80781612]]), 'Actual: ', array([[ 6.2]]))\n",
      "('Linear Regression Prediction: ', array([[ 6.13623973]]), 'Actual: ', array([[ 5.4]]))\n",
      "('Linear Regression Prediction: ', array([[ 6.17610127]]), 'Actual: ', array([[ 6.9]]))\n",
      "('Linear Regression Prediction: ', array([[ 6.79858215]]), 'Actual: ', array([[ 6.3]]))\n",
      "('Linear Regression Prediction: ', array([[ 6.99519398]]), 'Actual: ', array([[ 7.3]]))\n",
      "('Linear Regression Prediction: ', array([[ 6.27341915]]), 'Actual: ', array([[ 6.1]]))\n",
      "('Linear Regression Prediction: ', array([[ 7.35172121]]), 'Actual: ', array([[ 7.3]]))\n",
      "('Linear Regression Prediction: ', array([[ 6.45751597]]), 'Actual: ', array([[ 6.]]))\n",
      "('Linear Regression Prediction: ', array([[ 6.39919958]]), 'Actual: ', array([[ 5.7]]))\n",
      "('Linear Regression Prediction: ', array([[ 5.98513856]]), 'Actual: ', array([[ 5.7]]))\n",
      "('Linear Regression Prediction: ', array([[ 6.10584706]]), 'Actual: ', array([[ 6.]]))\n",
      "('Linear Regression Prediction: ', array([[ 6.32344763]]), 'Actual: ', array([[ 5.9]]))\n",
      "('Linear Regression Prediction: ', array([[ 6.40955419]]), 'Actual: ', array([[ 5.5]]))\n",
      "('Linear Regression Prediction: ', array([[ 5.88609859]]), 'Actual: ', array([[ 5.3]]))\n",
      "('Linear Regression Prediction: ', array([[ 5.94004097]]), 'Actual: ', array([[ 5.4]]))\n",
      "('Linear Regression Prediction: ', array([[ 9.56209619]]), 'Actual: ', array([[ 8.5]]))\n",
      "('Linear Regression Prediction: ', array([[ 6.78824747]]), 'Actual: ', array([[ 6.7]]))\n",
      "('Linear Regression Prediction: ', array([[ 6.03908683]]), 'Actual: ', array([[ 6.9]]))\n",
      "('Linear Regression Prediction: ', array([[ 6.13620124]]), 'Actual: ', array([[ 6.9]]))\n",
      "('Linear Regression Prediction: ', array([[ 7.00372912]]), 'Actual: ', array([[ 8.4]]))\n",
      "('Linear Regression Prediction: ', array([[ 7.11497156]]), 'Actual: ', array([[ 7.1]]))\n",
      "('Linear Regression Prediction: ', array([[ 6.45815941]]), 'Actual: ', array([[ 6.9]]))\n",
      "('Linear Regression Prediction: ', array([[ 6.97062156]]), 'Actual: ', array([[ 6.7]]))\n",
      "('Linear Regression Prediction: ', array([[ 6.47119405]]), 'Actual: ', array([[ 7.4]]))\n",
      "('Linear Regression Prediction: ', array([[ 6.18594531]]), 'Actual: ', array([[ 6.1]]))\n",
      "('Linear Regression Prediction: ', array([[ 6.3471532]]), 'Actual: ', array([[ 8.]]))\n",
      "('Linear Regression Prediction: ', array([[ 6.23153709]]), 'Actual: ', array([[ 7.2]]))\n",
      "('Linear Regression Prediction: ', array([[ 7.0441719]]), 'Actual: ', array([[ 7.8]]))\n",
      "('Linear Regression Prediction: ', array([[ 5.99500112]]), 'Actual: ', array([[ 5.1]]))\n",
      "('Linear Regression Prediction: ', array([[ 6.51693087]]), 'Actual: ', array([[ 7.7]]))\n",
      "('Linear Regression Prediction: ', array([[ 6.05521818]]), 'Actual: ', array([[ 7.7]]))\n",
      "('Linear Regression Prediction: ', array([[ 6.33058891]]), 'Actual: ', array([[ 7.3]]))\n",
      "('Linear Regression Prediction: ', array([[ 5.98349357]]), 'Actual: ', array([[ 5.9]]))\n",
      "('Linear Regression Prediction: ', array([[ 6.14295544]]), 'Actual: ', array([[ 8.]]))\n",
      "('Linear Regression Prediction: ', array([[ 6.13169275]]), 'Actual: ', array([[ 7.9]]))\n",
      "('Linear Regression Prediction: ', array([[ 6.13595311]]), 'Actual: ', array([[ 6.]]))\n",
      "('Linear Regression Prediction: ', array([[ 6.02762163]]), 'Actual: ', array([[ 6.6]]))\n",
      "('Linear Regression Prediction: ', array([[ 7.16894913]]), 'Actual: ', array([[ 6.4]]))\n",
      "('Linear Regression Prediction: ', array([[ 5.96521099]]), 'Actual: ', array([[ 4.3]]))\n",
      "('Linear Regression Prediction: ', array([[ 10.38351812]]), 'Actual: ', array([[ 8.9]]))\n",
      "('Linear Regression Prediction: ', array([[ 6.124856]]), 'Actual: ', array([[ 6.1]]))\n",
      "('Linear Regression Prediction: ', array([[ 6.17915551]]), 'Actual: ', array([[ 7.1]]))\n",
      "('Linear Regression Prediction: ', array([[ 6.95493069]]), 'Actual: ', array([[ 7.8]]))\n",
      "('Linear Regression Prediction: ', array([[ 6.41292849]]), 'Actual: ', array([[ 6.8]]))\n",
      "('Linear Regression Prediction: ', array([[ 6.69617918]]), 'Actual: ', array([[ 7.3]]))\n",
      "('Linear Regression Prediction: ', array([[ 6.23432146]]), 'Actual: ', array([[ 5.7]]))\n",
      "('Linear Regression Prediction: ', array([[ 6.1465737]]), 'Actual: ', array([[ 5.6]]))\n",
      "('Linear Regression Prediction: ', array([[ 6.02364405]]), 'Actual: ', array([[ 5.6]]))\n",
      "('Linear Regression Prediction: ', array([[ 6.39839386]]), 'Actual: ', array([[ 7.6]]))\n",
      "('Linear Regression Prediction: ', array([[ 6.75925732]]), 'Actual: ', array([[ 7.]]))\n",
      "('Linear Regression Prediction: ', array([[ 7.1268588]]), 'Actual: ', array([[ 7.6]]))\n",
      "('Linear Regression Prediction: ', array([[ 7.97084603]]), 'Actual: ', array([[ 8.2]]))\n",
      "('Linear Regression Prediction: ', array([[ 6.37903963]]), 'Actual: ', array([[ 5.]]))\n",
      "('Linear Regression Prediction: ', array([[ 5.8773164]]), 'Actual: ', array([[ 5.1]]))\n",
      "('Linear Regression Prediction: ', array([[ 6.06656793]]), 'Actual: ', array([[ 6.5]]))\n",
      "('Linear Regression Prediction: ', array([[ 6.31461037]]), 'Actual: ', array([[ 6.9]]))\n",
      "('Linear Regression Prediction: ', array([[ 5.98843386]]), 'Actual: ', array([[ 2.7]]))\n",
      "('Linear Regression Prediction: ', array([[ 6.91900103]]), 'Actual: ', array([[ 6.6]]))\n",
      "('Linear Regression Prediction: ', array([[ 6.72347727]]), 'Actual: ', array([[ 6.6]]))\n",
      "('Linear Regression Prediction: ', array([[ 8.21913763]]), 'Actual: ', array([[ 7.8]]))\n",
      "('Linear Regression Prediction: ', array([[ 6.07277888]]), 'Actual: ', array([[ 6.8]]))\n",
      "('Linear Regression Prediction: ', array([[ 7.09244605]]), 'Actual: ', array([[ 7.8]]))\n",
      "('Linear Regression Prediction: ', array([[ 6.06505267]]), 'Actual: ', array([[ 6.1]]))\n",
      "('Linear Regression Prediction: ', array([[ 7.06088349]]), 'Actual: ', array([[ 8.1]]))\n",
      "('Linear Regression Prediction: ', array([[ 6.16684757]]), 'Actual: ', array([[ 6.2]]))\n",
      "('Linear Regression Prediction: ', array([[ 6.6514878]]), 'Actual: ', array([[ 6.3]]))\n",
      "('Linear Regression Prediction: ', array([[ 7.37939896]]), 'Actual: ', array([[ 8.2]]))\n",
      "('Linear Regression Prediction: ', array([[ 6.06558582]]), 'Actual: ', array([[ 7.2]]))\n",
      "('Linear Regression Prediction: ', array([[ 9.92748923]]), 'Actual: ', array([[ 8.1]]))\n",
      "('Linear Regression Prediction: ', array([[ 8.44016393]]), 'Actual: ', array([[ 8.]]))\n",
      "('Linear Regression Prediction: ', array([[ 5.81349172]]), 'Actual: ', array([[ 7.2]]))\n",
      "('Linear Regression Prediction: ', array([[ 5.8181207]]), 'Actual: ', array([[ 3.6]]))\n",
      "('Linear Regression Prediction: ', array([[ 6.4113065]]), 'Actual: ', array([[ 5.9]]))\n",
      "('Linear Regression Prediction: ', array([[ 6.61829249]]), 'Actual: ', array([[ 6.6]]))\n",
      "('Linear Regression Prediction: ', array([[ 6.19803745]]), 'Actual: ', array([[ 5.4]]))\n",
      "('Linear Regression Prediction: ', array([[ 6.38577142]]), 'Actual: ', array([[ 6.1]]))\n",
      "('Linear Regression Prediction: ', array([[ 6.30673719]]), 'Actual: ', array([[ 5.3]]))\n",
      "('Linear Regression Prediction: ', array([[ 6.46261427]]), 'Actual: ', array([[ 5.6]]))\n",
      "('Linear Regression Prediction: ', array([[ 6.65002079]]), 'Actual: ', array([[ 6.5]]))\n",
      "('Linear Regression Prediction: ', array([[ 6.56974219]]), 'Actual: ', array([[ 6.5]]))\n",
      "('Linear Regression Prediction: ', array([[ 6.60022789]]), 'Actual: ', array([[ 6.4]]))\n",
      "('Linear Regression Prediction: ', array([[ 6.08056068]]), 'Actual: ', array([[ 5.3]]))\n",
      "('Linear Regression Prediction: ', array([[ 6.58906412]]), 'Actual: ', array([[ 6.8]]))\n",
      "('Linear Regression Prediction: ', array([[ 6.48602069]]), 'Actual: ', array([[ 6.7]]))\n",
      "('Linear Regression Prediction: ', array([[ 6.22729911]]), 'Actual: ', array([[ 6.4]]))\n",
      "('Linear Regression Prediction: ', array([[ 6.61614443]]), 'Actual: ', array([[ 5.8]]))\n",
      "('Linear Regression Prediction: ', array([[ 6.040671]]), 'Actual: ', array([[ 6.5]]))\n",
      "('Linear Regression Prediction: ', array([[ 5.9978844]]), 'Actual: ', array([[ 6.2]]))\n",
      "('Linear Regression Prediction: ', array([[ 6.37301897]]), 'Actual: ', array([[ 6.6]]))\n",
      "('Linear Regression Prediction: ', array([[ 7.42116776]]), 'Actual: ', array([[ 7.7]]))\n",
      "('Linear Regression Prediction: ', array([[ 6.56924621]]), 'Actual: ', array([[ 6.7]]))\n",
      "('Linear Regression Prediction: ', array([[ 7.49280336]]), 'Actual: ', array([[ 8.4]]))\n",
      "('Linear Regression Prediction: ', array([[ 6.91317323]]), 'Actual: ', array([[ 7.8]]))\n",
      "('Linear Regression Prediction: ', array([[ 6.37113643]]), 'Actual: ', array([[ 7.]]))\n",
      "('Linear Regression Prediction: ', array([[ 8.21433448]]), 'Actual: ', array([[ 7.8]]))\n",
      "('Linear Regression Prediction: ', array([[ 6.40711688]]), 'Actual: ', array([[ 5.8]]))\n",
      "('Linear Regression Prediction: ', array([[ 6.95455691]]), 'Actual: ', array([[ 7.3]]))\n",
      "('Linear Regression Prediction: ', array([[ 5.8533039]]), 'Actual: ', array([[ 2.9]]))\n",
      "('Linear Regression Prediction: ', array([[ 5.98707263]]), 'Actual: ', array([[ 4.7]]))\n",
      "('Linear Regression Prediction: ', array([[ 5.94402847]]), 'Actual: ', array([[ 6.7]]))\n",
      "('Linear Regression Prediction: ', array([[ 5.91276716]]), 'Actual: ', array([[ 5.6]]))\n",
      "('Linear Regression Prediction: ', array([[ 5.80813032]]), 'Actual: ', array([[ 5.3]]))\n",
      "('Linear Regression Prediction: ', array([[ 5.82198811]]), 'Actual: ', array([[ 5.1]]))\n",
      "('Linear Regression Prediction: ', array([[ 5.8580635]]), 'Actual: ', array([[ 5.4]]))\n",
      "('Linear Regression Prediction: ', array([[ 6.03646225]]), 'Actual: ', array([[ 4.6]]))\n",
      "('Linear Regression Prediction: ', array([[ 5.96740948]]), 'Actual: ', array([[ 5.9]]))\n",
      "('Linear Regression Prediction: ', array([[ 6.67738364]]), 'Actual: ', array([[ 7.5]]))\n",
      "('Linear Regression Prediction: ', array([[ 6.40825603]]), 'Actual: ', array([[ 7.3]]))\n",
      "('Linear Regression Prediction: ', array([[ 6.11181228]]), 'Actual: ', array([[ 5.6]]))\n",
      "('Linear Regression Prediction: ', array([[ 7.03420841]]), 'Actual: ', array([[ 7.7]]))\n",
      "('Linear Regression Prediction: ', array([[ 6.66025256]]), 'Actual: ', array([[ 7.4]]))\n",
      "('Linear Regression Prediction: ', array([[ 6.91708061]]), 'Actual: ', array([[ 7.7]]))\n",
      "('Linear Regression Prediction: ', array([[ 7.3983943]]), 'Actual: ', array([[ 7.9]]))\n",
      "('Linear Regression Prediction: ', array([[ 6.35926412]]), 'Actual: ', array([[ 6.5]]))\n",
      "('Linear Regression Prediction: ', array([[ 6.0030737]]), 'Actual: ', array([[ 3.6]]))\n",
      "('Linear Regression Prediction: ', array([[ 6.20519243]]), 'Actual: ', array([[ 5.3]]))\n",
      "('Linear Regression Prediction: ', array([[ 6.1677347]]), 'Actual: ', array([[ 6.2]]))\n",
      "('Linear Regression Prediction: ', array([[ 6.0744288]]), 'Actual: ', array([[ 5.1]]))\n",
      "('Linear Regression Prediction: ', array([[ 6.98080801]]), 'Actual: ', array([[ 7.6]]))\n",
      "('Linear Regression Prediction: ', array([[ 6.23475679]]), 'Actual: ', array([[ 4.5]]))\n",
      "('Linear Regression Prediction: ', array([[ 6.44234653]]), 'Actual: ', array([[ 6.1]]))\n",
      "('Linear Regression Prediction: ', array([[ 5.72516622]]), 'Actual: ', array([[ 6.7]]))\n",
      "('Linear Regression Prediction: ', array([[ 6.60262219]]), 'Actual: ', array([[ 5.8]]))\n",
      "('Linear Regression Prediction: ', array([[ 6.60319103]]), 'Actual: ', array([[ 6.3]]))\n",
      "('Linear Regression Prediction: ', array([[ 6.13896461]]), 'Actual: ', array([[ 7.]]))\n",
      "('Linear Regression Prediction: ', array([[ 5.94762003]]), 'Actual: ', array([[ 3.]]))\n",
      "('Linear Regression Prediction: ', array([[ 6.65735321]]), 'Actual: ', array([[ 6.4]]))\n",
      "('Linear Regression Prediction: ', array([[ 8.09154276]]), 'Actual: ', array([[ 8.6]]))\n",
      "('Linear Regression Prediction: ', array([[ 6.19211435]]), 'Actual: ', array([[ 6.3]]))\n",
      "('Linear Regression Prediction: ', array([[ 6.26647643]]), 'Actual: ', array([[ 6.8]]))\n",
      "('Linear Regression Prediction: ', array([[ 5.9639755]]), 'Actual: ', array([[ 7.3]]))\n",
      "('Linear Regression Prediction: ', array([[ 5.79453728]]), 'Actual: ', array([[ 5.9]]))\n",
      "('Linear Regression Prediction: ', array([[ 6.2419821]]), 'Actual: ', array([[ 4.8]]))\n",
      "('Linear Regression Prediction: ', array([[ 6.28661287]]), 'Actual: ', array([[ 6.5]]))\n",
      "('Linear Regression Prediction: ', array([[ 6.31919488]]), 'Actual: ', array([[ 4.8]]))\n",
      "('Linear Regression Prediction: ', array([[ 7.01250508]]), 'Actual: ', array([[ 7.4]]))\n",
      "('Linear Regression Prediction: ', array([[ 7.24379998]]), 'Actual: ', array([[ 7.]]))\n",
      "('Linear Regression Prediction: ', array([[ 6.16378174]]), 'Actual: ', array([[ 6.1]]))\n",
      "('Linear Regression Prediction: ', array([[ 6.62166201]]), 'Actual: ', array([[ 6.4]]))\n",
      "('Linear Regression Prediction: ', array([[ 6.60607319]]), 'Actual: ', array([[ 6.6]]))\n",
      "('Linear Regression Prediction: ', array([[ 6.24496855]]), 'Actual: ', array([[ 4.4]]))\n",
      "('Linear Regression Prediction: ', array([[ 6.46869385]]), 'Actual: ', array([[ 7.1]]))\n",
      "('Linear Regression Prediction: ', array([[ 9.68364387]]), 'Actual: ', array([[ 9.3]]))\n",
      "('Linear Regression Prediction: ', array([[ 6.04739043]]), 'Actual: ', array([[ 7.4]]))\n",
      "('Linear Regression Prediction: ', array([[ 6.88126903]]), 'Actual: ', array([[ 7.1]]))\n",
      "('Linear Regression Prediction: ', array([[ 5.75751082]]), 'Actual: ', array([[ 6.1]]))\n",
      "('Linear Regression Prediction: ', array([[ 6.20597595]]), 'Actual: ', array([[ 7.]]))\n",
      "('Linear Regression Prediction: ', array([[ 7.24083709]]), 'Actual: ', array([[ 8.]]))\n",
      "('Linear Regression Prediction: ', array([[ 6.70912899]]), 'Actual: ', array([[ 7.9]]))\n",
      "('Linear Regression Prediction: ', array([[ 6.66391535]]), 'Actual: ', array([[ 7.8]]))\n",
      "('Linear Regression Prediction: ', array([[ 6.24536037]]), 'Actual: ', array([[ 5.3]]))\n",
      "('Linear Regression Prediction: ', array([[ 6.28739987]]), 'Actual: ', array([[ 5.4]]))\n",
      "('Linear Regression Prediction: ', array([[ 6.05764406]]), 'Actual: ', array([[ 5.3]]))\n",
      "('Linear Regression Prediction: ', array([[ 6.37518353]]), 'Actual: ', array([[ 5.9]]))\n",
      "('Linear Regression Prediction: ', array([[ 6.24066408]]), 'Actual: ', array([[ 5.4]]))\n",
      "('Linear Regression Prediction: ', array([[ 6.52602116]]), 'Actual: ', array([[ 6.9]]))\n",
      "('Linear Regression Prediction: ', array([[ 7.97319124]]), 'Actual: ', array([[ 7.7]]))\n",
      "('Linear Regression Prediction: ', array([[ 6.68578848]]), 'Actual: ', array([[ 6.9]]))\n",
      "('Linear Regression Prediction: ', array([[ 5.87285369]]), 'Actual: ', array([[ 4.5]]))\n",
      "('Linear Regression Prediction: ', array([[ 5.98587126]]), 'Actual: ', array([[ 4.3]]))\n",
      "('Linear Regression Prediction: ', array([[ 6.33353974]]), 'Actual: ', array([[ 4.5]]))\n",
      "('Linear Regression Prediction: ', array([[ 5.82592716]]), 'Actual: ', array([[ 4.]]))\n",
      "('Linear Regression Prediction: ', array([[ 7.75727212]]), 'Actual: ', array([[ 7.7]]))\n",
      "('Linear Regression Prediction: ', array([[ 7.57631467]]), 'Actual: ', array([[ 7.6]]))\n",
      "('Linear Regression Prediction: ', array([[ 7.05634541]]), 'Actual: ', array([[ 7.6]]))\n",
      "('Linear Regression Prediction: ', array([[ 6.69941857]]), 'Actual: ', array([[ 7.6]]))\n",
      "('Linear Regression Prediction: ', array([[ 6.41555503]]), 'Actual: ', array([[ 6.4]]))\n",
      "('Linear Regression Prediction: ', array([[ 6.62996212]]), 'Actual: ', array([[ 6.7]]))\n",
      "('Linear Regression Prediction: ', array([[ 5.88551566]]), 'Actual: ', array([[ 7.5]]))\n",
      "('Linear Regression Prediction: ', array([[ 6.71961948]]), 'Actual: ', array([[ 7.]]))\n",
      "('Linear Regression Prediction: ', array([[ 6.14514797]]), 'Actual: ', array([[ 6.8]]))\n",
      "('Linear Regression Prediction: ', array([[ 6.21953502]]), 'Actual: ', array([[ 5.5]]))\n",
      "('Linear Regression Prediction: ', array([[ 8.23648348]]), 'Actual: ', array([[ 8.8]]))\n",
      "('Linear Regression Prediction: ', array([[ 6.15095432]]), 'Actual: ', array([[ 6.3]]))\n",
      "('Linear Regression Prediction: ', array([[ 6.84619271]]), 'Actual: ', array([[ 6.4]]))\n",
      "('Linear Regression Prediction: ', array([[ 6.57123099]]), 'Actual: ', array([[ 6.5]]))\n",
      "('Linear Regression Prediction: ', array([[ 6.27154033]]), 'Actual: ', array([[ 7.]]))\n",
      "('Linear Regression Prediction: ', array([[ 6.24614143]]), 'Actual: ', array([[ 7.7]]))\n",
      "('Linear Regression Prediction: ', array([[ 6.26134365]]), 'Actual: ', array([[ 5.7]]))\n",
      "('Linear Regression Prediction: ', array([[ 6.24059075]]), 'Actual: ', array([[ 5.]]))\n",
      "('Linear Regression Prediction: ', array([[ 6.40017811]]), 'Actual: ', array([[ 5.1]]))\n",
      "('Linear Regression Prediction: ', array([[ 6.81528924]]), 'Actual: ', array([[ 7.3]]))\n",
      "('Linear Regression Prediction: ', array([[ 6.85572108]]), 'Actual: ', array([[ 6.3]]))\n",
      "('Linear Regression Prediction: ', array([[ 6.66313545]]), 'Actual: ', array([[ 7.]]))\n",
      "('Linear Regression Prediction: ', array([[ 6.09611708]]), 'Actual: ', array([[ 6.6]]))\n",
      "('Linear Regression Prediction: ', array([[ 6.4111327]]), 'Actual: ', array([[ 7.5]]))\n",
      "('Linear Regression Prediction: ', array([[ 6.31860397]]), 'Actual: ', array([[ 6.3]]))\n",
      "('Linear Regression Prediction: ', array([[ 6.92235853]]), 'Actual: ', array([[ 7.5]]))\n",
      "('Linear Regression Prediction: ', array([[ 6.69220126]]), 'Actual: ', array([[ 6.4]]))\n",
      "('Linear Regression Prediction: ', array([[ 5.92883266]]), 'Actual: ', array([[ 5.2]]))\n",
      "('Linear Regression Prediction: ', array([[ 6.4208348]]), 'Actual: ', array([[ 6.7]]))\n",
      "('Linear Regression Prediction: ', array([[ 6.34567245]]), 'Actual: ', array([[ 6.2]]))\n",
      "('Linear Regression Prediction: ', array([[ 6.60655399]]), 'Actual: ', array([[ 6.5]]))\n",
      "('Linear Regression Prediction: ', array([[ 5.90829592]]), 'Actual: ', array([[ 6.9]]))\n",
      "('Linear Regression Prediction: ', array([[ 7.13369378]]), 'Actual: ', array([[ 7.9]]))\n",
      "('Linear Regression Prediction: ', array([[ 6.57064933]]), 'Actual: ', array([[ 6.4]]))\n",
      "('Linear Regression Prediction: ', array([[ 6.23855529]]), 'Actual: ', array([[ 5.5]]))\n",
      "('Linear Regression Prediction: ', array([[ 6.18155782]]), 'Actual: ', array([[ 7.]]))\n",
      "('Linear Regression Prediction: ', array([[ 7.77256296]]), 'Actual: ', array([[ 8.]]))\n",
      "('Linear Regression Prediction: ', array([[ 5.93552502]]), 'Actual: ', array([[ 4.9]]))\n",
      "('Linear Regression Prediction: ', array([[ 6.11229192]]), 'Actual: ', array([[ 5.8]]))\n",
      "('Linear Regression Prediction: ', array([[ 7.12070694]]), 'Actual: ', array([[ 7.2]]))\n",
      "('Linear Regression Prediction: ', array([[ 6.06142683]]), 'Actual: ', array([[ 7.5]]))\n",
      "('Linear Regression Prediction: ', array([[ 6.24353311]]), 'Actual: ', array([[ 5.7]]))\n",
      "('Linear Regression Prediction: ', array([[ 7.49976916]]), 'Actual: ', array([[ 6.7]]))\n",
      "('Linear Regression Prediction: ', array([[ 6.31590979]]), 'Actual: ', array([[ 7.3]]))\n",
      "('Linear Regression Prediction: ', array([[ 5.78321992]]), 'Actual: ', array([[ 5.6]]))\n",
      "('Linear Regression Prediction: ', array([[ 5.90488472]]), 'Actual: ', array([[ 3.6]]))\n",
      "('Linear Regression Prediction: ', array([[ 7.13878037]]), 'Actual: ', array([[ 7.5]]))\n",
      "('Linear Regression Prediction: ', array([[ 5.81543792]]), 'Actual: ', array([[ 5.9]]))\n",
      "('Linear Regression Prediction: ', array([[ 6.04700056]]), 'Actual: ', array([[ 6.8]]))\n",
      "('Linear Regression Prediction: ', array([[ 6.32892134]]), 'Actual: ', array([[ 6.6]]))\n",
      "('Linear Regression Prediction: ', array([[ 5.78396441]]), 'Actual: ', array([[ 5.6]]))\n",
      "('Linear Regression Prediction: ', array([[ 6.14863919]]), 'Actual: ', array([[ 5.2]]))\n",
      "('Linear Regression Prediction: ', array([[ 8.2876633]]), 'Actual: ', array([[ 7.]]))\n",
      "('Linear Regression Prediction: ', array([[ 6.2560256]]), 'Actual: ', array([[ 6.1]]))\n",
      "('Linear Regression Prediction: ', array([[ 6.65742397]]), 'Actual: ', array([[ 6.9]]))\n",
      "('Linear Regression Prediction: ', array([[ 6.17480965]]), 'Actual: ', array([[ 5.5]]))\n",
      "('Linear Regression Prediction: ', array([[ 6.10530495]]), 'Actual: ', array([[ 6.8]]))\n",
      "('Linear Regression Prediction: ', array([[ 6.40875304]]), 'Actual: ', array([[ 5.7]]))\n",
      "('Linear Regression Prediction: ', array([[ 5.73445609]]), 'Actual: ', array([[ 5.7]]))\n",
      "('Linear Regression Prediction: ', array([[ 6.43207384]]), 'Actual: ', array([[ 7.6]]))\n",
      "('Linear Regression Prediction: ', array([[ 6.50150117]]), 'Actual: ', array([[ 7.]]))\n",
      "('Linear Regression Prediction: ', array([[ 8.42732219]]), 'Actual: ', array([[ 8.4]]))\n",
      "('Linear Regression Prediction: ', array([[ 6.08397706]]), 'Actual: ', array([[ 7.]]))\n",
      "('Linear Regression Prediction: ', array([[ 6.53620608]]), 'Actual: ', array([[ 6.3]]))\n",
      "('Linear Regression Prediction: ', array([[ 6.14513415]]), 'Actual: ', array([[ 6.7]]))\n",
      "('Linear Regression Prediction: ', array([[ 7.91802168]]), 'Actual: ', array([[ 7.5]]))\n",
      "('Linear Regression Prediction: ', array([[ 5.90384219]]), 'Actual: ', array([[ 7.1]]))\n",
      "('Linear Regression Prediction: ', array([[ 6.43030849]]), 'Actual: ', array([[ 6.]]))\n",
      "('Linear Regression Prediction: ', array([[ 6.28171875]]), 'Actual: ', array([[ 6.8]]))\n",
      "('Linear Regression Prediction: ', array([[ 6.10673835]]), 'Actual: ', array([[ 7.]]))\n",
      "('Linear Regression Prediction: ', array([[ 6.72780436]]), 'Actual: ', array([[ 7.9]]))\n",
      "('Linear Regression Prediction: ', array([[ 8.77511829]]), 'Actual: ', array([[ 8.5]]))\n",
      "('Linear Regression Prediction: ', array([[ 7.49769724]]), 'Actual: ', array([[ 8.1]]))\n",
      "('Linear Regression Prediction: ', array([[ 6.61420489]]), 'Actual: ', array([[ 7.1]]))\n",
      "('Linear Regression Prediction: ', array([[ 7.67417258]]), 'Actual: ', array([[ 6.7]]))\n",
      "('Linear Regression Prediction: ', array([[ 6.42984212]]), 'Actual: ', array([[ 5.9]]))\n",
      "('Linear Regression Prediction: ', array([[ 6.46966006]]), 'Actual: ', array([[ 6.]]))\n",
      "('Linear Regression Prediction: ', array([[ 6.45257745]]), 'Actual: ', array([[ 6.2]]))\n",
      "('Linear Regression Prediction: ', array([[ 6.46934265]]), 'Actual: ', array([[ 6.4]]))\n",
      "('Linear Regression Prediction: ', array([[ 5.86647764]]), 'Actual: ', array([[ 6.1]]))\n",
      "('Linear Regression Prediction: ', array([[ 6.25924754]]), 'Actual: ', array([[ 6.5]]))\n",
      "('Linear Regression Prediction: ', array([[ 6.10652787]]), 'Actual: ', array([[ 5.7]]))\n",
      "('Linear Regression Prediction: ', array([[ 6.10239076]]), 'Actual: ', array([[ 6.1]]))\n",
      "('Linear Regression Prediction: ', array([[ 5.9671229]]), 'Actual: ', array([[ 4.7]]))\n",
      "('Linear Regression Prediction: ', array([[ 6.57079993]]), 'Actual: ', array([[ 6.7]]))\n",
      "('Linear Regression Prediction: ', array([[ 6.38857155]]), 'Actual: ', array([[ 7.2]]))\n",
      "('Linear Regression Prediction: ', array([[ 6.39150411]]), 'Actual: ', array([[ 6.7]]))\n",
      "('Linear Regression Prediction: ', array([[ 6.42021486]]), 'Actual: ', array([[ 7.2]]))\n",
      "('Linear Regression Prediction: ', array([[ 7.87403162]]), 'Actual: ', array([[ 7.4]]))\n",
      "('Linear Regression Prediction: ', array([[ 7.42719617]]), 'Actual: ', array([[ 7.7]]))\n",
      "('Linear Regression Prediction: ', array([[ 7.33000281]]), 'Actual: ', array([[ 7.7]]))\n",
      "('Linear Regression Prediction: ', array([[ 6.55072225]]), 'Actual: ', array([[ 7.1]]))\n",
      "('Linear Regression Prediction: ', array([[ 6.08342074]]), 'Actual: ', array([[ 5.1]]))\n",
      "('Linear Regression Prediction: ', array([[ 8.42274259]]), 'Actual: ', array([[ 8.7]]))\n",
      "('Linear Regression Prediction: ', array([[ 6.15257856]]), 'Actual: ', array([[ 6.1]]))\n",
      "('Linear Regression Prediction: ', array([[ 6.10429253]]), 'Actual: ', array([[ 6.7]]))\n",
      "('Linear Regression Prediction: ', array([[ 6.34780351]]), 'Actual: ', array([[ 5.4]]))\n",
      "('Linear Regression Prediction: ', array([[ 6.20522473]]), 'Actual: ', array([[ 5.]]))\n",
      "('Linear Regression Prediction: ', array([[ 6.16038375]]), 'Actual: ', array([[ 5.7]]))\n",
      "('Linear Regression Prediction: ', array([[ 6.27097088]]), 'Actual: ', array([[ 6.6]]))\n",
      "('Linear Regression Prediction: ', array([[ 5.99506087]]), 'Actual: ', array([[ 6.1]]))\n",
      "('Linear Regression Prediction: ', array([[ 6.03422279]]), 'Actual: ', array([[ 5.9]]))\n",
      "('Linear Regression Prediction: ', array([[ 6.46071948]]), 'Actual: ', array([[ 7.1]]))\n",
      "('Linear Regression Prediction: ', array([[ 6.83884414]]), 'Actual: ', array([[ 7.1]]))\n",
      "('Linear Regression Prediction: ', array([[ 6.32037088]]), 'Actual: ', array([[ 5.7]]))\n",
      "('Linear Regression Prediction: ', array([[ 6.05196084]]), 'Actual: ', array([[ 6.5]]))\n",
      "('Linear Regression Prediction: ', array([[ 6.44661911]]), 'Actual: ', array([[ 6.6]]))\n",
      "('Linear Regression Prediction: ', array([[ 5.65543841]]), 'Actual: ', array([[ 4.5]]))\n",
      "('Linear Regression Prediction: ', array([[ 6.79065123]]), 'Actual: ', array([[ 6.5]]))\n",
      "('Linear Regression Prediction: ', array([[ 6.30084932]]), 'Actual: ', array([[ 7.6]]))\n",
      "('Linear Regression Prediction: ', array([[ 7.2936698]]), 'Actual: ', array([[ 7.]]))\n",
      "('Linear Regression Prediction: ', array([[ 5.51225922]]), 'Actual: ', array([[ 7.7]]))\n",
      "('Linear Regression Prediction: ', array([[ 6.22452952]]), 'Actual: ', array([[ 5.8]]))\n",
      "('Linear Regression Prediction: ', array([[ 6.08445542]]), 'Actual: ', array([[ 5.7]]))\n",
      "('Linear Regression Prediction: ', array([[ 6.333279]]), 'Actual: ', array([[ 5.7]]))\n",
      "('Linear Regression Prediction: ', array([[ 6.31611658]]), 'Actual: ', array([[ 6.]]))\n",
      "('Linear Regression Prediction: ', array([[ 7.26887145]]), 'Actual: ', array([[ 7.8]]))\n",
      "('Linear Regression Prediction: ', array([[ 6.53616778]]), 'Actual: ', array([[ 7.5]]))\n",
      "('Linear Regression Prediction: ', array([[ 6.00882571]]), 'Actual: ', array([[ 5.9]]))\n",
      "('Linear Regression Prediction: ', array([[ 7.02566445]]), 'Actual: ', array([[ 8.]]))\n",
      "('Linear Regression Prediction: ', array([[ 6.99589493]]), 'Actual: ', array([[ 8.1]]))\n",
      "('Linear Regression Prediction: ', array([[ 6.51107932]]), 'Actual: ', array([[ 6.6]]))\n"
     ]
    }
   ],
   "source": [
    "P = y_validation3.as_matrix()\n",
    "for i in range(0,301):\n",
    "    XYZ = np.array(LR_set.iloc[i])\n",
    "    lr_dp = model12.predict(XYZ)\n",
    "    print(\"Linear Regression Prediction: \",lr_dp, \"Actual: \", P[i:(i+1)])"
   ]
  },
  {
   "cell_type": "code",
   "execution_count": 304,
   "metadata": {
    "collapsed": true
   },
   "outputs": [],
   "source": [
    "model12_validation_err = ((model12.predict(X_validation3[['num_voted_users','movie_facebook_likes','duration','num_critic_for_reviews','num_user_for_reviews','director_facebook_likes']]) - y_validation3)**2).mean()[0]\n"
   ]
  },
  {
   "cell_type": "code",
   "execution_count": 305,
   "metadata": {
    "collapsed": false
   },
   "outputs": [
    {
     "data": {
      "text/plain": [
       "0.73369221353204195"
      ]
     },
     "execution_count": 305,
     "metadata": {},
     "output_type": "execute_result"
    }
   ],
   "source": [
    "model12_validation_err"
   ]
  },
  {
   "cell_type": "markdown",
   "metadata": {},
   "source": [
    "# RFR PREDICTION WITH FEATURE SET 3"
   ]
  },
  {
   "cell_type": "markdown",
   "metadata": {},
   "source": [
    "- RF_set is the Validation Dataset for model with FS3\n",
    "- RF2_set is the Validation Dataset for model with FS2"
   ]
  },
  {
   "cell_type": "code",
   "execution_count": 306,
   "metadata": {
    "collapsed": true
   },
   "outputs": [],
   "source": [
    "RF_set= X_validation2[['num_voted_users','movie_facebook_likes','duration','num_critic_for_reviews','num_user_for_reviews','director_facebook_likes']]"
   ]
  },
  {
   "cell_type": "code",
   "execution_count": 307,
   "metadata": {
    "collapsed": true
   },
   "outputs": [],
   "source": [
    "RF2_set= X_validation2[['num_voted_users','duration']]"
   ]
  },
  {
   "cell_type": "code",
   "execution_count": 308,
   "metadata": {
    "collapsed": false
   },
   "outputs": [
    {
     "data": {
      "text/plain": [
       "338"
      ]
     },
     "execution_count": 308,
     "metadata": {},
     "output_type": "execute_result"
    }
   ],
   "source": [
    "len(X_validation2)"
   ]
  },
  {
   "cell_type": "code",
   "execution_count": 309,
   "metadata": {
    "collapsed": false
   },
   "outputs": [
    {
     "name": "stdout",
     "output_type": "stream",
     "text": [
      "(' RFR Prediction: ', array([ 6.45]), 'Actual: ', array([[ 6.6]]))\n",
      "(' RFR Prediction: ', array([ 6.11]), 'Actual: ', array([[ 5.5]]))\n",
      "(' RFR Prediction: ', array([ 5.75]), 'Actual: ', array([[ 4.6]]))\n",
      "(' RFR Prediction: ', array([ 6.27]), 'Actual: ', array([[ 5.1]]))\n",
      "(' RFR Prediction: ', array([ 6.06]), 'Actual: ', array([[ 5.4]]))\n",
      "(' RFR Prediction: ', array([ 7.35]), 'Actual: ', array([[ 7.6]]))\n",
      "(' RFR Prediction: ', array([ 6.42]), 'Actual: ', array([[ 6.7]]))\n",
      "(' RFR Prediction: ', array([ 6.6]), 'Actual: ', array([[ 6.5]]))\n",
      "(' RFR Prediction: ', array([ 6.71]), 'Actual: ', array([[ 5.3]]))\n",
      "(' RFR Prediction: ', array([ 7.88]), 'Actual: ', array([[ 7.9]]))\n",
      "(' RFR Prediction: ', array([ 5.26]), 'Actual: ', array([[ 3.4]]))\n",
      "(' RFR Prediction: ', array([ 6.72]), 'Actual: ', array([[ 6.4]]))\n",
      "(' RFR Prediction: ', array([ 6.06]), 'Actual: ', array([[ 4.9]]))\n",
      "(' RFR Prediction: ', array([ 6.49]), 'Actual: ', array([[ 5.4]]))\n",
      "(' RFR Prediction: ', array([ 6.44]), 'Actual: ', array([[ 5.1]]))\n",
      "(' RFR Prediction: ', array([ 6.19]), 'Actual: ', array([[ 7.1]]))\n",
      "(' RFR Prediction: ', array([ 6.05]), 'Actual: ', array([[ 7.]]))\n",
      "(' RFR Prediction: ', array([ 6.4]), 'Actual: ', array([[ 7.]]))\n",
      "(' RFR Prediction: ', array([ 6.14]), 'Actual: ', array([[ 6.9]]))\n",
      "(' RFR Prediction: ', array([ 6.15]), 'Actual: ', array([[ 6.4]]))\n",
      "(' RFR Prediction: ', array([ 5.79]), 'Actual: ', array([[ 6.1]]))\n",
      "(' RFR Prediction: ', array([ 5.97]), 'Actual: ', array([[ 6.9]]))\n",
      "(' RFR Prediction: ', array([ 6.78]), 'Actual: ', array([[ 5.8]]))\n",
      "(' RFR Prediction: ', array([ 5.89]), 'Actual: ', array([[ 4.6]]))\n",
      "(' RFR Prediction: ', array([ 6.58]), 'Actual: ', array([[ 5.3]]))\n",
      "(' RFR Prediction: ', array([ 6.79]), 'Actual: ', array([[ 7.4]]))\n",
      "(' RFR Prediction: ', array([ 7.85]), 'Actual: ', array([[ 7.]]))\n",
      "(' RFR Prediction: ', array([ 4.06]), 'Actual: ', array([[ 2.7]]))\n",
      "(' RFR Prediction: ', array([ 6.21]), 'Actual: ', array([[ 7.6]]))\n",
      "(' RFR Prediction: ', array([ 7.06]), 'Actual: ', array([[ 6.2]]))\n",
      "(' RFR Prediction: ', array([ 5.45]), 'Actual: ', array([[ 7.4]]))\n",
      "(' RFR Prediction: ', array([ 7.7]), 'Actual: ', array([[ 7.6]]))\n",
      "(' RFR Prediction: ', array([ 7.31]), 'Actual: ', array([[ 7.2]]))\n",
      "(' RFR Prediction: ', array([ 6.25]), 'Actual: ', array([[ 5.8]]))\n",
      "(' RFR Prediction: ', array([ 6.42]), 'Actual: ', array([[ 6.6]]))\n",
      "(' RFR Prediction: ', array([ 6.13]), 'Actual: ', array([[ 7.5]]))\n",
      "(' RFR Prediction: ', array([ 5.47]), 'Actual: ', array([[ 7.6]]))\n",
      "(' RFR Prediction: ', array([ 6.34]), 'Actual: ', array([[ 5.2]]))\n",
      "(' RFR Prediction: ', array([ 6.97]), 'Actual: ', array([[ 6.7]]))\n",
      "(' RFR Prediction: ', array([ 6.36]), 'Actual: ', array([[ 5.6]]))\n",
      "(' RFR Prediction: ', array([ 6.07]), 'Actual: ', array([[ 7.2]]))\n",
      "(' RFR Prediction: ', array([ 6.25]), 'Actual: ', array([[ 6.8]]))\n",
      "(' RFR Prediction: ', array([ 7.18]), 'Actual: ', array([[ 6.6]]))\n",
      "(' RFR Prediction: ', array([ 6.44]), 'Actual: ', array([[ 5.6]]))\n",
      "(' RFR Prediction: ', array([ 6.27]), 'Actual: ', array([[ 6.9]]))\n",
      "(' RFR Prediction: ', array([ 6.3]), 'Actual: ', array([[ 6.9]]))\n",
      "(' RFR Prediction: ', array([ 7.06]), 'Actual: ', array([[ 7.8]]))\n",
      "(' RFR Prediction: ', array([ 6.58]), 'Actual: ', array([[ 6.2]]))\n",
      "(' RFR Prediction: ', array([ 6.62]), 'Actual: ', array([[ 5.8]]))\n",
      "(' RFR Prediction: ', array([ 6.76]), 'Actual: ', array([[ 7.5]]))\n",
      "(' RFR Prediction: ', array([ 6.01]), 'Actual: ', array([[ 5.8]]))\n",
      "(' RFR Prediction: ', array([ 7.19]), 'Actual: ', array([[ 7.8]]))\n",
      "(' RFR Prediction: ', array([ 6.9]), 'Actual: ', array([[ 7.8]]))\n",
      "(' RFR Prediction: ', array([ 6.09]), 'Actual: ', array([[ 6.6]]))\n",
      "(' RFR Prediction: ', array([ 5.99]), 'Actual: ', array([[ 7.1]]))\n",
      "(' RFR Prediction: ', array([ 6.48]), 'Actual: ', array([[ 7.]]))\n",
      "(' RFR Prediction: ', array([ 7.24]), 'Actual: ', array([[ 7.2]]))\n",
      "(' RFR Prediction: ', array([ 5.6]), 'Actual: ', array([[ 3.6]]))\n",
      "(' RFR Prediction: ', array([ 5.94]), 'Actual: ', array([[ 5.4]]))\n",
      "(' RFR Prediction: ', array([ 6.77]), 'Actual: ', array([[ 7.1]]))\n",
      "(' RFR Prediction: ', array([ 6.89]), 'Actual: ', array([[ 7.1]]))\n",
      "(' RFR Prediction: ', array([ 6.28]), 'Actual: ', array([[ 5.8]]))\n",
      "(' RFR Prediction: ', array([ 6.63]), 'Actual: ', array([[ 6.]]))\n",
      "(' RFR Prediction: ', array([ 6.66]), 'Actual: ', array([[ 6.8]]))\n",
      "(' RFR Prediction: ', array([ 6.68]), 'Actual: ', array([[ 7.3]]))\n",
      "(' RFR Prediction: ', array([ 7.32]), 'Actual: ', array([[ 7.4]]))\n",
      "(' RFR Prediction: ', array([ 6.48]), 'Actual: ', array([[ 7.1]]))\n",
      "(' RFR Prediction: ', array([ 8.22]), 'Actual: ', array([[ 8.1]]))\n",
      "(' RFR Prediction: ', array([ 6.81]), 'Actual: ', array([[ 6.4]]))\n",
      "(' RFR Prediction: ', array([ 6.64]), 'Actual: ', array([[ 6.4]]))\n",
      "(' RFR Prediction: ', array([ 5.58]), 'Actual: ', array([[ 5.1]]))\n",
      "(' RFR Prediction: ', array([ 6.02]), 'Actual: ', array([[ 7.3]]))\n",
      "(' RFR Prediction: ', array([ 6.95]), 'Actual: ', array([[ 7.]]))\n",
      "(' RFR Prediction: ', array([ 6.26]), 'Actual: ', array([[ 5.8]]))\n",
      "(' RFR Prediction: ', array([ 6.06]), 'Actual: ', array([[ 5.6]]))\n",
      "(' RFR Prediction: ', array([ 6.43]), 'Actual: ', array([[ 5.9]]))\n",
      "(' RFR Prediction: ', array([ 5.91]), 'Actual: ', array([[ 5.7]]))\n",
      "(' RFR Prediction: ', array([ 6.74]), 'Actual: ', array([[ 5.5]]))\n",
      "(' RFR Prediction: ', array([ 6.44]), 'Actual: ', array([[ 6.8]]))\n",
      "(' RFR Prediction: ', array([ 6.2]), 'Actual: ', array([[ 5.6]]))\n",
      "(' RFR Prediction: ', array([ 6.95]), 'Actual: ', array([[ 6.2]]))\n",
      "(' RFR Prediction: ', array([ 6.12]), 'Actual: ', array([[ 5.1]]))\n",
      "(' RFR Prediction: ', array([ 6.76]), 'Actual: ', array([[ 7.7]]))\n",
      "(' RFR Prediction: ', array([ 6.54]), 'Actual: ', array([[ 5.9]]))\n",
      "(' RFR Prediction: ', array([ 6.79]), 'Actual: ', array([[ 7.3]]))\n",
      "(' RFR Prediction: ', array([ 6.09]), 'Actual: ', array([[ 6.]]))\n",
      "(' RFR Prediction: ', array([ 5.71]), 'Actual: ', array([[ 4.9]]))\n",
      "(' RFR Prediction: ', array([ 5.98]), 'Actual: ', array([[ 5.8]]))\n",
      "(' RFR Prediction: ', array([ 6.7]), 'Actual: ', array([[ 6.1]]))\n",
      "(' RFR Prediction: ', array([ 6.61]), 'Actual: ', array([[ 6.1]]))\n",
      "(' RFR Prediction: ', array([ 6.52]), 'Actual: ', array([[ 7.2]]))\n",
      "(' RFR Prediction: ', array([ 4.91]), 'Actual: ', array([[ 5.5]]))\n",
      "(' RFR Prediction: ', array([ 8.22]), 'Actual: ', array([[ 8.5]]))\n",
      "(' RFR Prediction: ', array([ 4.74]), 'Actual: ', array([[ 5.1]]))\n",
      "(' RFR Prediction: ', array([ 5.99]), 'Actual: ', array([[ 6.5]]))\n",
      "(' RFR Prediction: ', array([ 4.67]), 'Actual: ', array([[ 6.9]]))\n",
      "(' RFR Prediction: ', array([ 6.52]), 'Actual: ', array([[ 6.1]]))\n",
      "(' RFR Prediction: ', array([ 7.24]), 'Actual: ', array([[ 7.]]))\n",
      "(' RFR Prediction: ', array([ 6.99]), 'Actual: ', array([[ 6.1]]))\n",
      "(' RFR Prediction: ', array([ 6.61]), 'Actual: ', array([[ 7.2]]))\n",
      "(' RFR Prediction: ', array([ 6.76]), 'Actual: ', array([[ 7.3]]))\n",
      "(' RFR Prediction: ', array([ 5.38]), 'Actual: ', array([[ 5.1]]))\n",
      "(' RFR Prediction: ', array([ 6.79]), 'Actual: ', array([[ 6.9]]))\n",
      "(' RFR Prediction: ', array([ 6.64]), 'Actual: ', array([[ 6.6]]))\n",
      "(' RFR Prediction: ', array([ 5.47]), 'Actual: ', array([[ 7.8]]))\n",
      "(' RFR Prediction: ', array([ 5.56]), 'Actual: ', array([[ 5.7]]))\n",
      "(' RFR Prediction: ', array([ 6.98]), 'Actual: ', array([[ 8.1]]))\n",
      "(' RFR Prediction: ', array([ 6.77]), 'Actual: ', array([[ 7.7]]))\n",
      "(' RFR Prediction: ', array([ 5.89]), 'Actual: ', array([[ 5.9]]))\n",
      "(' RFR Prediction: ', array([ 8.33]), 'Actual: ', array([[ 8.2]]))\n",
      "(' RFR Prediction: ', array([ 6.66]), 'Actual: ', array([[ 6.4]]))\n",
      "(' RFR Prediction: ', array([ 7.27]), 'Actual: ', array([[ 6.8]]))\n",
      "(' RFR Prediction: ', array([ 6.35]), 'Actual: ', array([[ 4.8]]))\n",
      "(' RFR Prediction: ', array([ 6.46]), 'Actual: ', array([[ 8.]]))\n",
      "(' RFR Prediction: ', array([ 7.42]), 'Actual: ', array([[ 7.9]]))\n",
      "(' RFR Prediction: ', array([ 6.84]), 'Actual: ', array([[ 6.9]]))\n",
      "(' RFR Prediction: ', array([ 5.55]), 'Actual: ', array([[ 5.6]]))\n",
      "(' RFR Prediction: ', array([ 6.15]), 'Actual: ', array([[ 6.]]))\n",
      "(' RFR Prediction: ', array([ 7.8]), 'Actual: ', array([[ 7.9]]))\n",
      "(' RFR Prediction: ', array([ 7.59]), 'Actual: ', array([[ 7.7]]))\n",
      "(' RFR Prediction: ', array([ 6.94]), 'Actual: ', array([[ 6.2]]))\n",
      "(' RFR Prediction: ', array([ 6.87]), 'Actual: ', array([[ 7.7]]))\n",
      "(' RFR Prediction: ', array([ 6.71]), 'Actual: ', array([[ 6.7]]))\n",
      "(' RFR Prediction: ', array([ 5.14]), 'Actual: ', array([[ 7.8]]))\n",
      "(' RFR Prediction: ', array([ 5.85]), 'Actual: ', array([[ 5.4]]))\n",
      "(' RFR Prediction: ', array([ 5.86]), 'Actual: ', array([[ 6.6]]))\n",
      "(' RFR Prediction: ', array([ 6.43]), 'Actual: ', array([[ 6.4]]))\n",
      "(' RFR Prediction: ', array([ 7.02]), 'Actual: ', array([[ 7.1]]))\n",
      "(' RFR Prediction: ', array([ 5.76]), 'Actual: ', array([[ 5.7]]))\n",
      "(' RFR Prediction: ', array([ 5.03]), 'Actual: ', array([[ 5.9]]))\n",
      "(' RFR Prediction: ', array([ 6.35]), 'Actual: ', array([[ 4.8]]))\n",
      "(' RFR Prediction: ', array([ 6.75]), 'Actual: ', array([[ 7.6]]))\n",
      "(' RFR Prediction: ', array([ 6.66]), 'Actual: ', array([[ 6.4]]))\n",
      "(' RFR Prediction: ', array([ 6.95]), 'Actual: ', array([[ 5.8]]))\n",
      "(' RFR Prediction: ', array([ 6.52]), 'Actual: ', array([[ 5.9]]))\n",
      "(' RFR Prediction: ', array([ 6.33]), 'Actual: ', array([[ 6.5]]))\n",
      "(' RFR Prediction: ', array([ 6.48]), 'Actual: ', array([[ 5.6]]))\n",
      "(' RFR Prediction: ', array([ 6.84]), 'Actual: ', array([[ 6.7]]))\n",
      "(' RFR Prediction: ', array([ 6.65]), 'Actual: ', array([[ 6.8]]))\n",
      "(' RFR Prediction: ', array([ 7.44]), 'Actual: ', array([[ 8.1]]))\n",
      "(' RFR Prediction: ', array([ 5.96]), 'Actual: ', array([[ 6.2]]))\n",
      "(' RFR Prediction: ', array([ 6.29]), 'Actual: ', array([[ 6.9]]))\n",
      "(' RFR Prediction: ', array([ 6.11]), 'Actual: ', array([[ 6.3]]))\n",
      "(' RFR Prediction: ', array([ 6.18]), 'Actual: ', array([[ 5.7]]))\n",
      "(' RFR Prediction: ', array([ 6.6]), 'Actual: ', array([[ 8.]]))\n",
      "(' RFR Prediction: ', array([ 5.71]), 'Actual: ', array([[ 6.4]]))\n",
      "(' RFR Prediction: ', array([ 6.96]), 'Actual: ', array([[ 7.3]]))\n",
      "(' RFR Prediction: ', array([ 5.87]), 'Actual: ', array([[ 8.2]]))\n",
      "(' RFR Prediction: ', array([ 7.63]), 'Actual: ', array([[ 7.8]]))\n",
      "(' RFR Prediction: ', array([ 6.48]), 'Actual: ', array([[ 7.]]))\n",
      "(' RFR Prediction: ', array([ 6.62]), 'Actual: ', array([[ 7.5]]))\n",
      "(' RFR Prediction: ', array([ 5.57]), 'Actual: ', array([[ 5.8]]))\n",
      "(' RFR Prediction: ', array([ 7.64]), 'Actual: ', array([[ 7.2]]))\n",
      "(' RFR Prediction: ', array([ 5.29]), 'Actual: ', array([[ 5.5]]))\n",
      "(' RFR Prediction: ', array([ 6.18]), 'Actual: ', array([[ 6.]]))\n",
      "(' RFR Prediction: ', array([ 5.48]), 'Actual: ', array([[ 5.3]]))\n",
      "(' RFR Prediction: ', array([ 6.61]), 'Actual: ', array([[ 6.2]]))\n",
      "(' RFR Prediction: ', array([ 5.9]), 'Actual: ', array([[ 5.1]]))\n",
      "(' RFR Prediction: ', array([ 5.19]), 'Actual: ', array([[ 5.8]]))\n",
      "(' RFR Prediction: ', array([ 5.78]), 'Actual: ', array([[ 5.6]]))\n",
      "(' RFR Prediction: ', array([ 6.46]), 'Actual: ', array([[ 6.]]))\n",
      "(' RFR Prediction: ', array([ 7.31]), 'Actual: ', array([[ 7.4]]))\n",
      "(' RFR Prediction: ', array([ 7.51]), 'Actual: ', array([[ 8.]]))\n",
      "(' RFR Prediction: ', array([ 7.39]), 'Actual: ', array([[ 7.4]]))\n",
      "(' RFR Prediction: ', array([ 6.99]), 'Actual: ', array([[ 7.]]))\n",
      "(' RFR Prediction: ', array([ 7.19]), 'Actual: ', array([[ 7.3]]))\n",
      "(' RFR Prediction: ', array([ 5.6]), 'Actual: ', array([[ 7.2]]))\n",
      "(' RFR Prediction: ', array([ 6.39]), 'Actual: ', array([[ 7.1]]))\n",
      "(' RFR Prediction: ', array([ 6.59]), 'Actual: ', array([[ 6.5]]))\n",
      "(' RFR Prediction: ', array([ 5.37]), 'Actual: ', array([[ 5.7]]))\n",
      "(' RFR Prediction: ', array([ 6.27]), 'Actual: ', array([[ 7.2]]))\n",
      "(' RFR Prediction: ', array([ 6.6]), 'Actual: ', array([[ 3.7]]))\n",
      "(' RFR Prediction: ', array([ 6.61]), 'Actual: ', array([[ 7.]]))\n",
      "(' RFR Prediction: ', array([ 5.9]), 'Actual: ', array([[ 6.4]]))\n",
      "(' RFR Prediction: ', array([ 8.39]), 'Actual: ', array([[ 8.5]]))\n",
      "(' RFR Prediction: ', array([ 7.34]), 'Actual: ', array([[ 7.7]]))\n",
      "(' RFR Prediction: ', array([ 6.69]), 'Actual: ', array([[ 7.2]]))\n",
      "(' RFR Prediction: ', array([ 5.24]), 'Actual: ', array([[ 5.3]]))\n",
      "(' RFR Prediction: ', array([ 5.83]), 'Actual: ', array([[ 6.4]]))\n",
      "(' RFR Prediction: ', array([ 6.01]), 'Actual: ', array([[ 6.6]]))\n",
      "(' RFR Prediction: ', array([ 6.99]), 'Actual: ', array([[ 7.]]))\n",
      "(' RFR Prediction: ', array([ 6.15]), 'Actual: ', array([[ 5.9]]))\n",
      "(' RFR Prediction: ', array([ 7.]), 'Actual: ', array([[ 7.4]]))\n",
      "(' RFR Prediction: ', array([ 6.1]), 'Actual: ', array([[ 6.8]]))\n",
      "(' RFR Prediction: ', array([ 5.57]), 'Actual: ', array([[ 7.]]))\n",
      "(' RFR Prediction: ', array([ 7.47]), 'Actual: ', array([[ 7.7]]))\n",
      "(' RFR Prediction: ', array([ 6.6]), 'Actual: ', array([[ 4.5]]))\n",
      "(' RFR Prediction: ', array([ 6.48]), 'Actual: ', array([[ 7.4]]))\n",
      "(' RFR Prediction: ', array([ 5.71]), 'Actual: ', array([[ 6.]]))\n",
      "(' RFR Prediction: ', array([ 6.39]), 'Actual: ', array([[ 5.6]]))\n",
      "(' RFR Prediction: ', array([ 7.04]), 'Actual: ', array([[ 6.7]]))\n",
      "(' RFR Prediction: ', array([ 5.36]), 'Actual: ', array([[ 5.3]]))\n",
      "(' RFR Prediction: ', array([ 7.08]), 'Actual: ', array([[ 7.7]]))\n",
      "(' RFR Prediction: ', array([ 5.94]), 'Actual: ', array([[ 5.7]]))\n",
      "(' RFR Prediction: ', array([ 6.94]), 'Actual: ', array([[ 6.9]]))\n",
      "(' RFR Prediction: ', array([ 5.32]), 'Actual: ', array([[ 6.]]))\n",
      "(' RFR Prediction: ', array([ 6.41]), 'Actual: ', array([[ 5.2]]))\n",
      "(' RFR Prediction: ', array([ 7.16]), 'Actual: ', array([[ 7.5]]))\n",
      "(' RFR Prediction: ', array([ 6.49]), 'Actual: ', array([[ 6.]]))\n",
      "(' RFR Prediction: ', array([ 6.31]), 'Actual: ', array([[ 6.8]]))\n",
      "(' RFR Prediction: ', array([ 6.07]), 'Actual: ', array([[ 6.3]]))\n",
      "(' RFR Prediction: ', array([ 5.43]), 'Actual: ', array([[ 7.5]]))\n",
      "(' RFR Prediction: ', array([ 7.63]), 'Actual: ', array([[ 7.8]]))\n",
      "(' RFR Prediction: ', array([ 6.29]), 'Actual: ', array([[ 5.5]]))\n",
      "(' RFR Prediction: ', array([ 6.24]), 'Actual: ', array([[ 6.7]]))\n",
      "(' RFR Prediction: ', array([ 6.64]), 'Actual: ', array([[ 7.1]]))\n",
      "(' RFR Prediction: ', array([ 6.64]), 'Actual: ', array([[ 7.2]]))\n",
      "(' RFR Prediction: ', array([ 6.33]), 'Actual: ', array([[ 5.1]]))\n",
      "(' RFR Prediction: ', array([ 6.21]), 'Actual: ', array([[ 7.5]]))\n",
      "(' RFR Prediction: ', array([ 7.05]), 'Actual: ', array([[ 7.8]]))\n",
      "(' RFR Prediction: ', array([ 5.12]), 'Actual: ', array([[ 6.1]]))\n",
      "(' RFR Prediction: ', array([ 5.53]), 'Actual: ', array([[ 6.1]]))\n",
      "(' RFR Prediction: ', array([ 6.65]), 'Actual: ', array([[ 6.3]]))\n",
      "(' RFR Prediction: ', array([ 6.74]), 'Actual: ', array([[ 7.6]]))\n",
      "(' RFR Prediction: ', array([ 5.68]), 'Actual: ', array([[ 5.4]]))\n",
      "(' RFR Prediction: ', array([ 6.66]), 'Actual: ', array([[ 7.6]]))\n",
      "(' RFR Prediction: ', array([ 7.03]), 'Actual: ', array([[ 6.7]]))\n",
      "(' RFR Prediction: ', array([ 7.27]), 'Actual: ', array([[ 7.2]]))\n",
      "(' RFR Prediction: ', array([ 6.95]), 'Actual: ', array([[ 7.7]]))\n",
      "(' RFR Prediction: ', array([ 5.44]), 'Actual: ', array([[ 6.4]]))\n",
      "(' RFR Prediction: ', array([ 6.44]), 'Actual: ', array([[ 7.2]]))\n",
      "(' RFR Prediction: ', array([ 6.28]), 'Actual: ', array([[ 6.8]]))\n",
      "(' RFR Prediction: ', array([ 8.41]), 'Actual: ', array([[ 8.5]]))\n",
      "(' RFR Prediction: ', array([ 7.39]), 'Actual: ', array([[ 6.9]]))\n",
      "(' RFR Prediction: ', array([ 7.3]), 'Actual: ', array([[ 7.3]]))\n",
      "(' RFR Prediction: ', array([ 6.66]), 'Actual: ', array([[ 7.]]))\n",
      "(' RFR Prediction: ', array([ 6.82]), 'Actual: ', array([[ 6.3]]))\n",
      "(' RFR Prediction: ', array([ 6.39]), 'Actual: ', array([[ 5.]]))\n",
      "(' RFR Prediction: ', array([ 6.51]), 'Actual: ', array([[ 7.6]]))\n",
      "(' RFR Prediction: ', array([ 5.78]), 'Actual: ', array([[ 5.1]]))\n",
      "(' RFR Prediction: ', array([ 6.23]), 'Actual: ', array([[ 7.2]]))\n",
      "(' RFR Prediction: ', array([ 5.87]), 'Actual: ', array([[ 5.7]]))\n",
      "(' RFR Prediction: ', array([ 4.77]), 'Actual: ', array([[ 3.3]]))\n",
      "(' RFR Prediction: ', array([ 6.39]), 'Actual: ', array([[ 7.1]]))\n",
      "(' RFR Prediction: ', array([ 5.82]), 'Actual: ', array([[ 7.8]]))\n",
      "(' RFR Prediction: ', array([ 6.5]), 'Actual: ', array([[ 6.4]]))\n",
      "(' RFR Prediction: ', array([ 6.89]), 'Actual: ', array([[ 7.]]))\n",
      "(' RFR Prediction: ', array([ 6.71]), 'Actual: ', array([[ 5.8]]))\n",
      "(' RFR Prediction: ', array([ 5.77]), 'Actual: ', array([[ 5.4]]))\n",
      "(' RFR Prediction: ', array([ 6.77]), 'Actual: ', array([[ 5.5]]))\n",
      "(' RFR Prediction: ', array([ 6.2]), 'Actual: ', array([[ 6.2]]))\n",
      "(' RFR Prediction: ', array([ 4.65]), 'Actual: ', array([[ 5.9]]))\n",
      "(' RFR Prediction: ', array([ 6.73]), 'Actual: ', array([[ 7.6]]))\n",
      "(' RFR Prediction: ', array([ 5.98]), 'Actual: ', array([[ 5.9]]))\n",
      "(' RFR Prediction: ', array([ 7.03]), 'Actual: ', array([[ 6.7]]))\n",
      "(' RFR Prediction: ', array([ 6.98]), 'Actual: ', array([[ 5.8]]))\n",
      "(' RFR Prediction: ', array([ 6.8]), 'Actual: ', array([[ 7.2]]))\n",
      "(' RFR Prediction: ', array([ 6.59]), 'Actual: ', array([[ 6.5]]))\n",
      "(' RFR Prediction: ', array([ 6.2]), 'Actual: ', array([[ 6.5]]))\n",
      "(' RFR Prediction: ', array([ 8.87]), 'Actual: ', array([[ 8.8]]))\n",
      "(' RFR Prediction: ', array([ 5.68]), 'Actual: ', array([[ 5.]]))\n",
      "(' RFR Prediction: ', array([ 5.9]), 'Actual: ', array([[ 7.1]]))\n",
      "(' RFR Prediction: ', array([ 6.33]), 'Actual: ', array([[ 6.3]]))\n",
      "(' RFR Prediction: ', array([ 5.33]), 'Actual: ', array([[ 2.8]]))\n",
      "(' RFR Prediction: ', array([ 7.11]), 'Actual: ', array([[ 6.9]]))\n",
      "(' RFR Prediction: ', array([ 6.86]), 'Actual: ', array([[ 6.4]]))\n",
      "(' RFR Prediction: ', array([ 5.74]), 'Actual: ', array([[ 4.8]]))\n",
      "(' RFR Prediction: ', array([ 6.43]), 'Actual: ', array([[ 6.4]]))\n",
      "(' RFR Prediction: ', array([ 6.22]), 'Actual: ', array([[ 6.5]]))\n",
      "(' RFR Prediction: ', array([ 6.51]), 'Actual: ', array([[ 6.3]]))\n",
      "(' RFR Prediction: ', array([ 6.64]), 'Actual: ', array([[ 7.4]]))\n",
      "(' RFR Prediction: ', array([ 7.19]), 'Actual: ', array([[ 7.5]]))\n",
      "(' RFR Prediction: ', array([ 7.54]), 'Actual: ', array([[ 6.8]]))\n",
      "(' RFR Prediction: ', array([ 6.14]), 'Actual: ', array([[ 7.1]]))\n",
      "(' RFR Prediction: ', array([ 6.77]), 'Actual: ', array([[ 8.1]]))\n",
      "(' RFR Prediction: ', array([ 6.12]), 'Actual: ', array([[ 6.8]]))\n",
      "(' RFR Prediction: ', array([ 7.12]), 'Actual: ', array([[ 7.8]]))\n",
      "(' RFR Prediction: ', array([ 7.05]), 'Actual: ', array([[ 7.3]]))\n",
      "(' RFR Prediction: ', array([ 7.28]), 'Actual: ', array([[ 7.7]]))\n",
      "(' RFR Prediction: ', array([ 5.63]), 'Actual: ', array([[ 6.5]]))\n",
      "(' RFR Prediction: ', array([ 6.75]), 'Actual: ', array([[ 7.2]]))\n",
      "(' RFR Prediction: ', array([ 5.43]), 'Actual: ', array([[ 4.6]]))\n",
      "(' RFR Prediction: ', array([ 6.47]), 'Actual: ', array([[ 6.6]]))\n",
      "(' RFR Prediction: ', array([ 6.52]), 'Actual: ', array([[ 6.8]]))\n",
      "(' RFR Prediction: ', array([ 6.52]), 'Actual: ', array([[ 6.1]]))\n",
      "(' RFR Prediction: ', array([ 6.32]), 'Actual: ', array([[ 6.]]))\n",
      "(' RFR Prediction: ', array([ 7.46]), 'Actual: ', array([[ 8.1]]))\n",
      "(' RFR Prediction: ', array([ 6.67]), 'Actual: ', array([[ 6.8]]))\n",
      "(' RFR Prediction: ', array([ 6.84]), 'Actual: ', array([[ 6.7]]))\n",
      "(' RFR Prediction: ', array([ 5.43]), 'Actual: ', array([[ 4.5]]))\n",
      "(' RFR Prediction: ', array([ 6.68]), 'Actual: ', array([[ 6.7]]))\n",
      "(' RFR Prediction: ', array([ 6.76]), 'Actual: ', array([[ 6.7]]))\n",
      "(' RFR Prediction: ', array([ 6.78]), 'Actual: ', array([[ 7.2]]))\n",
      "(' RFR Prediction: ', array([ 5.98]), 'Actual: ', array([[ 6.4]]))\n",
      "(' RFR Prediction: ', array([ 6.29]), 'Actual: ', array([[ 6.3]]))\n",
      "(' RFR Prediction: ', array([ 6.27]), 'Actual: ', array([[ 6.9]]))\n",
      "(' RFR Prediction: ', array([ 7.02]), 'Actual: ', array([[ 5.6]]))\n",
      "(' RFR Prediction: ', array([ 6.92]), 'Actual: ', array([[ 6.9]]))\n",
      "(' RFR Prediction: ', array([ 7.84]), 'Actual: ', array([[ 7.]]))\n",
      "(' RFR Prediction: ', array([ 8.44]), 'Actual: ', array([[ 8.4]]))\n",
      "(' RFR Prediction: ', array([ 5.65]), 'Actual: ', array([[ 5.9]]))\n",
      "(' RFR Prediction: ', array([ 6.56]), 'Actual: ', array([[ 6.5]]))\n",
      "(' RFR Prediction: ', array([ 6.43]), 'Actual: ', array([[ 4.6]]))\n",
      "(' RFR Prediction: ', array([ 7.16]), 'Actual: ', array([[ 6.4]]))\n",
      "(' RFR Prediction: ', array([ 6.48]), 'Actual: ', array([[ 7.]]))\n",
      "(' RFR Prediction: ', array([ 6.64]), 'Actual: ', array([[ 7.1]]))\n",
      "(' RFR Prediction: ', array([ 6.63]), 'Actual: ', array([[ 7.3]]))\n",
      "(' RFR Prediction: ', array([ 6.45]), 'Actual: ', array([[ 7.]]))\n",
      "(' RFR Prediction: ', array([ 6.79]), 'Actual: ', array([[ 7.]]))\n",
      "(' RFR Prediction: ', array([ 6.41]), 'Actual: ', array([[ 6.1]]))\n",
      "(' RFR Prediction: ', array([ 4.56]), 'Actual: ', array([[ 4.7]]))\n",
      "(' RFR Prediction: ', array([ 7.1]), 'Actual: ', array([[ 7.6]]))\n",
      "(' RFR Prediction: ', array([ 5.81]), 'Actual: ', array([[ 5.9]]))\n",
      "(' RFR Prediction: ', array([ 6.06]), 'Actual: ', array([[ 7.5]]))\n",
      "(' RFR Prediction: ', array([ 6.78]), 'Actual: ', array([[ 5.8]]))\n",
      "(' RFR Prediction: ', array([ 7.02]), 'Actual: ', array([[ 5.5]]))\n",
      "(' RFR Prediction: ', array([ 6.31]), 'Actual: ', array([[ 6.6]]))\n",
      "(' RFR Prediction: ', array([ 6.04]), 'Actual: ', array([[ 6.9]]))\n",
      "(' RFR Prediction: ', array([ 6.92]), 'Actual: ', array([[ 6.6]]))\n",
      "(' RFR Prediction: ', array([ 8.51]), 'Actual: ', array([[ 7.7]]))\n",
      "(' RFR Prediction: ', array([ 5.96]), 'Actual: ', array([[ 5.8]]))\n",
      "(' RFR Prediction: ', array([ 6.23]), 'Actual: ', array([[ 6.3]]))\n",
      "(' RFR Prediction: ', array([ 5.43]), 'Actual: ', array([[ 7.1]]))\n",
      "(' RFR Prediction: ', array([ 6.53]), 'Actual: ', array([[ 6.2]]))\n",
      "(' RFR Prediction: ', array([ 6.07]), 'Actual: ', array([[ 7.2]]))\n",
      "(' RFR Prediction: ', array([ 5.28]), 'Actual: ', array([[ 5.6]]))\n",
      "(' RFR Prediction: ', array([ 6.6]), 'Actual: ', array([[ 7.1]]))\n",
      "(' RFR Prediction: ', array([ 5.18]), 'Actual: ', array([[ 6.3]]))\n",
      "(' RFR Prediction: ', array([ 6.84]), 'Actual: ', array([[ 7.]]))\n",
      "(' RFR Prediction: ', array([ 6.59]), 'Actual: ', array([[ 7.4]]))\n",
      "(' RFR Prediction: ', array([ 6.81]), 'Actual: ', array([[ 7.]]))\n",
      "(' RFR Prediction: ', array([ 6.76]), 'Actual: ', array([[ 6.9]]))\n",
      "(' RFR Prediction: ', array([ 5.68]), 'Actual: ', array([[ 5.4]]))\n",
      "(' RFR Prediction: ', array([ 6.4]), 'Actual: ', array([[ 7.9]]))\n",
      "(' RFR Prediction: ', array([ 6.67]), 'Actual: ', array([[ 5.5]]))\n",
      "(' RFR Prediction: ', array([ 6.32]), 'Actual: ', array([[ 6.]]))\n",
      "(' RFR Prediction: ', array([ 5.8]), 'Actual: ', array([[ 6.1]]))\n",
      "(' RFR Prediction: ', array([ 6.03]), 'Actual: ', array([[ 6.7]]))\n",
      "(' RFR Prediction: ', array([ 5.47]), 'Actual: ', array([[ 4.9]]))\n",
      "(' RFR Prediction: ', array([ 7.21]), 'Actual: ', array([[ 6.6]]))\n",
      "(' RFR Prediction: ', array([ 5.33]), 'Actual: ', array([[ 5.2]]))\n",
      "(' RFR Prediction: ', array([ 6.91]), 'Actual: ', array([[ 7.]]))\n",
      "(' RFR Prediction: ', array([ 6.31]), 'Actual: ', array([[ 6.2]]))\n",
      "(' RFR Prediction: ', array([ 6.64]), 'Actual: ', array([[ 6.6]]))\n",
      "(' RFR Prediction: ', array([ 5.8]), 'Actual: ', array([[ 5.9]]))\n",
      "(' RFR Prediction: ', array([ 6.53]), 'Actual: ', array([[ 6.9]]))\n",
      "(' RFR Prediction: ', array([ 5.52]), 'Actual: ', array([[ 7.7]]))\n",
      "(' RFR Prediction: ', array([ 7.23]), 'Actual: ', array([[ 6.9]]))\n"
     ]
    }
   ],
   "source": [
    "P = y_validation2.as_matrix()\n",
    "for i in range(0,338):\n",
    "    XYZ = np.array(RF_set.iloc[i])\n",
    "    rf_dp = model_rf9.predict(XYZ)\n",
    "    print(\" RFR Prediction: \",rf_dp, \"Actual: \", P[i:(i+1)])"
   ]
  },
  {
   "cell_type": "code",
   "execution_count": 310,
   "metadata": {
    "collapsed": false
   },
   "outputs": [],
   "source": [
    "#model_rf6_validation_err = ((model_rf6.predict(X_validation1[['num_voted_users','movie_facebook_likes','duration','num_critic_for_reviews','num_user_for_reviews','director_facebook_likes']]) - y_validation1)**2).mean()[0]\n",
    "\n",
    "temp_rf_val = model_rf9.predict(X_validation2[['num_voted_users','movie_facebook_likes','duration','num_critic_for_reviews','num_user_for_reviews','director_facebook_likes']])\n",
    "MatVal = y_validation2.as_matrix()\n",
    "model_rf9_validation_err = ((temp_rf_val - MatVal)**2).mean()"
   ]
  },
  {
   "cell_type": "code",
   "execution_count": 311,
   "metadata": {
    "collapsed": false
   },
   "outputs": [
    {
     "data": {
      "text/plain": [
       "1.4650240800392147"
      ]
     },
     "execution_count": 311,
     "metadata": {},
     "output_type": "execute_result"
    }
   ],
   "source": [
    "model_rf9_validation_err"
   ]
  },
  {
   "cell_type": "code",
   "execution_count": 312,
   "metadata": {
    "collapsed": false
   },
   "outputs": [
    {
     "name": "stdout",
     "output_type": "stream",
     "text": [
      "(' RFR Prediction: ', array([ 7.56]), 'Actual: ', array([[ 6.6]]))\n",
      "(' RFR Prediction: ', array([ 5.83]), 'Actual: ', array([[ 5.5]]))\n",
      "(' RFR Prediction: ', array([ 6.08]), 'Actual: ', array([[ 4.6]]))\n",
      "(' RFR Prediction: ', array([ 6.06]), 'Actual: ', array([[ 5.1]]))\n",
      "(' RFR Prediction: ', array([ 5.76]), 'Actual: ', array([[ 5.4]]))\n",
      "(' RFR Prediction: ', array([ 7.39]), 'Actual: ', array([[ 7.6]]))\n",
      "(' RFR Prediction: ', array([ 5.87]), 'Actual: ', array([[ 6.7]]))\n",
      "(' RFR Prediction: ', array([ 6.92]), 'Actual: ', array([[ 6.5]]))\n",
      "(' RFR Prediction: ', array([ 5.8]), 'Actual: ', array([[ 5.3]]))\n",
      "(' RFR Prediction: ', array([ 7.61]), 'Actual: ', array([[ 7.9]]))\n",
      "(' RFR Prediction: ', array([ 4.71]), 'Actual: ', array([[ 3.4]]))\n",
      "(' RFR Prediction: ', array([ 7.18]), 'Actual: ', array([[ 6.4]]))\n",
      "(' RFR Prediction: ', array([ 5.61]), 'Actual: ', array([[ 4.9]]))\n",
      "(' RFR Prediction: ', array([ 5.9]), 'Actual: ', array([[ 5.4]]))\n",
      "(' RFR Prediction: ', array([ 6.53]), 'Actual: ', array([[ 5.1]]))\n",
      "(' RFR Prediction: ', array([ 5.96]), 'Actual: ', array([[ 7.1]]))\n",
      "(' RFR Prediction: ', array([ 6.42]), 'Actual: ', array([[ 7.]]))\n",
      "(' RFR Prediction: ', array([ 6.23]), 'Actual: ', array([[ 7.]]))\n",
      "(' RFR Prediction: ', array([ 6.78]), 'Actual: ', array([[ 6.9]]))\n",
      "(' RFR Prediction: ', array([ 5.79]), 'Actual: ', array([[ 6.4]]))\n",
      "(' RFR Prediction: ', array([ 5.8]), 'Actual: ', array([[ 6.1]]))\n",
      "(' RFR Prediction: ', array([ 6.34]), 'Actual: ', array([[ 6.9]]))\n",
      "(' RFR Prediction: ', array([ 6.51]), 'Actual: ', array([[ 5.8]]))\n",
      "(' RFR Prediction: ', array([ 5.91]), 'Actual: ', array([[ 4.6]]))\n",
      "(' RFR Prediction: ', array([ 6.14]), 'Actual: ', array([[ 5.3]]))\n",
      "(' RFR Prediction: ', array([ 7.12]), 'Actual: ', array([[ 7.4]]))\n",
      "(' RFR Prediction: ', array([ 7.67]), 'Actual: ', array([[ 7.]]))\n",
      "(' RFR Prediction: ', array([ 5.53]), 'Actual: ', array([[ 2.7]]))\n",
      "(' RFR Prediction: ', array([ 7.12]), 'Actual: ', array([[ 7.6]]))\n",
      "(' RFR Prediction: ', array([ 7.55]), 'Actual: ', array([[ 6.2]]))\n",
      "(' RFR Prediction: ', array([ 5.67]), 'Actual: ', array([[ 7.4]]))\n",
      "(' RFR Prediction: ', array([ 7.78]), 'Actual: ', array([[ 7.6]]))\n",
      "(' RFR Prediction: ', array([ 6.69]), 'Actual: ', array([[ 7.2]]))\n",
      "(' RFR Prediction: ', array([ 5.68]), 'Actual: ', array([[ 5.8]]))\n",
      "(' RFR Prediction: ', array([ 6.09]), 'Actual: ', array([[ 6.6]]))\n",
      "(' RFR Prediction: ', array([ 5.58]), 'Actual: ', array([[ 7.5]]))\n",
      "(' RFR Prediction: ', array([ 5.37]), 'Actual: ', array([[ 7.6]]))\n",
      "(' RFR Prediction: ', array([ 6.24]), 'Actual: ', array([[ 5.2]]))\n",
      "(' RFR Prediction: ', array([ 6.63]), 'Actual: ', array([[ 6.7]]))\n",
      "(' RFR Prediction: ', array([ 6.09]), 'Actual: ', array([[ 5.6]]))\n",
      "(' RFR Prediction: ', array([ 5.85]), 'Actual: ', array([[ 7.2]]))\n",
      "(' RFR Prediction: ', array([ 5.81]), 'Actual: ', array([[ 6.8]]))\n",
      "(' RFR Prediction: ', array([ 6.22]), 'Actual: ', array([[ 6.6]]))\n",
      "(' RFR Prediction: ', array([ 6.34]), 'Actual: ', array([[ 5.6]]))\n",
      "(' RFR Prediction: ', array([ 7.11]), 'Actual: ', array([[ 6.9]]))\n",
      "(' RFR Prediction: ', array([ 6.42]), 'Actual: ', array([[ 6.9]]))\n",
      "(' RFR Prediction: ', array([ 6.73]), 'Actual: ', array([[ 7.8]]))\n",
      "(' RFR Prediction: ', array([ 6.82]), 'Actual: ', array([[ 6.2]]))\n",
      "(' RFR Prediction: ', array([ 6.36]), 'Actual: ', array([[ 5.8]]))\n",
      "(' RFR Prediction: ', array([ 7.31]), 'Actual: ', array([[ 7.5]]))\n",
      "(' RFR Prediction: ', array([ 6.05]), 'Actual: ', array([[ 5.8]]))\n",
      "(' RFR Prediction: ', array([ 6.7]), 'Actual: ', array([[ 7.8]]))\n",
      "(' RFR Prediction: ', array([ 7.11]), 'Actual: ', array([[ 7.8]]))\n",
      "(' RFR Prediction: ', array([ 5.22]), 'Actual: ', array([[ 6.6]]))\n",
      "(' RFR Prediction: ', array([ 6.12]), 'Actual: ', array([[ 7.1]]))\n",
      "(' RFR Prediction: ', array([ 6.33]), 'Actual: ', array([[ 7.]]))\n",
      "(' RFR Prediction: ', array([ 6.24]), 'Actual: ', array([[ 7.2]]))\n",
      "(' RFR Prediction: ', array([ 5.12]), 'Actual: ', array([[ 3.6]]))\n",
      "(' RFR Prediction: ', array([ 5.95]), 'Actual: ', array([[ 5.4]]))\n",
      "(' RFR Prediction: ', array([ 6.11]), 'Actual: ', array([[ 7.1]]))\n",
      "(' RFR Prediction: ', array([ 7.43]), 'Actual: ', array([[ 7.1]]))\n",
      "(' RFR Prediction: ', array([ 6.45]), 'Actual: ', array([[ 5.8]]))\n",
      "(' RFR Prediction: ', array([ 5.53]), 'Actual: ', array([[ 6.]]))\n",
      "(' RFR Prediction: ', array([ 6.75]), 'Actual: ', array([[ 6.8]]))\n",
      "(' RFR Prediction: ', array([ 7.07]), 'Actual: ', array([[ 7.3]]))\n",
      "(' RFR Prediction: ', array([ 7.34]), 'Actual: ', array([[ 7.4]]))\n",
      "(' RFR Prediction: ', array([ 6.79]), 'Actual: ', array([[ 7.1]]))\n",
      "(' RFR Prediction: ', array([ 8.45]), 'Actual: ', array([[ 8.1]]))\n",
      "(' RFR Prediction: ', array([ 7.]), 'Actual: ', array([[ 6.4]]))\n",
      "(' RFR Prediction: ', array([ 4.96]), 'Actual: ', array([[ 6.4]]))\n",
      "(' RFR Prediction: ', array([ 5.67]), 'Actual: ', array([[ 5.1]]))\n",
      "(' RFR Prediction: ', array([ 6.19]), 'Actual: ', array([[ 7.3]]))\n",
      "(' RFR Prediction: ', array([ 6.62]), 'Actual: ', array([[ 7.]]))\n",
      "(' RFR Prediction: ', array([ 6.2]), 'Actual: ', array([[ 5.8]]))\n",
      "(' RFR Prediction: ', array([ 6.62]), 'Actual: ', array([[ 5.6]]))\n",
      "(' RFR Prediction: ', array([ 6.28]), 'Actual: ', array([[ 5.9]]))\n",
      "(' RFR Prediction: ', array([ 6.71]), 'Actual: ', array([[ 5.7]]))\n",
      "(' RFR Prediction: ', array([ 6.67]), 'Actual: ', array([[ 5.5]]))\n",
      "(' RFR Prediction: ', array([ 6.18]), 'Actual: ', array([[ 6.8]]))\n",
      "(' RFR Prediction: ', array([ 5.37]), 'Actual: ', array([[ 5.6]]))\n",
      "(' RFR Prediction: ', array([ 6.33]), 'Actual: ', array([[ 6.2]]))\n",
      "(' RFR Prediction: ', array([ 4.07]), 'Actual: ', array([[ 5.1]]))\n",
      "(' RFR Prediction: ', array([ 6.73]), 'Actual: ', array([[ 7.7]]))\n",
      "(' RFR Prediction: ', array([ 6.62]), 'Actual: ', array([[ 5.9]]))\n",
      "(' RFR Prediction: ', array([ 6.53]), 'Actual: ', array([[ 7.3]]))\n",
      "(' RFR Prediction: ', array([ 5.22]), 'Actual: ', array([[ 6.]]))\n",
      "(' RFR Prediction: ', array([ 5.01]), 'Actual: ', array([[ 4.9]]))\n",
      "(' RFR Prediction: ', array([ 6.03]), 'Actual: ', array([[ 5.8]]))\n",
      "(' RFR Prediction: ', array([ 7.18]), 'Actual: ', array([[ 6.1]]))\n",
      "(' RFR Prediction: ', array([ 7.33]), 'Actual: ', array([[ 6.1]]))\n",
      "(' RFR Prediction: ', array([ 6.77]), 'Actual: ', array([[ 7.2]]))\n",
      "(' RFR Prediction: ', array([ 5.8]), 'Actual: ', array([[ 5.5]]))\n",
      "(' RFR Prediction: ', array([ 7.91]), 'Actual: ', array([[ 8.5]]))\n",
      "(' RFR Prediction: ', array([ 6.]), 'Actual: ', array([[ 5.1]]))\n",
      "(' RFR Prediction: ', array([ 6.27]), 'Actual: ', array([[ 6.5]]))\n",
      "(' RFR Prediction: ', array([ 5.16]), 'Actual: ', array([[ 6.9]]))\n",
      "(' RFR Prediction: ', array([ 6.68]), 'Actual: ', array([[ 6.1]]))\n",
      "(' RFR Prediction: ', array([ 7.34]), 'Actual: ', array([[ 7.]]))\n",
      "(' RFR Prediction: ', array([ 6.17]), 'Actual: ', array([[ 6.1]]))\n",
      "(' RFR Prediction: ', array([ 4.6]), 'Actual: ', array([[ 7.2]]))\n",
      "(' RFR Prediction: ', array([ 6.66]), 'Actual: ', array([[ 7.3]]))\n",
      "(' RFR Prediction: ', array([ 5.03]), 'Actual: ', array([[ 5.1]]))\n",
      "(' RFR Prediction: ', array([ 6.74]), 'Actual: ', array([[ 6.9]]))\n",
      "(' RFR Prediction: ', array([ 6.89]), 'Actual: ', array([[ 6.6]]))\n",
      "(' RFR Prediction: ', array([ 4.76]), 'Actual: ', array([[ 7.8]]))\n",
      "(' RFR Prediction: ', array([ 5.2]), 'Actual: ', array([[ 5.7]]))\n",
      "(' RFR Prediction: ', array([ 6.83]), 'Actual: ', array([[ 8.1]]))\n",
      "(' RFR Prediction: ', array([ 7.14]), 'Actual: ', array([[ 7.7]]))\n",
      "(' RFR Prediction: ', array([ 5.07]), 'Actual: ', array([[ 5.9]]))\n",
      "(' RFR Prediction: ', array([ 8.13]), 'Actual: ', array([[ 8.2]]))\n",
      "(' RFR Prediction: ', array([ 6.1]), 'Actual: ', array([[ 6.4]]))\n",
      "(' RFR Prediction: ', array([ 7.66]), 'Actual: ', array([[ 6.8]]))\n",
      "(' RFR Prediction: ', array([ 5.59]), 'Actual: ', array([[ 4.8]]))\n",
      "(' RFR Prediction: ', array([ 6.05]), 'Actual: ', array([[ 8.]]))\n",
      "(' RFR Prediction: ', array([ 7.69]), 'Actual: ', array([[ 7.9]]))\n",
      "(' RFR Prediction: ', array([ 6.29]), 'Actual: ', array([[ 6.9]]))\n",
      "(' RFR Prediction: ', array([ 6.42]), 'Actual: ', array([[ 5.6]]))\n",
      "(' RFR Prediction: ', array([ 6.49]), 'Actual: ', array([[ 6.]]))\n",
      "(' RFR Prediction: ', array([ 7.84]), 'Actual: ', array([[ 7.9]]))\n",
      "(' RFR Prediction: ', array([ 7.81]), 'Actual: ', array([[ 7.7]]))\n",
      "(' RFR Prediction: ', array([ 7.2]), 'Actual: ', array([[ 6.2]]))\n",
      "(' RFR Prediction: ', array([ 6.55]), 'Actual: ', array([[ 7.7]]))\n",
      "(' RFR Prediction: ', array([ 7.44]), 'Actual: ', array([[ 6.7]]))\n",
      "(' RFR Prediction: ', array([ 5.33]), 'Actual: ', array([[ 7.8]]))\n",
      "(' RFR Prediction: ', array([ 5.76]), 'Actual: ', array([[ 5.4]]))\n",
      "(' RFR Prediction: ', array([ 6.9]), 'Actual: ', array([[ 6.6]]))\n",
      "(' RFR Prediction: ', array([ 7.24]), 'Actual: ', array([[ 6.4]]))\n",
      "(' RFR Prediction: ', array([ 7.13]), 'Actual: ', array([[ 7.1]]))\n",
      "(' RFR Prediction: ', array([ 6.46]), 'Actual: ', array([[ 5.7]]))\n",
      "(' RFR Prediction: ', array([ 2.91]), 'Actual: ', array([[ 5.9]]))\n",
      "(' RFR Prediction: ', array([ 6.27]), 'Actual: ', array([[ 4.8]]))\n",
      "(' RFR Prediction: ', array([ 5.67]), 'Actual: ', array([[ 7.6]]))\n",
      "(' RFR Prediction: ', array([ 6.52]), 'Actual: ', array([[ 6.4]]))\n",
      "(' RFR Prediction: ', array([ 6.27]), 'Actual: ', array([[ 5.8]]))\n",
      "(' RFR Prediction: ', array([ 6.71]), 'Actual: ', array([[ 5.9]]))\n",
      "(' RFR Prediction: ', array([ 6.64]), 'Actual: ', array([[ 6.5]]))\n",
      "(' RFR Prediction: ', array([ 6.47]), 'Actual: ', array([[ 5.6]]))\n",
      "(' RFR Prediction: ', array([ 6.2]), 'Actual: ', array([[ 6.7]]))\n",
      "(' RFR Prediction: ', array([ 7.06]), 'Actual: ', array([[ 6.8]]))\n",
      "(' RFR Prediction: ', array([ 7.45]), 'Actual: ', array([[ 8.1]]))\n",
      "(' RFR Prediction: ', array([ 6.56]), 'Actual: ', array([[ 6.2]]))\n",
      "(' RFR Prediction: ', array([ 6.56]), 'Actual: ', array([[ 6.9]]))\n",
      "(' RFR Prediction: ', array([ 6.2]), 'Actual: ', array([[ 6.3]]))\n",
      "(' RFR Prediction: ', array([ 6.33]), 'Actual: ', array([[ 5.7]]))\n",
      "(' RFR Prediction: ', array([ 5.76]), 'Actual: ', array([[ 8.]]))\n",
      "(' RFR Prediction: ', array([ 5.68]), 'Actual: ', array([[ 6.4]]))\n",
      "(' RFR Prediction: ', array([ 6.79]), 'Actual: ', array([[ 7.3]]))\n",
      "(' RFR Prediction: ', array([ 4.56]), 'Actual: ', array([[ 8.2]]))\n",
      "(' RFR Prediction: ', array([ 7.43]), 'Actual: ', array([[ 7.8]]))\n",
      "(' RFR Prediction: ', array([ 5.29]), 'Actual: ', array([[ 7.]]))\n",
      "(' RFR Prediction: ', array([ 6.65]), 'Actual: ', array([[ 7.5]]))\n",
      "(' RFR Prediction: ', array([ 5.48]), 'Actual: ', array([[ 5.8]]))\n",
      "(' RFR Prediction: ', array([ 8.12]), 'Actual: ', array([[ 7.2]]))\n",
      "(' RFR Prediction: ', array([ 4.33]), 'Actual: ', array([[ 5.5]]))\n",
      "(' RFR Prediction: ', array([ 6.77]), 'Actual: ', array([[ 6.]]))\n",
      "(' RFR Prediction: ', array([ 5.47]), 'Actual: ', array([[ 5.3]]))\n",
      "(' RFR Prediction: ', array([ 6.65]), 'Actual: ', array([[ 6.2]]))\n",
      "(' RFR Prediction: ', array([ 6.36]), 'Actual: ', array([[ 5.1]]))\n",
      "(' RFR Prediction: ', array([ 5.37]), 'Actual: ', array([[ 5.8]]))\n",
      "(' RFR Prediction: ', array([ 6.64]), 'Actual: ', array([[ 5.6]]))\n",
      "(' RFR Prediction: ', array([ 6.87]), 'Actual: ', array([[ 6.]]))\n",
      "(' RFR Prediction: ', array([ 6.85]), 'Actual: ', array([[ 7.4]]))\n",
      "(' RFR Prediction: ', array([ 7.55]), 'Actual: ', array([[ 8.]]))\n",
      "(' RFR Prediction: ', array([ 6.91]), 'Actual: ', array([[ 7.4]]))\n",
      "(' RFR Prediction: ', array([ 7.03]), 'Actual: ', array([[ 7.]]))\n",
      "(' RFR Prediction: ', array([ 7.33]), 'Actual: ', array([[ 7.3]]))\n",
      "(' RFR Prediction: ', array([ 6.46]), 'Actual: ', array([[ 7.2]]))\n",
      "(' RFR Prediction: ', array([ 6.34]), 'Actual: ', array([[ 7.1]]))\n",
      "(' RFR Prediction: ', array([ 6.34]), 'Actual: ', array([[ 6.5]]))\n",
      "(' RFR Prediction: ', array([ 6.47]), 'Actual: ', array([[ 5.7]]))\n",
      "(' RFR Prediction: ', array([ 6.07]), 'Actual: ', array([[ 7.2]]))\n",
      "(' RFR Prediction: ', array([ 6.75]), 'Actual: ', array([[ 3.7]]))\n",
      "(' RFR Prediction: ', array([ 6.66]), 'Actual: ', array([[ 7.]]))\n",
      "(' RFR Prediction: ', array([ 5.16]), 'Actual: ', array([[ 6.4]]))\n",
      "(' RFR Prediction: ', array([ 8.4]), 'Actual: ', array([[ 8.5]]))\n",
      "(' RFR Prediction: ', array([ 7.45]), 'Actual: ', array([[ 7.7]]))\n",
      "(' RFR Prediction: ', array([ 5.91]), 'Actual: ', array([[ 7.2]]))\n",
      "(' RFR Prediction: ', array([ 6.]), 'Actual: ', array([[ 5.3]]))\n",
      "(' RFR Prediction: ', array([ 6.48]), 'Actual: ', array([[ 6.4]]))\n",
      "(' RFR Prediction: ', array([ 6.09]), 'Actual: ', array([[ 6.6]]))\n",
      "(' RFR Prediction: ', array([ 6.51]), 'Actual: ', array([[ 7.]]))\n",
      "(' RFR Prediction: ', array([ 6.4]), 'Actual: ', array([[ 5.9]]))\n",
      "(' RFR Prediction: ', array([ 7.31]), 'Actual: ', array([[ 7.4]]))\n",
      "(' RFR Prediction: ', array([ 5.85]), 'Actual: ', array([[ 6.8]]))\n",
      "(' RFR Prediction: ', array([ 5.31]), 'Actual: ', array([[ 7.]]))\n",
      "(' RFR Prediction: ', array([ 7.52]), 'Actual: ', array([[ 7.7]]))\n",
      "(' RFR Prediction: ', array([ 6.12]), 'Actual: ', array([[ 4.5]]))\n",
      "(' RFR Prediction: ', array([ 6.76]), 'Actual: ', array([[ 7.4]]))\n",
      "(' RFR Prediction: ', array([ 6.12]), 'Actual: ', array([[ 6.]]))\n",
      "(' RFR Prediction: ', array([ 6.7]), 'Actual: ', array([[ 5.6]]))\n",
      "(' RFR Prediction: ', array([ 5.49]), 'Actual: ', array([[ 6.7]]))\n",
      "(' RFR Prediction: ', array([ 6.39]), 'Actual: ', array([[ 5.3]]))\n",
      "(' RFR Prediction: ', array([ 6.91]), 'Actual: ', array([[ 7.7]]))\n",
      "(' RFR Prediction: ', array([ 5.94]), 'Actual: ', array([[ 5.7]]))\n",
      "(' RFR Prediction: ', array([ 7.54]), 'Actual: ', array([[ 6.9]]))\n",
      "(' RFR Prediction: ', array([ 5.06]), 'Actual: ', array([[ 6.]]))\n",
      "(' RFR Prediction: ', array([ 6.51]), 'Actual: ', array([[ 5.2]]))\n",
      "(' RFR Prediction: ', array([ 7.35]), 'Actual: ', array([[ 7.5]]))\n",
      "(' RFR Prediction: ', array([ 6.09]), 'Actual: ', array([[ 6.]]))\n",
      "(' RFR Prediction: ', array([ 6.64]), 'Actual: ', array([[ 6.8]]))\n",
      "(' RFR Prediction: ', array([ 5.73]), 'Actual: ', array([[ 6.3]]))\n",
      "(' RFR Prediction: ', array([ 6.42]), 'Actual: ', array([[ 7.5]]))\n",
      "(' RFR Prediction: ', array([ 7.25]), 'Actual: ', array([[ 7.8]]))\n",
      "(' RFR Prediction: ', array([ 6.76]), 'Actual: ', array([[ 5.5]]))\n",
      "(' RFR Prediction: ', array([ 7.05]), 'Actual: ', array([[ 6.7]]))\n",
      "(' RFR Prediction: ', array([ 6.56]), 'Actual: ', array([[ 7.1]]))\n",
      "(' RFR Prediction: ', array([ 5.31]), 'Actual: ', array([[ 7.2]]))\n",
      "(' RFR Prediction: ', array([ 6.52]), 'Actual: ', array([[ 5.1]]))\n",
      "(' RFR Prediction: ', array([ 6.49]), 'Actual: ', array([[ 7.5]]))\n",
      "(' RFR Prediction: ', array([ 6.83]), 'Actual: ', array([[ 7.8]]))\n",
      "(' RFR Prediction: ', array([ 5.42]), 'Actual: ', array([[ 6.1]]))\n",
      "(' RFR Prediction: ', array([ 6.15]), 'Actual: ', array([[ 6.1]]))\n",
      "(' RFR Prediction: ', array([ 5.11]), 'Actual: ', array([[ 6.3]]))\n",
      "(' RFR Prediction: ', array([ 6.74]), 'Actual: ', array([[ 7.6]]))\n",
      "(' RFR Prediction: ', array([ 5.6]), 'Actual: ', array([[ 5.4]]))\n",
      "(' RFR Prediction: ', array([ 6.39]), 'Actual: ', array([[ 7.6]]))\n",
      "(' RFR Prediction: ', array([ 7.15]), 'Actual: ', array([[ 6.7]]))\n",
      "(' RFR Prediction: ', array([ 6.71]), 'Actual: ', array([[ 7.2]]))\n",
      "(' RFR Prediction: ', array([ 7.]), 'Actual: ', array([[ 7.7]]))\n",
      "(' RFR Prediction: ', array([ 5.44]), 'Actual: ', array([[ 6.4]]))\n",
      "(' RFR Prediction: ', array([ 6.45]), 'Actual: ', array([[ 7.2]]))\n",
      "(' RFR Prediction: ', array([ 6.44]), 'Actual: ', array([[ 6.8]]))\n",
      "(' RFR Prediction: ', array([ 8.48]), 'Actual: ', array([[ 8.5]]))\n",
      "(' RFR Prediction: ', array([ 7.77]), 'Actual: ', array([[ 6.9]]))\n",
      "(' RFR Prediction: ', array([ 7.04]), 'Actual: ', array([[ 7.3]]))\n",
      "(' RFR Prediction: ', array([ 6.86]), 'Actual: ', array([[ 7.]]))\n",
      "(' RFR Prediction: ', array([ 6.2]), 'Actual: ', array([[ 6.3]]))\n",
      "(' RFR Prediction: ', array([ 6.14]), 'Actual: ', array([[ 5.]]))\n",
      "(' RFR Prediction: ', array([ 6.48]), 'Actual: ', array([[ 7.6]]))\n",
      "(' RFR Prediction: ', array([ 5.32]), 'Actual: ', array([[ 5.1]]))\n",
      "(' RFR Prediction: ', array([ 6.64]), 'Actual: ', array([[ 7.2]]))\n",
      "(' RFR Prediction: ', array([ 5.74]), 'Actual: ', array([[ 5.7]]))\n",
      "(' RFR Prediction: ', array([ 5.01]), 'Actual: ', array([[ 3.3]]))\n",
      "(' RFR Prediction: ', array([ 6.09]), 'Actual: ', array([[ 7.1]]))\n",
      "(' RFR Prediction: ', array([ 5.67]), 'Actual: ', array([[ 7.8]]))\n",
      "(' RFR Prediction: ', array([ 6.38]), 'Actual: ', array([[ 6.4]]))\n",
      "(' RFR Prediction: ', array([ 7.24]), 'Actual: ', array([[ 7.]]))\n",
      "(' RFR Prediction: ', array([ 6.71]), 'Actual: ', array([[ 5.8]]))\n",
      "(' RFR Prediction: ', array([ 5.85]), 'Actual: ', array([[ 5.4]]))\n",
      "(' RFR Prediction: ', array([ 6.64]), 'Actual: ', array([[ 5.5]]))\n",
      "(' RFR Prediction: ', array([ 5.43]), 'Actual: ', array([[ 6.2]]))\n",
      "(' RFR Prediction: ', array([ 5.55]), 'Actual: ', array([[ 5.9]]))\n",
      "(' RFR Prediction: ', array([ 7.78]), 'Actual: ', array([[ 7.6]]))\n",
      "(' RFR Prediction: ', array([ 5.92]), 'Actual: ', array([[ 5.9]]))\n",
      "(' RFR Prediction: ', array([ 6.71]), 'Actual: ', array([[ 6.7]]))\n",
      "(' RFR Prediction: ', array([ 6.76]), 'Actual: ', array([[ 5.8]]))\n",
      "(' RFR Prediction: ', array([ 6.64]), 'Actual: ', array([[ 7.2]]))\n",
      "(' RFR Prediction: ', array([ 6.6]), 'Actual: ', array([[ 6.5]]))\n",
      "(' RFR Prediction: ', array([ 6.6]), 'Actual: ', array([[ 6.5]]))\n",
      "(' RFR Prediction: ', array([ 8.84]), 'Actual: ', array([[ 8.8]]))\n",
      "(' RFR Prediction: ', array([ 6.05]), 'Actual: ', array([[ 5.]]))\n",
      "(' RFR Prediction: ', array([ 5.62]), 'Actual: ', array([[ 7.1]]))\n",
      "(' RFR Prediction: ', array([ 6.28]), 'Actual: ', array([[ 6.3]]))\n",
      "(' RFR Prediction: ', array([ 5.68]), 'Actual: ', array([[ 2.8]]))\n",
      "(' RFR Prediction: ', array([ 7.5]), 'Actual: ', array([[ 6.9]]))\n",
      "(' RFR Prediction: ', array([ 6.7]), 'Actual: ', array([[ 6.4]]))\n",
      "(' RFR Prediction: ', array([ 6.56]), 'Actual: ', array([[ 4.8]]))\n",
      "(' RFR Prediction: ', array([ 6.82]), 'Actual: ', array([[ 6.4]]))\n",
      "(' RFR Prediction: ', array([ 5.99]), 'Actual: ', array([[ 6.5]]))\n",
      "(' RFR Prediction: ', array([ 6.7]), 'Actual: ', array([[ 6.3]]))\n",
      "(' RFR Prediction: ', array([ 6.89]), 'Actual: ', array([[ 7.4]]))\n",
      "(' RFR Prediction: ', array([ 7.53]), 'Actual: ', array([[ 7.5]]))\n",
      "(' RFR Prediction: ', array([ 6.93]), 'Actual: ', array([[ 6.8]]))\n",
      "(' RFR Prediction: ', array([ 6.46]), 'Actual: ', array([[ 7.1]]))\n",
      "(' RFR Prediction: ', array([ 6.96]), 'Actual: ', array([[ 8.1]]))\n",
      "(' RFR Prediction: ', array([ 6.36]), 'Actual: ', array([[ 6.8]]))\n",
      "(' RFR Prediction: ', array([ 6.66]), 'Actual: ', array([[ 7.8]]))\n",
      "(' RFR Prediction: ', array([ 6.7]), 'Actual: ', array([[ 7.3]]))\n",
      "(' RFR Prediction: ', array([ 6.91]), 'Actual: ', array([[ 7.7]]))\n",
      "(' RFR Prediction: ', array([ 6.22]), 'Actual: ', array([[ 6.5]]))\n",
      "(' RFR Prediction: ', array([ 7.23]), 'Actual: ', array([[ 7.2]]))\n",
      "(' RFR Prediction: ', array([ 5.47]), 'Actual: ', array([[ 4.6]]))\n",
      "(' RFR Prediction: ', array([ 5.77]), 'Actual: ', array([[ 6.6]]))\n",
      "(' RFR Prediction: ', array([ 6.76]), 'Actual: ', array([[ 6.8]]))\n",
      "(' RFR Prediction: ', array([ 6.73]), 'Actual: ', array([[ 6.1]]))\n",
      "(' RFR Prediction: ', array([ 6.13]), 'Actual: ', array([[ 6.]]))\n",
      "(' RFR Prediction: ', array([ 7.22]), 'Actual: ', array([[ 8.1]]))\n",
      "(' RFR Prediction: ', array([ 6.78]), 'Actual: ', array([[ 6.8]]))\n",
      "(' RFR Prediction: ', array([ 6.85]), 'Actual: ', array([[ 6.7]]))\n",
      "(' RFR Prediction: ', array([ 5.89]), 'Actual: ', array([[ 4.5]]))\n",
      "(' RFR Prediction: ', array([ 6.54]), 'Actual: ', array([[ 6.7]]))\n",
      "(' RFR Prediction: ', array([ 6.34]), 'Actual: ', array([[ 6.7]]))\n",
      "(' RFR Prediction: ', array([ 6.81]), 'Actual: ', array([[ 7.2]]))\n",
      "(' RFR Prediction: ', array([ 6.56]), 'Actual: ', array([[ 6.4]]))\n",
      "(' RFR Prediction: ', array([ 6.01]), 'Actual: ', array([[ 6.3]]))\n",
      "(' RFR Prediction: ', array([ 7.11]), 'Actual: ', array([[ 6.9]]))\n",
      "(' RFR Prediction: ', array([ 6.68]), 'Actual: ', array([[ 5.6]]))\n",
      "(' RFR Prediction: ', array([ 6.61]), 'Actual: ', array([[ 6.9]]))\n",
      "(' RFR Prediction: ', array([ 7.85]), 'Actual: ', array([[ 7.]]))\n",
      "(' RFR Prediction: ', array([ 8.28]), 'Actual: ', array([[ 8.4]]))\n",
      "(' RFR Prediction: ', array([ 5.95]), 'Actual: ', array([[ 5.9]]))\n",
      "(' RFR Prediction: ', array([ 6.96]), 'Actual: ', array([[ 6.5]]))\n",
      "(' RFR Prediction: ', array([ 7.11]), 'Actual: ', array([[ 4.6]]))\n",
      "(' RFR Prediction: ', array([ 6.74]), 'Actual: ', array([[ 6.4]]))\n",
      "(' RFR Prediction: ', array([ 6.71]), 'Actual: ', array([[ 7.]]))\n",
      "(' RFR Prediction: ', array([ 5.82]), 'Actual: ', array([[ 7.1]]))\n",
      "(' RFR Prediction: ', array([ 6.53]), 'Actual: ', array([[ 7.3]]))\n",
      "(' RFR Prediction: ', array([ 6.81]), 'Actual: ', array([[ 7.]]))\n",
      "(' RFR Prediction: ', array([ 6.61]), 'Actual: ', array([[ 7.]]))\n",
      "(' RFR Prediction: ', array([ 7.23]), 'Actual: ', array([[ 6.1]]))\n",
      "(' RFR Prediction: ', array([ 6.15]), 'Actual: ', array([[ 4.7]]))\n",
      "(' RFR Prediction: ', array([ 6.99]), 'Actual: ', array([[ 7.6]]))\n",
      "(' RFR Prediction: ', array([ 5.52]), 'Actual: ', array([[ 5.9]]))\n",
      "(' RFR Prediction: ', array([ 6.54]), 'Actual: ', array([[ 7.5]]))\n",
      "(' RFR Prediction: ', array([ 6.24]), 'Actual: ', array([[ 5.8]]))\n",
      "(' RFR Prediction: ', array([ 4.45]), 'Actual: ', array([[ 5.5]]))\n",
      "(' RFR Prediction: ', array([ 6.47]), 'Actual: ', array([[ 6.6]]))\n",
      "(' RFR Prediction: ', array([ 5.05]), 'Actual: ', array([[ 6.9]]))\n",
      "(' RFR Prediction: ', array([ 6.64]), 'Actual: ', array([[ 6.6]]))\n",
      "(' RFR Prediction: ', array([ 8.24]), 'Actual: ', array([[ 7.7]]))\n",
      "(' RFR Prediction: ', array([ 5.84]), 'Actual: ', array([[ 5.8]]))\n",
      "(' RFR Prediction: ', array([ 6.26]), 'Actual: ', array([[ 6.3]]))\n",
      "(' RFR Prediction: ', array([ 4.95]), 'Actual: ', array([[ 7.1]]))\n",
      "(' RFR Prediction: ', array([ 6.4]), 'Actual: ', array([[ 6.2]]))\n",
      "(' RFR Prediction: ', array([ 6.17]), 'Actual: ', array([[ 7.2]]))\n",
      "(' RFR Prediction: ', array([ 5.06]), 'Actual: ', array([[ 5.6]]))\n",
      "(' RFR Prediction: ', array([ 6.84]), 'Actual: ', array([[ 7.1]]))\n",
      "(' RFR Prediction: ', array([ 5.33]), 'Actual: ', array([[ 6.3]]))\n",
      "(' RFR Prediction: ', array([ 6.32]), 'Actual: ', array([[ 7.]]))\n",
      "(' RFR Prediction: ', array([ 6.14]), 'Actual: ', array([[ 7.4]]))\n",
      "(' RFR Prediction: ', array([ 6.21]), 'Actual: ', array([[ 7.]]))\n",
      "(' RFR Prediction: ', array([ 6.81]), 'Actual: ', array([[ 6.9]]))\n",
      "(' RFR Prediction: ', array([ 5.6]), 'Actual: ', array([[ 5.4]]))\n",
      "(' RFR Prediction: ', array([ 5.82]), 'Actual: ', array([[ 7.9]]))\n",
      "(' RFR Prediction: ', array([ 5.51]), 'Actual: ', array([[ 5.5]]))\n",
      "(' RFR Prediction: ', array([ 6.]), 'Actual: ', array([[ 6.]]))\n",
      "(' RFR Prediction: ', array([ 6.75]), 'Actual: ', array([[ 6.1]]))\n",
      "(' RFR Prediction: ', array([ 5.49]), 'Actual: ', array([[ 6.7]]))\n",
      "(' RFR Prediction: ', array([ 5.45]), 'Actual: ', array([[ 4.9]]))\n",
      "(' RFR Prediction: ', array([ 6.8]), 'Actual: ', array([[ 6.6]]))\n",
      "(' RFR Prediction: ', array([ 4.91]), 'Actual: ', array([[ 5.2]]))\n",
      "(' RFR Prediction: ', array([ 6.6]), 'Actual: ', array([[ 7.]]))\n",
      "(' RFR Prediction: ', array([ 6.79]), 'Actual: ', array([[ 6.2]]))\n",
      "(' RFR Prediction: ', array([ 6.74]), 'Actual: ', array([[ 6.6]]))\n",
      "(' RFR Prediction: ', array([ 6.53]), 'Actual: ', array([[ 5.9]]))\n",
      "(' RFR Prediction: ', array([ 6.49]), 'Actual: ', array([[ 6.9]]))\n",
      "(' RFR Prediction: ', array([ 6.48]), 'Actual: ', array([[ 7.7]]))\n",
      "(' RFR Prediction: ', array([ 7.95]), 'Actual: ', array([[ 6.9]]))\n"
     ]
    }
   ],
   "source": [
    "P = y_validation2.as_matrix()\n",
    "for i in range(0,338):\n",
    "    XYZ = np.array(RF2_set.iloc[i])\n",
    "    rf_dp = model_rf8.predict(XYZ)\n",
    "    print(\" RFR Prediction: \",rf_dp, \"Actual: \", P[i:(i+1)])"
   ]
  },
  {
   "cell_type": "code",
   "execution_count": 313,
   "metadata": {
    "collapsed": false
   },
   "outputs": [],
   "source": [
    "#model_rf6_validation_err = ((model_rf6.predict(X_validation1[['num_voted_users','movie_facebook_likes','duration','num_critic_for_reviews','num_user_for_reviews','director_facebook_likes']]) - y_validation1)**2).mean()[0]\n",
    "\n",
    "temp_rf_val = model_rf8.predict(X_validation2[['num_voted_users','duration']])\n",
    "MatVal = y_validation2.as_matrix()\n",
    "model_rf8_validation_err = ((temp_rf_val - MatVal)**2).mean()"
   ]
  },
  {
   "cell_type": "code",
   "execution_count": 314,
   "metadata": {
    "collapsed": false
   },
   "outputs": [
    {
     "data": {
      "text/plain": [
       "1.6063047564861177"
      ]
     },
     "execution_count": 314,
     "metadata": {},
     "output_type": "execute_result"
    }
   ],
   "source": [
    "model_rf8_validation_err"
   ]
  },
  {
   "cell_type": "code",
   "execution_count": 316,
   "metadata": {
    "collapsed": false
   },
   "outputs": [
    {
     "name": "stdout",
     "output_type": "stream",
     "text": [
      "Enter your num_voted_users1 12412\n",
      "Enter your movie_facebook_likes1 124124\n",
      "Enter your duration1 123123\n",
      "Enter your num_critic_for_reviews1 123123\n",
      "Enter your num_user_for_reviews1 123123123\n",
      "Enter your director_facebook_likes1 123123\n",
      "('Your Movie Prediction is (RF: ', array([ 4.58]))\n"
     ]
    }
   ],
   "source": [
    "num_voted_users1 = float(input(\"Enter your num_voted_users1 \"))\n",
    "movie_facebook_likes1 = float(input(\"Enter your movie_facebook_likes1 \"))\n",
    "duration1 = float(input(\"Enter your duration1 \"))\n",
    "num_critic_for_reviews1 = float(input(\"Enter your num_critic_for_reviews1 \"))\n",
    "num_user_for_reviews1 = float(input(\"Enter your num_user_for_reviews1 \"))\n",
    "director_facebook_likes1 = float(input(\"Enter your director_facebook_likes1 \"))\n",
    "XYZ1 = [num_voted_users1, movie_facebook_likes1, duration1, num_critic_for_reviews1, num_user_for_reviews1, director_facebook_likes1]\n",
    "XYZ1 = np.array([XYZ1])\n",
    "#XYZ = XYZ.reshape(len(XYZ),1)\n",
    "rf_dp = model_rf3.predict(XYZ1)\n",
    "print(\"Your Movie Prediction is (RF: \",rf_dp)"
   ]
  },
  {
   "cell_type": "code",
   "execution_count": 320,
   "metadata": {
    "collapsed": false
   },
   "outputs": [
    {
     "name": "stdout",
     "output_type": "stream",
     "text": [
      "Enter your num_voted_users1:12345\n",
      "Enter your movie_facebook_likes1: 0\n",
      "Enter your duration1: 121\n",
      "Enter your num_critic_for_reviews1: 1234\n",
      "Enter your num_user_for_reviews1: 2345\n",
      "Enter your director_facebook_likes1: 1811\n",
      "('Your Movie Prediction is (Linear Regression: ', array([[ 6.55795225]]))\n"
     ]
    }
   ],
   "source": [
    "num_voted_users1 = float(input(\"Enter your num_voted_users1:\"))\n",
    "movie_facebook_likes1 = float(input(\"Enter your movie_facebook_likes1: \"))\n",
    "duration1 = float(input(\"Enter your duration1: \"))\n",
    "num_critic_for_reviews1 = float(input(\"Enter your num_critic_for_reviews1: \"))\n",
    "num_user_for_reviews1 = float(input(\"Enter your num_user_for_reviews1: \"))\n",
    "director_facebook_likes1 = float(input(\"Enter your director_facebook_likes1: \"))\n",
    "XYZ = [num_voted_users1, movie_facebook_likes1, duration1, num_critic_for_reviews1, num_user_for_reviews1, director_facebook_likes1]\n",
    "XYZ = np.array([XYZ])\n",
    "#XYZ = XYZ.reshape(len(XYZ),1)\n",
    "lr_dp = model12.predict(XYZ)\n",
    "print(\"Your Movie Prediction is (Linear Regression: \",lr_dp)"
   ]
  },
  {
   "cell_type": "code",
   "execution_count": null,
   "metadata": {
    "collapsed": true
   },
   "outputs": [],
   "source": []
  }
 ],
 "metadata": {
  "anaconda-cloud": {},
  "kernelspec": {
   "display_name": "Python [Root]",
   "language": "python",
   "name": "Python [Root]"
  },
  "language_info": {
   "codemirror_mode": {
    "name": "ipython",
    "version": 2
   },
   "file_extension": ".py",
   "mimetype": "text/x-python",
   "name": "python",
   "nbconvert_exporter": "python",
   "pygments_lexer": "ipython2",
   "version": "2.7.12"
  }
 },
 "nbformat": 4,
 "nbformat_minor": 0
}
